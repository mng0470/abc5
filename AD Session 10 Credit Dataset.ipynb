{
 "cells": [
  {
   "cell_type": "markdown",
   "id": "0db4fb49",
   "metadata": {},
   "source": [
    "Welcome to session 10\n",
    "\n",
    "In this session, you will learn about how to creat a multi-layer classification network for credit scores and how different variables like\n",
    "- Optimizer used\n",
    "- Batch size\n",
    "- Learning rate\n",
    "- Number epochs \n",
    "affects the loss and accuracy of the network."
   ]
  },
  {
   "cell_type": "code",
   "execution_count": 1,
   "id": "d08cc3d9",
   "metadata": {},
   "outputs": [],
   "source": [
    "#Imports using Pkg\n",
    "using Pkg\n",
    "function addpkg()\n",
    "    Pkg.add(\"Flux\")\n",
    "    Pkg.add(\"XLSX\")\n",
    "    Pkg.add(\"DataFrames\")\n",
    "    Pkg.add(\"Plots\")\n",
    "    Pkg.add(\"Random\")\n",
    "end\n",
    "\n",
    "#addpkg()\n",
    "\n",
    "using Flux\n",
    "using Flux.Data: DataLoader\n",
    "using Flux: onehotbatch, onecold, @epochs\n",
    "using Flux.Losses: logitcrossentropy\n",
    "using Base: @kwdef\n",
    "using XLSX\n",
    "using DataFrames\n",
    "using Plots\n",
    "using Random"
   ]
  },
  {
   "cell_type": "markdown",
   "id": "4faf6d38-0a6f-46bc-9fb4-93db3d786b8d",
   "metadata": {},
   "source": [
    "# Import data"
   ]
  },
  {
   "cell_type": "code",
   "execution_count": 2,
   "id": "28316f67",
   "metadata": {},
   "outputs": [
    {
     "data": {
      "text/html": [
       "<div class=\"data-frame\"><p>36,457 rows × 16 columns (omitted printing of 7 columns)</p><table class=\"data-frame\"><thead><tr><th></th><th>ID</th><th>Gender</th><th>Car</th><th>Reality</th><th>ChldNo</th><th>inc</th><th>DAYS_BIRTH</th><th>DAYS_EMPLOYED</th><th>FLAG_MOBIL</th></tr><tr><th></th><th title=\"Any\">Any</th><th title=\"Any\">Any</th><th title=\"Any\">Any</th><th title=\"Any\">Any</th><th title=\"Any\">Any</th><th title=\"Any\">Any</th><th title=\"Any\">Any</th><th title=\"Any\">Any</th><th title=\"Any\">Any</th></tr></thead><tbody><tr><th>1</th><td>5008804</td><td>1</td><td>1</td><td>1</td><td>0</td><td>0.258721</td><td>0.744324</td><td>0.0293236</td><td>1</td></tr><tr><th>2</th><td>5008805</td><td>1</td><td>1</td><td>1</td><td>0</td><td>0.258721</td><td>0.744324</td><td>0.0293236</td><td>1</td></tr><tr><th>3</th><td>5008806</td><td>1</td><td>1</td><td>1</td><td>0</td><td>0.0552326</td><td>0.208232</td><td>0.0382695</td><td>1</td></tr><tr><th>4</th><td>5008808</td><td>0</td><td>0</td><td>1</td><td>0</td><td>0.156977</td><td>0.342071</td><td>0.0332374</td><td>1</td></tr><tr><th>5</th><td>5008809</td><td>0</td><td>0</td><td>1</td><td>0</td><td>0.156977</td><td>0.342071</td><td>0.0332374</td><td>1</td></tr><tr><th>6</th><td>5008810</td><td>0</td><td>0</td><td>1</td><td>0</td><td>0.156977</td><td>0.342071</td><td>0.0332374</td><td>1</td></tr><tr><th>7</th><td>5008811</td><td>0</td><td>0</td><td>1</td><td>0</td><td>0.156977</td><td>0.342071</td><td>0.0332374</td><td>1</td></tr><tr><th>8</th><td>5008812</td><td>0</td><td>0</td><td>1</td><td>0</td><td>0.165698</td><td>0.152183</td><td>1</td><td>1</td></tr><tr><th>9</th><td>5008813</td><td>0</td><td>0</td><td>1</td><td>0</td><td>0.165698</td><td>0.152183</td><td>1</td><td>1</td></tr><tr><th>10</th><td>5008814</td><td>0</td><td>0</td><td>1</td><td>0</td><td>0.165698</td><td>0.152183</td><td>1</td><td>1</td></tr><tr><th>11</th><td>5008815</td><td>1</td><td>1</td><td>1</td><td>0</td><td>0.156977</td><td>0.468777</td><td>0.0392276</td><td>1</td></tr><tr><th>12</th><td>5112956</td><td>1</td><td>1</td><td>1</td><td>0</td><td>0.156977</td><td>0.468777</td><td>0.0392276</td><td>1</td></tr><tr><th>13</th><td>5008819</td><td>1</td><td>1</td><td>1</td><td>0</td><td>0.0697674</td><td>0.417483</td><td>0.038112</td><td>1</td></tr><tr><th>14</th><td>5008820</td><td>1</td><td>1</td><td>1</td><td>0</td><td>0.0697674</td><td>0.417483</td><td>0.038112</td><td>1</td></tr><tr><th>15</th><td>5008821</td><td>1</td><td>1</td><td>1</td><td>0</td><td>0.0697674</td><td>0.417483</td><td>0.038112</td><td>1</td></tr><tr><th>16</th><td>5008822</td><td>1</td><td>1</td><td>1</td><td>0</td><td>0.0697674</td><td>0.417483</td><td>0.038112</td><td>1</td></tr><tr><th>17</th><td>5008823</td><td>1</td><td>1</td><td>1</td><td>0</td><td>0.0697674</td><td>0.417483</td><td>0.038112</td><td>1</td></tr><tr><th>18</th><td>5008824</td><td>1</td><td>1</td><td>1</td><td>0</td><td>0.0697674</td><td>0.417483</td><td>0.038112</td><td>1</td></tr><tr><th>19</th><td>5008825</td><td>0</td><td>1</td><td>0</td><td>0</td><td>0.0668605</td><td>0.819963</td><td>0.0383509</td><td>1</td></tr><tr><th>20</th><td>5008826</td><td>0</td><td>1</td><td>0</td><td>0</td><td>0.0668605</td><td>0.819963</td><td>0.0383509</td><td>1</td></tr><tr><th>21</th><td>5008830</td><td>0</td><td>0</td><td>1</td><td>0</td><td>0.0843023</td><td>0.856083</td><td>0.0373901</td><td>1</td></tr><tr><th>22</th><td>5008831</td><td>0</td><td>0</td><td>1</td><td>0</td><td>0.0843023</td><td>0.856083</td><td>0.0373901</td><td>1</td></tr><tr><th>23</th><td>5008832</td><td>0</td><td>0</td><td>1</td><td>0</td><td>0.0843023</td><td>0.856083</td><td>0.0373901</td><td>1</td></tr><tr><th>24</th><td>5008834</td><td>0</td><td>0</td><td>1</td><td>1</td><td>0.0552326</td><td>0.803035</td><td>0.0369938</td><td>1</td></tr><tr><th>25</th><td>5008835</td><td>0</td><td>0</td><td>1</td><td>1</td><td>0.0552326</td><td>0.803035</td><td>0.0369938</td><td>1</td></tr><tr><th>26</th><td>5008836</td><td>1</td><td>1</td><td>1</td><td>3</td><td>0.156977</td><td>0.705599</td><td>0.0381934</td><td>1</td></tr><tr><th>27</th><td>5008837</td><td>1</td><td>1</td><td>1</td><td>3</td><td>0.156977</td><td>0.705599</td><td>0.0381934</td><td>1</td></tr><tr><th>28</th><td>5008838</td><td>1</td><td>0</td><td>1</td><td>1</td><td>0.244186</td><td>0.753553</td><td>0.0359543</td><td>1</td></tr><tr><th>29</th><td>5008839</td><td>1</td><td>0</td><td>1</td><td>1</td><td>0.244186</td><td>0.753553</td><td>0.0359543</td><td>1</td></tr><tr><th>30</th><td>5008840</td><td>1</td><td>0</td><td>1</td><td>1</td><td>0.244186</td><td>0.753553</td><td>0.0359543</td><td>1</td></tr><tr><th>&vellip;</th><td>&vellip;</td><td>&vellip;</td><td>&vellip;</td><td>&vellip;</td><td>&vellip;</td><td>&vellip;</td><td>&vellip;</td><td>&vellip;</td><td>&vellip;</td></tr></tbody></table></div>"
      ],
      "text/latex": [
       "\\begin{tabular}{r|cccccccccc}\n",
       "\t& ID & Gender & Car & Reality & ChldNo & inc & DAYS\\_BIRTH & DAYS\\_EMPLOYED & FLAG\\_MOBIL & \\\\\n",
       "\t\\hline\n",
       "\t& Any & Any & Any & Any & Any & Any & Any & Any & Any & \\\\\n",
       "\t\\hline\n",
       "\t1 & 5008804 & 1 & 1 & 1 & 0 & 0.258721 & 0.744324 & 0.0293236 & 1 & $\\dots$ \\\\\n",
       "\t2 & 5008805 & 1 & 1 & 1 & 0 & 0.258721 & 0.744324 & 0.0293236 & 1 & $\\dots$ \\\\\n",
       "\t3 & 5008806 & 1 & 1 & 1 & 0 & 0.0552326 & 0.208232 & 0.0382695 & 1 & $\\dots$ \\\\\n",
       "\t4 & 5008808 & 0 & 0 & 1 & 0 & 0.156977 & 0.342071 & 0.0332374 & 1 & $\\dots$ \\\\\n",
       "\t5 & 5008809 & 0 & 0 & 1 & 0 & 0.156977 & 0.342071 & 0.0332374 & 1 & $\\dots$ \\\\\n",
       "\t6 & 5008810 & 0 & 0 & 1 & 0 & 0.156977 & 0.342071 & 0.0332374 & 1 & $\\dots$ \\\\\n",
       "\t7 & 5008811 & 0 & 0 & 1 & 0 & 0.156977 & 0.342071 & 0.0332374 & 1 & $\\dots$ \\\\\n",
       "\t8 & 5008812 & 0 & 0 & 1 & 0 & 0.165698 & 0.152183 & 1 & 1 & $\\dots$ \\\\\n",
       "\t9 & 5008813 & 0 & 0 & 1 & 0 & 0.165698 & 0.152183 & 1 & 1 & $\\dots$ \\\\\n",
       "\t10 & 5008814 & 0 & 0 & 1 & 0 & 0.165698 & 0.152183 & 1 & 1 & $\\dots$ \\\\\n",
       "\t11 & 5008815 & 1 & 1 & 1 & 0 & 0.156977 & 0.468777 & 0.0392276 & 1 & $\\dots$ \\\\\n",
       "\t12 & 5112956 & 1 & 1 & 1 & 0 & 0.156977 & 0.468777 & 0.0392276 & 1 & $\\dots$ \\\\\n",
       "\t13 & 5008819 & 1 & 1 & 1 & 0 & 0.0697674 & 0.417483 & 0.038112 & 1 & $\\dots$ \\\\\n",
       "\t14 & 5008820 & 1 & 1 & 1 & 0 & 0.0697674 & 0.417483 & 0.038112 & 1 & $\\dots$ \\\\\n",
       "\t15 & 5008821 & 1 & 1 & 1 & 0 & 0.0697674 & 0.417483 & 0.038112 & 1 & $\\dots$ \\\\\n",
       "\t16 & 5008822 & 1 & 1 & 1 & 0 & 0.0697674 & 0.417483 & 0.038112 & 1 & $\\dots$ \\\\\n",
       "\t17 & 5008823 & 1 & 1 & 1 & 0 & 0.0697674 & 0.417483 & 0.038112 & 1 & $\\dots$ \\\\\n",
       "\t18 & 5008824 & 1 & 1 & 1 & 0 & 0.0697674 & 0.417483 & 0.038112 & 1 & $\\dots$ \\\\\n",
       "\t19 & 5008825 & 0 & 1 & 0 & 0 & 0.0668605 & 0.819963 & 0.0383509 & 1 & $\\dots$ \\\\\n",
       "\t20 & 5008826 & 0 & 1 & 0 & 0 & 0.0668605 & 0.819963 & 0.0383509 & 1 & $\\dots$ \\\\\n",
       "\t21 & 5008830 & 0 & 0 & 1 & 0 & 0.0843023 & 0.856083 & 0.0373901 & 1 & $\\dots$ \\\\\n",
       "\t22 & 5008831 & 0 & 0 & 1 & 0 & 0.0843023 & 0.856083 & 0.0373901 & 1 & $\\dots$ \\\\\n",
       "\t23 & 5008832 & 0 & 0 & 1 & 0 & 0.0843023 & 0.856083 & 0.0373901 & 1 & $\\dots$ \\\\\n",
       "\t24 & 5008834 & 0 & 0 & 1 & 1 & 0.0552326 & 0.803035 & 0.0369938 & 1 & $\\dots$ \\\\\n",
       "\t25 & 5008835 & 0 & 0 & 1 & 1 & 0.0552326 & 0.803035 & 0.0369938 & 1 & $\\dots$ \\\\\n",
       "\t26 & 5008836 & 1 & 1 & 1 & 3 & 0.156977 & 0.705599 & 0.0381934 & 1 & $\\dots$ \\\\\n",
       "\t27 & 5008837 & 1 & 1 & 1 & 3 & 0.156977 & 0.705599 & 0.0381934 & 1 & $\\dots$ \\\\\n",
       "\t28 & 5008838 & 1 & 0 & 1 & 1 & 0.244186 & 0.753553 & 0.0359543 & 1 & $\\dots$ \\\\\n",
       "\t29 & 5008839 & 1 & 0 & 1 & 1 & 0.244186 & 0.753553 & 0.0359543 & 1 & $\\dots$ \\\\\n",
       "\t30 & 5008840 & 1 & 0 & 1 & 1 & 0.244186 & 0.753553 & 0.0359543 & 1 & $\\dots$ \\\\\n",
       "\t$\\dots$ & $\\dots$ & $\\dots$ & $\\dots$ & $\\dots$ & $\\dots$ & $\\dots$ & $\\dots$ & $\\dots$ & $\\dots$ &  \\\\\n",
       "\\end{tabular}\n"
      ],
      "text/plain": [
       "\u001b[1m36457×16 DataFrame\u001b[0m\n",
       "\u001b[1m   Row \u001b[0m│\u001b[1m ID      \u001b[0m\u001b[1m Gender \u001b[0m\u001b[1m Car \u001b[0m\u001b[1m Reality \u001b[0m\u001b[1m ChldNo \u001b[0m\u001b[1m inc       \u001b[0m\u001b[1m DAYS_BIRTH \u001b[0m\u001b[1m DAYS_EM\u001b[0m ⋯\n",
       "\u001b[1m       \u001b[0m│\u001b[90m Any     \u001b[0m\u001b[90m Any    \u001b[0m\u001b[90m Any \u001b[0m\u001b[90m Any     \u001b[0m\u001b[90m Any    \u001b[0m\u001b[90m Any       \u001b[0m\u001b[90m Any        \u001b[0m\u001b[90m Any    \u001b[0m ⋯\n",
       "───────┼────────────────────────────────────────────────────────────────────────\n",
       "     1 │ 5008804  1       1    1        0       0.258721   0.744324    0.02932 ⋯\n",
       "     2 │ 5008805  1       1    1        0       0.258721   0.744324    0.02932\n",
       "     3 │ 5008806  1       1    1        0       0.0552326  0.208232    0.03826\n",
       "     4 │ 5008808  0       0    1        0       0.156977   0.342071    0.03323\n",
       "     5 │ 5008809  0       0    1        0       0.156977   0.342071    0.03323 ⋯\n",
       "     6 │ 5008810  0       0    1        0       0.156977   0.342071    0.03323\n",
       "     7 │ 5008811  0       0    1        0       0.156977   0.342071    0.03323\n",
       "     8 │ 5008812  0       0    1        0       0.165698   0.152183    1\n",
       "     9 │ 5008813  0       0    1        0       0.165698   0.152183    1       ⋯\n",
       "    10 │ 5008814  0       0    1        0       0.165698   0.152183    1\n",
       "    11 │ 5008815  1       1    1        0       0.156977   0.468777    0.03922\n",
       "   ⋮   │    ⋮       ⋮      ⋮      ⋮       ⋮         ⋮          ⋮             ⋮ ⋱\n",
       " 36448 │ 5149145  1       1    1        0       0.142442   0.80394     0.03185\n",
       " 36449 │ 5149158  1       1    1        0       0.142442   0.80394     0.03185 ⋯\n",
       " 36450 │ 5149190  1       1    0        1       0.273256   0.866501    0.03992\n",
       " 36451 │ 5149729  1       1    1        0       0.0406977  0.342581    0.03672\n",
       " 36452 │ 5149775  0       1    1        0       0.0668605  0.510389    0.01659\n",
       " 36453 │ 5149828  1       1    1        0       0.186047   0.441828    0.03489 ⋯\n",
       " 36454 │ 5149834  0       0    1        0       0.0843023  0.722697    0.03776\n",
       " 36455 │ 5149838  0       0    1        0       0.0843023  0.722697    0.03776\n",
       " 36456 │ 5150049  0       0    1        0       0.165698   0.407292    0.03952\n",
       " 36457 │ 5150337  1       0    1        0       0.0552326  0.90381     0.03811 ⋯\n",
       "\u001b[36m                                                9 columns and 36436 rows omitted\u001b[0m"
      ]
     },
     "execution_count": 2,
     "metadata": {},
     "output_type": "execute_result"
    }
   ],
   "source": [
    "#Import dataframe from the excel file we modified previously on the credit score\n",
    "df = DataFrames.DataFrame(XLSX.readtable(\"ModifiedData.xlsx\", \"NonString\")...)"
   ]
  },
  {
   "cell_type": "markdown",
   "id": "2f1709bd-f7d9-4c6f-a4aa-9084e83e6b39",
   "metadata": {},
   "source": [
    "# Process data into dataloader\n",
    "\n",
    "First the data is splited into features (design matrix) and target.\n",
    "\n",
    "Then the data is splited into train dataset and test dataset\n",
    "\n",
    "Finally the data is loaded into the dataloader for mini-batch training"
   ]
  },
  {
   "cell_type": "code",
   "execution_count": 3,
   "id": "dc99e4c9",
   "metadata": {},
   "outputs": [
    {
     "data": {
      "text/plain": [
       "getdata (generic function with 1 method)"
      ]
     },
     "execution_count": 3,
     "metadata": {},
     "output_type": "execute_result"
    }
   ],
   "source": [
    "function getdata(args)\n",
    "    # Split into design matrix and target vector\n",
    "\n",
    "    # X extracts the input features\n",
    "    # You may extract range of columns \n",
    "    X = df[:, 2:14] # extract column 2 to 14\n",
    "    # or you may extract certain features \n",
    "    # X = df[:, [:Gender, :Car, :Reality]] # only extract \"Gender\", \"Car\", \"Reality\"\n",
    "    design_matrix = Matrix(X)    \n",
    "    design_matrix = convert(Array{Float32}, design_matrix) # Flux only accepts Float32\n",
    "    \n",
    "    # y extract the target vector containing 1s to 0s in column 15\n",
    "    y = df[:, :target]  # Target vector\n",
    "    \n",
    "    # Split into training and testing\n",
    "    train_size = 0.80 # 80% of the dataset is used in training\n",
    "    data_size = size(design_matrix)[1]\n",
    "\n",
    "    train_index = trunc(Int, train_size * data_size)\n",
    "\n",
    "    # Split using the desired train size\n",
    "    xtrain = design_matrix[1:train_index, :]\n",
    "    xtest = design_matrix[train_index+1:end, :]\n",
    "\n",
    "    ytrain = y[1:train_index]\n",
    "    ytest = y[train_index+1:end]  \n",
    "\n",
    "    # Reshape Data in order to flatten each image into a linear array\n",
    "    xtrain = transpose(xtrain)\n",
    "    xtest = transpose(xtest)\n",
    "\n",
    "    # One-hot-encode the labels for 0 and 1\n",
    "    ytrain, ytest = onehotbatch(ytrain, 0:1), onehotbatch(ytest, 0:1)\n",
    "\n",
    "    # Create DataLoaders (mini-batch iterators)\n",
    "    train_loader = DataLoader((xtrain, ytrain), batchsize=args.batchsize, shuffle=true)\n",
    "    test_loader = DataLoader((xtest, ytest), batchsize=args.batchsize)\n",
    "    inputsize = size(design_matrix)[2]\n",
    "    return train_loader, test_loader, inputsize\n",
    "end"
   ]
  },
  {
   "cell_type": "markdown",
   "id": "4a75dd4a-17f8-421a-9948-0490f3257593",
   "metadata": {},
   "source": [
    "# Build model\n",
    "\n",
    "The function returns a model (hypothesis).\n",
    "\n",
    "- isize: number of node in input layer\n",
    "- hsize: number of node in hidden layer\n",
    "\n",
    "Note that when hsize = 1, the hidden layer have only one node, and the model is essentially logistic regression"
   ]
  },
  {
   "cell_type": "code",
   "execution_count": 4,
   "id": "efced401-6332-4ab6-a358-9c334b0aae2f",
   "metadata": {},
   "outputs": [
    {
     "data": {
      "text/plain": [
       "build_model (generic function with 1 method)"
      ]
     },
     "execution_count": 4,
     "metadata": {},
     "output_type": "execute_result"
    }
   ],
   "source": [
    "# isize: number of node in input layer\n",
    "# hsize: number of node in hidden layer. \n",
    "\n",
    "function build_model(isize,hsize)\n",
    "    return Chain(\n",
    "            Dense(isize, hsize, sigmoid, init=Flux.glorot_normal),\n",
    "            Dense(hsize, 2, init=Flux.glorot_normal))\n",
    "end"
   ]
  },
  {
   "cell_type": "markdown",
   "id": "b02c163a-df9a-49ab-8882-e98afec7728d",
   "metadata": {},
   "source": [
    "# Loss and accuracy\n",
    "\n",
    "Return the performance of a model\n",
    "\n",
    "Note that \"loss\" is same as the \"cost\" in cost function"
   ]
  },
  {
   "cell_type": "code",
   "execution_count": 5,
   "id": "25148d60",
   "metadata": {},
   "outputs": [
    {
     "data": {
      "text/plain": [
       "loss_and_accuracy (generic function with 1 method)"
      ]
     },
     "execution_count": 5,
     "metadata": {},
     "output_type": "execute_result"
    }
   ],
   "source": [
    "function loss_and_accuracy(data_loader, model) # note that \"loss\" is same as \"cost\" in cost function\n",
    "    acc = 0\n",
    "    tp = 0\n",
    "    fp = 0\n",
    "    tn = 0\n",
    "    fn = 0\n",
    "    ls = 0.0f0\n",
    "    num = 0\n",
    "\n",
    "    for (x, y) in data_loader\n",
    "        ls += logitcrossentropy(model(x), y, agg=sum) # logitcrossentropy is the cost function\n",
    "        acc += sum(onecold(model(x)) .== onecold(y))\n",
    "        tp += sum(onecold(model(x)) .== onecold(y) .==1)    # true positive\n",
    "        fp += sum(onecold(model(x)) .> onecold(y))          # false positive\n",
    "        tn += sum(onecold(model(x)) .== onecold(y) .==0)    # true negative\n",
    "        fn += sum(onecold(model(x)) .< onecold(y))          # false negative\n",
    "        num +=  size(x, 2)\n",
    "    end\n",
    "    precision = tp/(tp+fp)\n",
    "    recall = tp/(tp+fn)\n",
    "    f1 = 2*precision*recall / (precision+recall)\n",
    "    return hcat(ls / num, acc / num, f1, precision, recall)\n",
    "end"
   ]
  },
  {
   "cell_type": "markdown",
   "id": "6bcb33b9-784e-4ffb-9705-60463c1e3bea",
   "metadata": {},
   "source": [
    "# Model parameters\n",
    "\n",
    "Students may change the parameters and observe the result on performance of model\n",
    "\n",
    "After changing the parameters, run every cell under Model initialization to oberve the result\n",
    "### Value recommendation\n",
    "- alpha: 0.000001 - 0.01\n",
    "- batchsize: 128 - 1024\n",
    "- epochs: 50 - 1000\n",
    "- hsize: 1  - 32 (note that a value of 1 means the model becomes a logistic regression model)\n",
    "- optimizer_type: \"ADAM\", \"Descent\", \"Momentum\", \"Nesterov\""
   ]
  },
  {
   "cell_type": "code",
   "execution_count": 18,
   "id": "908b6406",
   "metadata": {},
   "outputs": [
    {
     "data": {
      "text/plain": [
       "Args(3.0f-6, 256, 50, 16, \"ADAM\")"
      ]
     },
     "execution_count": 18,
     "metadata": {},
     "output_type": "execute_result"
    }
   ],
   "source": [
    "@kwdef mutable struct Args\n",
    "    alpha::Float32 = 0.000003    # learning rate\n",
    "    batchsize::Int = 256         # batch size\n",
    "    epochs::Int = 50             # number of epochs\n",
    "    hsize::Int = 16              # number of nodes in hidden layer\n",
    "    optimizer_type::String = \"ADAM\" \n",
    "                                 # type of optimizer (\"ADAM\", \"Descent\", \"Momentum\", \"Nesterov\")\n",
    "end\n",
    "args = Args()"
   ]
  },
  {
   "cell_type": "markdown",
   "id": "8382de91-91b4-4d2f-8325-17ee67b9eb35",
   "metadata": {},
   "source": [
    "# Model initialization\n",
    "\n",
    "The model and optimizer (that improve the model) is initialized"
   ]
  },
  {
   "cell_type": "code",
   "execution_count": 19,
   "id": "74615ecf-3a60-42ac-afc7-c5b107926dc1",
   "metadata": {},
   "outputs": [
    {
     "data": {
      "text/plain": [
       "ADAM(3.000000106112566e-6, (0.9, 0.999), IdDict{Any, Any}())"
      ]
     },
     "execution_count": 19,
     "metadata": {},
     "output_type": "execute_result"
    }
   ],
   "source": [
    "# Create test and train dataloaders\n",
    "train_loader, test_loader, inputsize = getdata(args)\n",
    "\n",
    "# Construct model\n",
    "model = build_model(inputsize, args.hsize) # \"model\" is same as \"hypothesis\" \n",
    "ps = Flux.params(model) # model's trainable parameters\n",
    "\n",
    "## Optimizer\n",
    "if args.optimizer_type == \"ADAM\"\n",
    "    opt = ADAM(args.alpha)\n",
    "elseif args.optimizer_type == \"Descent\"\n",
    "    opt = Descent(args.alpha)\n",
    "elseif args.optimizer_type == \"Momentum\"\n",
    "    opt = Momentum(args.alpha)\n",
    "elseif args.optimizer_type == \"Nesterov\"\n",
    "    opt = Nesterov(args.alpha)\n",
    "else\n",
    "    error(\"wrong optimizer\")\n",
    "end"
   ]
  },
  {
   "cell_type": "markdown",
   "id": "c50c7b60-387d-4f9a-b0f9-4489fda03672",
   "metadata": {},
   "source": [
    "# Train (define)\n",
    "\n",
    "The model is trained, while its performance is recorded\n",
    "\n",
    "Note that the train function is defined, but not called (no training actually happened in the cell below)"
   ]
  },
  {
   "cell_type": "code",
   "execution_count": 20,
   "id": "294ee001",
   "metadata": {
    "tags": []
   },
   "outputs": [
    {
     "data": {
      "text/plain": [
       "train (generic function with 1 method)"
      ]
     },
     "execution_count": 20,
     "metadata": {},
     "output_type": "execute_result"
    }
   ],
   "source": [
    "function train(args)\n",
    "    arr_train_performance = reshape([], 0, 5) # store performance of model against train data\n",
    "    arr_test_performance = reshape([], 0, 5)  # store performance of model against test data\n",
    "\n",
    "    ## Training\n",
    "    for epoch in 1:args.epochs # loop for epochs time\n",
    "        for (x, y) in train_loader # for each batch of x and y\n",
    "            gs = gradient(() -> logitcrossentropy(model(x), y), ps) # compute gradient, logitcrossentropy is the cost function\n",
    "            Flux.Optimise.update!(opt, ps, gs) # update parameters\n",
    "        end\n",
    "        \n",
    "        # Performance on train and test\n",
    "        train_performance= loss_and_accuracy(train_loader, model)\n",
    "        test_performance= loss_and_accuracy(test_loader, model)\n",
    "            \n",
    "        # store the performance in the array\n",
    "        arr_train_performance = vcat(arr_train_performance, train_performance)\n",
    "        arr_test_performance = vcat(arr_test_performance, test_performance)\n",
    "\n",
    "        println(\"Epoch=$epoch\")\n",
    "        println(\"  train_loss = $(arr_train_performance[epoch,1]), train_accuracy = $(arr_train_performance[epoch,2])\")\n",
    "        println(\"  test_loss = $(arr_test_performance[epoch,1]), test_accuracy = $(arr_test_performance[epoch,2])\")\n",
    "    end\n",
    "    return arr_train_performance, arr_test_performance\n",
    "end"
   ]
  },
  {
   "cell_type": "markdown",
   "id": "60e18664-235a-443d-a9c8-ada9dc0885dd",
   "metadata": {},
   "source": [
    "# Train (run)\n",
    "\n",
    "The train function is called, and it will return the performance of the model\n",
    "\n",
    "`@time` will record the time used to train the model, and output it in the end of the cell"
   ]
  },
  {
   "cell_type": "code",
   "execution_count": 21,
   "id": "7826e3c8",
   "metadata": {
    "tags": []
   },
   "outputs": [
    {
     "name": "stdout",
     "output_type": "stream",
     "text": [
      "Epoch=1\n",
      "  train_loss = 2.7765347957611084, train_accuracy = 0.006514657980456026\n",
      "  test_loss = 2.635648250579834, test_accuracy = 0.05842018650575974\n",
      "Epoch=2\n",
      "  train_loss = 2.7675716876983643, train_accuracy = 0.006514657980456026\n",
      "  test_loss = 2.6271657943725586, test_accuracy = 0.05842018650575974\n",
      "Epoch=3\n",
      "  train_loss = 2.758615493774414, train_accuracy = 0.006514657980456026\n",
      "  test_loss = 2.6186904907226562, test_accuracy = 0.05842018650575974\n",
      "Epoch=4\n",
      "  train_loss = 2.7496678829193115, train_accuracy = 0.006514657980456026\n",
      "  test_loss = 2.6102230548858643, test_accuracy = 0.05842018650575974\n",
      "Epoch=5\n",
      "  train_loss = 2.740732192993164, train_accuracy = 0.006514657980456026\n",
      "  test_loss = 2.6017680168151855, test_accuracy = 0.05842018650575974\n",
      "Epoch=6\n",
      "  train_loss = 2.731809616088867, train_accuracy = 0.006514657980456026\n",
      "  test_loss = 2.593324899673462, test_accuracy = 0.05842018650575974\n",
      "Epoch=7\n",
      "  train_loss = 2.722891330718994, train_accuracy = 0.006514657980456026\n",
      "  test_loss = 2.5848870277404785, test_accuracy = 0.05842018650575974\n",
      "Epoch=8\n",
      "  train_loss = 2.7139854431152344, train_accuracy = 0.006514657980456026\n",
      "  test_loss = 2.57646107673645, test_accuracy = 0.05842018650575974\n",
      "Epoch=9\n",
      "  train_loss = 2.705090045928955, train_accuracy = 0.006514657980456026\n",
      "  test_loss = 2.568044900894165, test_accuracy = 0.05842018650575974\n",
      "Epoch=10\n",
      "  train_loss = 2.696202278137207, train_accuracy = 0.006514657980456026\n",
      "  test_loss = 2.559635639190674, test_accuracy = 0.05842018650575974\n",
      "Epoch=11\n",
      "  train_loss = 2.6873271465301514, train_accuracy = 0.006514657980456026\n",
      "  test_loss = 2.551239013671875, test_accuracy = 0.05842018650575974\n",
      "Epoch=12\n",
      "  train_loss = 2.6784582138061523, train_accuracy = 0.006514657980456026\n",
      "  test_loss = 2.542849063873291, test_accuracy = 0.05842018650575974\n",
      "Epoch=13\n",
      "  train_loss = 2.6696009635925293, train_accuracy = 0.006514657980456026\n",
      "  test_loss = 2.5344700813293457, test_accuracy = 0.05842018650575974\n",
      "Epoch=14\n",
      "  train_loss = 2.6607508659362793, train_accuracy = 0.006514657980456026\n",
      "  test_loss = 2.5260980129241943, test_accuracy = 0.05842018650575974\n",
      "Epoch=15\n",
      "  train_loss = 2.6519107818603516, train_accuracy = 0.006514657980456026\n",
      "  test_loss = 2.5177364349365234, test_accuracy = 0.05842018650575974\n",
      "Epoch=16\n",
      "  train_loss = 2.6430811882019043, train_accuracy = 0.006514657980456026\n",
      "  test_loss = 2.5093839168548584, test_accuracy = 0.05842018650575974\n",
      "Epoch=17\n",
      "  train_loss = 2.634260416030884, train_accuracy = 0.006514657980456026\n",
      "  test_loss = 2.5010414123535156, test_accuracy = 0.05842018650575974\n",
      "Epoch=18\n",
      "  train_loss = 2.6254489421844482, train_accuracy = 0.006514657980456026\n",
      "  test_loss = 2.492706537246704, test_accuracy = 0.05842018650575974\n",
      "Epoch=19\n",
      "  train_loss = 2.6166467666625977, train_accuracy = 0.006514657980456026\n",
      "  test_loss = 2.4843811988830566, test_accuracy = 0.05842018650575974\n",
      "Epoch=20\n",
      "  train_loss = 2.607854127883911, train_accuracy = 0.006514657980456026\n",
      "  test_loss = 2.476064920425415, test_accuracy = 0.05842018650575974\n",
      "Epoch=21\n",
      "  train_loss = 2.5990705490112305, train_accuracy = 0.006514657980456026\n",
      "  test_loss = 2.467758893966675, test_accuracy = 0.05842018650575974\n",
      "Epoch=22\n",
      "  train_loss = 2.5902962684631348, train_accuracy = 0.006514657980456026\n",
      "  test_loss = 2.459460973739624, test_accuracy = 0.05842018650575974\n",
      "Epoch=23\n",
      "  train_loss = 2.5815351009368896, train_accuracy = 0.006514657980456026\n",
      "  test_loss = 2.4511756896972656, test_accuracy = 0.05842018650575974\n",
      "Epoch=24\n",
      "  train_loss = 2.572779655456543, train_accuracy = 0.006514657980456026\n",
      "  test_loss = 2.442897081375122, test_accuracy = 0.05842018650575974\n",
      "Epoch=25\n",
      "  train_loss = 2.564035177230835, train_accuracy = 0.006514657980456026\n",
      "  test_loss = 2.4346275329589844, test_accuracy = 0.05842018650575974\n",
      "Epoch=26\n",
      "  train_loss = 2.5552985668182373, train_accuracy = 0.006514657980456026\n",
      "  test_loss = 2.4263670444488525, test_accuracy = 0.05842018650575974\n",
      "Epoch=27\n",
      "  train_loss = 2.546572208404541, train_accuracy = 0.006514657980456026\n",
      "  test_loss = 2.418116331100464, test_accuracy = 0.05842018650575974\n",
      "Epoch=28\n",
      "  train_loss = 2.5378551483154297, train_accuracy = 0.006514657980456026\n",
      "  test_loss = 2.4098753929138184, test_accuracy = 0.05842018650575974\n",
      "Epoch=29\n",
      "  train_loss = 2.529148817062378, train_accuracy = 0.006514657980456026\n",
      "  test_loss = 2.4016435146331787, test_accuracy = 0.05842018650575974\n",
      "Epoch=30\n",
      "  train_loss = 2.5204532146453857, train_accuracy = 0.006514657980456026\n",
      "  test_loss = 2.393423080444336, test_accuracy = 0.05842018650575974\n",
      "Epoch=31\n",
      "  train_loss = 2.511768102645874, train_accuracy = 0.006514657980456026\n",
      "  test_loss = 2.38521146774292, test_accuracy = 0.05842018650575974\n",
      "Epoch=32\n",
      "  train_loss = 2.5030875205993652, train_accuracy = 0.006514657980456026\n",
      "  test_loss = 2.377006769180298, test_accuracy = 0.05842018650575974\n",
      "Epoch=33\n",
      "  train_loss = 2.4944205284118652, train_accuracy = 0.006514657980456026\n",
      "  test_loss = 2.3688132762908936, test_accuracy = 0.05842018650575974\n",
      "Epoch=34\n",
      "  train_loss = 2.485762596130371, train_accuracy = 0.006514657980456026\n",
      "  test_loss = 2.3606300354003906, test_accuracy = 0.05842018650575974\n",
      "Epoch=35\n",
      "  train_loss = 2.4771130084991455, train_accuracy = 0.006514657980456026\n",
      "  test_loss = 2.352454662322998, test_accuracy = 0.05842018650575974\n",
      "Epoch=36\n",
      "  train_loss = 2.468472480773926, train_accuracy = 0.006514657980456026\n",
      "  test_loss = 2.344287395477295, test_accuracy = 0.05842018650575974\n",
      "Epoch=37\n",
      "  train_loss = 2.4598426818847656, train_accuracy = 0.006514657980456026\n",
      "  test_loss = 2.336132049560547, test_accuracy = 0.05842018650575974\n",
      "Epoch=38\n",
      "  train_loss = 2.4512226581573486, train_accuracy = 0.006514657980456026\n",
      "  test_loss = 2.3279852867126465, test_accuracy = 0.05842018650575974\n",
      "Epoch=39\n",
      "  train_loss = 2.4426138401031494, train_accuracy = 0.006514657980456026\n",
      "  test_loss = 2.3198506832122803, test_accuracy = 0.05842018650575974\n",
      "Epoch=40\n",
      "  train_loss = 2.4340097904205322, train_accuracy = 0.006514657980456026\n",
      "  test_loss = 2.311720371246338, test_accuracy = 0.05842018650575974\n",
      "Epoch=41\n",
      "  train_loss = 2.425420045852661, train_accuracy = 0.006514657980456026\n",
      "  test_loss = 2.303602695465088, test_accuracy = 0.05842018650575974\n",
      "Epoch=42\n",
      "  train_loss = 2.4168355464935303, train_accuracy = 0.006514657980456026\n",
      "  test_loss = 2.29549241065979, test_accuracy = 0.05842018650575974\n",
      "Epoch=43\n",
      "  train_loss = 2.40826416015625, train_accuracy = 0.006514657980456026\n",
      "  test_loss = 2.287393569946289, test_accuracy = 0.05842018650575974\n",
      "Epoch=44\n",
      "  train_loss = 2.399703025817871, train_accuracy = 0.006514657980456026\n",
      "  test_loss = 2.2793049812316895, test_accuracy = 0.05842018650575974\n",
      "Epoch=45\n",
      "  train_loss = 2.3911519050598145, train_accuracy = 0.006514657980456026\n",
      "  test_loss = 2.271226644515991, test_accuracy = 0.05842018650575974\n",
      "Epoch=46\n",
      "  train_loss = 2.3826074600219727, train_accuracy = 0.006514657980456026\n",
      "  test_loss = 2.263155221939087, test_accuracy = 0.05842018650575974\n",
      "Epoch=47\n",
      "  train_loss = 2.3740766048431396, train_accuracy = 0.006514657980456026\n",
      "  test_loss = 2.2550957202911377, test_accuracy = 0.05842018650575974\n",
      "Epoch=48\n",
      "  train_loss = 2.3655505180358887, train_accuracy = 0.006514657980456026\n",
      "  test_loss = 2.2470433712005615, test_accuracy = 0.05842018650575974\n",
      "Epoch=49\n",
      "  train_loss = 2.3570358753204346, train_accuracy = 0.006514657980456026\n",
      "  test_loss = 2.2390007972717285, test_accuracy = 0.05842018650575974\n",
      "Epoch=50\n",
      "  train_loss = 2.3485312461853027, train_accuracy = 0.006514657980456026\n",
      "  test_loss = 2.2309682369232178, test_accuracy = 0.05842018650575974\n",
      " 15.660779 seconds (10.82 M allocations: 3.514 GiB, 6.78% gc time, 31.84% compilation time)\n"
     ]
    }
   ],
   "source": [
    "@time arr_train_performance, arr_test_performance = train(args); # train the model, record the time and performance"
   ]
  },
  {
   "cell_type": "markdown",
   "id": "3271562c-5bb3-48fc-9421-5f1918f87196",
   "metadata": {},
   "source": [
    "# Plotting\n",
    "\n",
    "Plot the performance of the model against epoch"
   ]
  },
  {
   "cell_type": "code",
   "execution_count": 22,
   "id": "bb9e38ed",
   "metadata": {
    "tags": []
   },
   "outputs": [
    {
     "data": {
      "image/svg+xml": [
       "<?xml version=\"1.0\" encoding=\"utf-8\"?>\n",
       "<svg xmlns=\"http://www.w3.org/2000/svg\" xmlns:xlink=\"http://www.w3.org/1999/xlink\" width=\"600\" height=\"400\" viewBox=\"0 0 2400 1600\">\n",
       "<defs>\n",
       "  <clipPath id=\"clip090\">\n",
       "    <rect x=\"0\" y=\"0\" width=\"2400\" height=\"1600\"/>\n",
       "  </clipPath>\n",
       "</defs>\n",
       "<path clip-path=\"url(#clip090)\" d=\"\n",
       "M0 1600 L2400 1600 L2400 0 L0 0  Z\n",
       "  \" fill=\"#ffffff\" fill-rule=\"evenodd\" fill-opacity=\"1\"/>\n",
       "<defs>\n",
       "  <clipPath id=\"clip091\">\n",
       "    <rect x=\"480\" y=\"0\" width=\"1681\" height=\"1600\"/>\n",
       "  </clipPath>\n",
       "</defs>\n",
       "<path clip-path=\"url(#clip090)\" d=\"\n",
       "M156.251 1486.45 L2352.76 1486.45 L2352.76 123.472 L156.251 123.472  Z\n",
       "  \" fill=\"#ffffff\" fill-rule=\"evenodd\" fill-opacity=\"1\"/>\n",
       "<defs>\n",
       "  <clipPath id=\"clip092\">\n",
       "    <rect x=\"156\" y=\"123\" width=\"2198\" height=\"1364\"/>\n",
       "  </clipPath>\n",
       "</defs>\n",
       "<polyline clip-path=\"url(#clip092)\" style=\"stroke:#000000; stroke-linecap:butt; stroke-linejoin:round; stroke-width:2; stroke-opacity:0.1; fill:none\" points=\"\n",
       "  176.127,1486.45 176.127,123.472 \n",
       "  \"/>\n",
       "<polyline clip-path=\"url(#clip092)\" style=\"stroke:#000000; stroke-linecap:butt; stroke-linejoin:round; stroke-width:2; stroke-opacity:0.1; fill:none\" points=\"\n",
       "  599.02,1486.45 599.02,123.472 \n",
       "  \"/>\n",
       "<polyline clip-path=\"url(#clip092)\" style=\"stroke:#000000; stroke-linecap:butt; stroke-linejoin:round; stroke-width:2; stroke-opacity:0.1; fill:none\" points=\"\n",
       "  1021.91,1486.45 1021.91,123.472 \n",
       "  \"/>\n",
       "<polyline clip-path=\"url(#clip092)\" style=\"stroke:#000000; stroke-linecap:butt; stroke-linejoin:round; stroke-width:2; stroke-opacity:0.1; fill:none\" points=\"\n",
       "  1444.81,1486.45 1444.81,123.472 \n",
       "  \"/>\n",
       "<polyline clip-path=\"url(#clip092)\" style=\"stroke:#000000; stroke-linecap:butt; stroke-linejoin:round; stroke-width:2; stroke-opacity:0.1; fill:none\" points=\"\n",
       "  1867.7,1486.45 1867.7,123.472 \n",
       "  \"/>\n",
       "<polyline clip-path=\"url(#clip092)\" style=\"stroke:#000000; stroke-linecap:butt; stroke-linejoin:round; stroke-width:2; stroke-opacity:0.1; fill:none\" points=\"\n",
       "  2290.59,1486.45 2290.59,123.472 \n",
       "  \"/>\n",
       "<polyline clip-path=\"url(#clip090)\" style=\"stroke:#000000; stroke-linecap:butt; stroke-linejoin:round; stroke-width:4; stroke-opacity:1; fill:none\" points=\"\n",
       "  156.251,1486.45 2352.76,1486.45 \n",
       "  \"/>\n",
       "<polyline clip-path=\"url(#clip090)\" style=\"stroke:#000000; stroke-linecap:butt; stroke-linejoin:round; stroke-width:4; stroke-opacity:1; fill:none\" points=\"\n",
       "  176.127,1486.45 176.127,1467.55 \n",
       "  \"/>\n",
       "<polyline clip-path=\"url(#clip090)\" style=\"stroke:#000000; stroke-linecap:butt; stroke-linejoin:round; stroke-width:4; stroke-opacity:1; fill:none\" points=\"\n",
       "  599.02,1486.45 599.02,1467.55 \n",
       "  \"/>\n",
       "<polyline clip-path=\"url(#clip090)\" style=\"stroke:#000000; stroke-linecap:butt; stroke-linejoin:round; stroke-width:4; stroke-opacity:1; fill:none\" points=\"\n",
       "  1021.91,1486.45 1021.91,1467.55 \n",
       "  \"/>\n",
       "<polyline clip-path=\"url(#clip090)\" style=\"stroke:#000000; stroke-linecap:butt; stroke-linejoin:round; stroke-width:4; stroke-opacity:1; fill:none\" points=\"\n",
       "  1444.81,1486.45 1444.81,1467.55 \n",
       "  \"/>\n",
       "<polyline clip-path=\"url(#clip090)\" style=\"stroke:#000000; stroke-linecap:butt; stroke-linejoin:round; stroke-width:4; stroke-opacity:1; fill:none\" points=\"\n",
       "  1867.7,1486.45 1867.7,1467.55 \n",
       "  \"/>\n",
       "<polyline clip-path=\"url(#clip090)\" style=\"stroke:#000000; stroke-linecap:butt; stroke-linejoin:round; stroke-width:4; stroke-opacity:1; fill:none\" points=\"\n",
       "  2290.59,1486.45 2290.59,1467.55 \n",
       "  \"/>\n",
       "<path clip-path=\"url(#clip090)\" d=\"M176.127 1515.64 Q172.516 1515.64 170.687 1519.2 Q168.882 1522.75 168.882 1529.87 Q168.882 1536.98 170.687 1540.55 Q172.516 1544.09 176.127 1544.09 Q179.761 1544.09 181.567 1540.55 Q183.395 1536.98 183.395 1529.87 Q183.395 1522.75 181.567 1519.2 Q179.761 1515.64 176.127 1515.64 M176.127 1511.93 Q181.937 1511.93 184.993 1516.54 Q188.071 1521.12 188.071 1529.87 Q188.071 1538.6 184.993 1543.21 Q181.937 1547.79 176.127 1547.79 Q170.317 1547.79 167.238 1543.21 Q164.183 1538.6 164.183 1529.87 Q164.183 1521.12 167.238 1516.54 Q170.317 1511.93 176.127 1511.93 Z\" fill=\"#000000\" fill-rule=\"evenodd\" fill-opacity=\"1\" /><path clip-path=\"url(#clip090)\" d=\"M573.707 1543.18 L581.346 1543.18 L581.346 1516.82 L573.036 1518.49 L573.036 1514.23 L581.3 1512.56 L585.976 1512.56 L585.976 1543.18 L593.615 1543.18 L593.615 1547.12 L573.707 1547.12 L573.707 1543.18 Z\" fill=\"#000000\" fill-rule=\"evenodd\" fill-opacity=\"1\" /><path clip-path=\"url(#clip090)\" d=\"M613.059 1515.64 Q609.448 1515.64 607.619 1519.2 Q605.814 1522.75 605.814 1529.87 Q605.814 1536.98 607.619 1540.55 Q609.448 1544.09 613.059 1544.09 Q616.693 1544.09 618.499 1540.55 Q620.327 1536.98 620.327 1529.87 Q620.327 1522.75 618.499 1519.2 Q616.693 1515.64 613.059 1515.64 M613.059 1511.93 Q618.869 1511.93 621.925 1516.54 Q625.003 1521.12 625.003 1529.87 Q625.003 1538.6 621.925 1543.21 Q618.869 1547.79 613.059 1547.79 Q607.249 1547.79 604.17 1543.21 Q601.115 1538.6 601.115 1529.87 Q601.115 1521.12 604.17 1516.54 Q607.249 1511.93 613.059 1511.93 Z\" fill=\"#000000\" fill-rule=\"evenodd\" fill-opacity=\"1\" /><path clip-path=\"url(#clip090)\" d=\"M1000.69 1543.18 L1017.01 1543.18 L1017.01 1547.12 L995.061 1547.12 L995.061 1543.18 Q997.723 1540.43 1002.31 1535.8 Q1006.91 1531.15 1008.09 1529.81 Q1010.34 1527.28 1011.22 1525.55 Q1012.12 1523.79 1012.12 1522.1 Q1012.12 1519.34 1010.18 1517.61 Q1008.26 1515.87 1005.15 1515.87 Q1002.95 1515.87 1000.5 1516.63 Q998.07 1517.4 995.292 1518.95 L995.292 1514.23 Q998.116 1513.09 1000.57 1512.51 Q1003.02 1511.93 1005.06 1511.93 Q1010.43 1511.93 1013.63 1514.62 Q1016.82 1517.31 1016.82 1521.8 Q1016.82 1523.93 1016.01 1525.85 Q1015.22 1527.74 1013.12 1530.34 Q1012.54 1531.01 1009.44 1534.23 Q1006.33 1537.42 1000.69 1543.18 Z\" fill=\"#000000\" fill-rule=\"evenodd\" fill-opacity=\"1\" /><path clip-path=\"url(#clip090)\" d=\"M1036.82 1515.64 Q1033.21 1515.64 1031.38 1519.2 Q1029.57 1522.75 1029.57 1529.87 Q1029.57 1536.98 1031.38 1540.55 Q1033.21 1544.09 1036.82 1544.09 Q1040.45 1544.09 1042.26 1540.55 Q1044.09 1536.98 1044.09 1529.87 Q1044.09 1522.75 1042.26 1519.2 Q1040.45 1515.64 1036.82 1515.64 M1036.82 1511.93 Q1042.63 1511.93 1045.69 1516.54 Q1048.76 1521.12 1048.76 1529.87 Q1048.76 1538.6 1045.69 1543.21 Q1042.63 1547.79 1036.82 1547.79 Q1031.01 1547.79 1027.93 1543.21 Q1024.88 1538.6 1024.88 1529.87 Q1024.88 1521.12 1027.93 1516.54 Q1031.01 1511.93 1036.82 1511.93 Z\" fill=\"#000000\" fill-rule=\"evenodd\" fill-opacity=\"1\" /><path clip-path=\"url(#clip090)\" d=\"M1433.65 1528.49 Q1437 1529.2 1438.88 1531.47 Q1440.78 1533.74 1440.78 1537.07 Q1440.78 1542.19 1437.26 1544.99 Q1433.74 1547.79 1427.26 1547.79 Q1425.08 1547.79 1422.77 1547.35 Q1420.48 1546.93 1418.02 1546.08 L1418.02 1541.56 Q1419.97 1542.7 1422.28 1543.28 Q1424.6 1543.86 1427.12 1543.86 Q1431.52 1543.86 1433.81 1542.12 Q1436.12 1540.38 1436.12 1537.07 Q1436.12 1534.02 1433.97 1532.31 Q1431.84 1530.57 1428.02 1530.57 L1424 1530.57 L1424 1526.73 L1428.21 1526.73 Q1431.66 1526.73 1433.49 1525.36 Q1435.31 1523.97 1435.31 1521.38 Q1435.31 1518.72 1433.42 1517.31 Q1431.54 1515.87 1428.02 1515.87 Q1426.1 1515.87 1423.9 1516.29 Q1421.7 1516.7 1419.06 1517.58 L1419.06 1513.42 Q1421.73 1512.68 1424.04 1512.31 Q1426.38 1511.93 1428.44 1511.93 Q1433.76 1511.93 1436.87 1514.37 Q1439.97 1516.77 1439.97 1520.89 Q1439.97 1523.76 1438.32 1525.75 Q1436.68 1527.72 1433.65 1528.49 Z\" fill=\"#000000\" fill-rule=\"evenodd\" fill-opacity=\"1\" /><path clip-path=\"url(#clip090)\" d=\"M1459.64 1515.64 Q1456.03 1515.64 1454.2 1519.2 Q1452.4 1522.75 1452.4 1529.87 Q1452.4 1536.98 1454.2 1540.55 Q1456.03 1544.09 1459.64 1544.09 Q1463.28 1544.09 1465.08 1540.55 Q1466.91 1536.98 1466.91 1529.87 Q1466.91 1522.75 1465.08 1519.2 Q1463.28 1515.64 1459.64 1515.64 M1459.64 1511.93 Q1465.45 1511.93 1468.51 1516.54 Q1471.59 1521.12 1471.59 1529.87 Q1471.59 1538.6 1468.51 1543.21 Q1465.45 1547.79 1459.64 1547.79 Q1453.83 1547.79 1450.75 1543.21 Q1447.7 1538.6 1447.7 1529.87 Q1447.7 1521.12 1450.75 1516.54 Q1453.83 1511.93 1459.64 1511.93 Z\" fill=\"#000000\" fill-rule=\"evenodd\" fill-opacity=\"1\" /><path clip-path=\"url(#clip090)\" d=\"M1855.87 1516.63 L1844.06 1535.08 L1855.87 1535.08 L1855.87 1516.63 M1854.64 1512.56 L1860.52 1512.56 L1860.52 1535.08 L1865.45 1535.08 L1865.45 1538.97 L1860.52 1538.97 L1860.52 1547.12 L1855.87 1547.12 L1855.87 1538.97 L1840.27 1538.97 L1840.27 1534.46 L1854.64 1512.56 Z\" fill=\"#000000\" fill-rule=\"evenodd\" fill-opacity=\"1\" /><path clip-path=\"url(#clip090)\" d=\"M1883.18 1515.64 Q1879.57 1515.64 1877.74 1519.2 Q1875.94 1522.75 1875.94 1529.87 Q1875.94 1536.98 1877.74 1540.55 Q1879.57 1544.09 1883.18 1544.09 Q1886.82 1544.09 1888.62 1540.55 Q1890.45 1536.98 1890.45 1529.87 Q1890.45 1522.75 1888.62 1519.2 Q1886.82 1515.64 1883.18 1515.64 M1883.18 1511.93 Q1888.99 1511.93 1892.05 1516.54 Q1895.13 1521.12 1895.13 1529.87 Q1895.13 1538.6 1892.05 1543.21 Q1888.99 1547.79 1883.18 1547.79 Q1877.37 1547.79 1874.3 1543.21 Q1871.24 1538.6 1871.24 1529.87 Q1871.24 1521.12 1874.3 1516.54 Q1877.37 1511.93 1883.18 1511.93 Z\" fill=\"#000000\" fill-rule=\"evenodd\" fill-opacity=\"1\" /><path clip-path=\"url(#clip090)\" d=\"M2265.29 1512.56 L2283.65 1512.56 L2283.65 1516.5 L2269.57 1516.5 L2269.57 1524.97 Q2270.59 1524.62 2271.61 1524.46 Q2272.63 1524.27 2273.65 1524.27 Q2279.43 1524.27 2282.81 1527.44 Q2286.19 1530.62 2286.19 1536.03 Q2286.19 1541.61 2282.72 1544.71 Q2279.25 1547.79 2272.93 1547.79 Q2270.75 1547.79 2268.48 1547.42 Q2266.24 1547.05 2263.83 1546.31 L2263.83 1541.61 Q2265.91 1542.74 2268.14 1543.3 Q2270.36 1543.86 2272.84 1543.86 Q2276.84 1543.86 2279.18 1541.75 Q2281.52 1539.64 2281.52 1536.03 Q2281.52 1532.42 2279.18 1530.31 Q2276.84 1528.21 2272.84 1528.21 Q2270.96 1528.21 2269.09 1528.62 Q2267.23 1529.04 2265.29 1529.92 L2265.29 1512.56 Z\" fill=\"#000000\" fill-rule=\"evenodd\" fill-opacity=\"1\" /><path clip-path=\"url(#clip090)\" d=\"M2305.41 1515.64 Q2301.79 1515.64 2299.97 1519.2 Q2298.16 1522.75 2298.16 1529.87 Q2298.16 1536.98 2299.97 1540.55 Q2301.79 1544.09 2305.41 1544.09 Q2309.04 1544.09 2310.85 1540.55 Q2312.67 1536.98 2312.67 1529.87 Q2312.67 1522.75 2310.85 1519.2 Q2309.04 1515.64 2305.41 1515.64 M2305.41 1511.93 Q2311.22 1511.93 2314.27 1516.54 Q2317.35 1521.12 2317.35 1529.87 Q2317.35 1538.6 2314.27 1543.21 Q2311.22 1547.79 2305.41 1547.79 Q2299.6 1547.79 2296.52 1543.21 Q2293.46 1538.6 2293.46 1529.87 Q2293.46 1521.12 2296.52 1516.54 Q2299.6 1511.93 2305.41 1511.93 Z\" fill=\"#000000\" fill-rule=\"evenodd\" fill-opacity=\"1\" /><polyline clip-path=\"url(#clip092)\" style=\"stroke:#000000; stroke-linecap:butt; stroke-linejoin:round; stroke-width:2; stroke-opacity:0.1; fill:none\" points=\"\n",
       "  156.251,1285.17 2352.76,1285.17 \n",
       "  \"/>\n",
       "<polyline clip-path=\"url(#clip092)\" style=\"stroke:#000000; stroke-linecap:butt; stroke-linejoin:round; stroke-width:2; stroke-opacity:0.1; fill:none\" points=\"\n",
       "  156.251,1049.49 2352.76,1049.49 \n",
       "  \"/>\n",
       "<polyline clip-path=\"url(#clip092)\" style=\"stroke:#000000; stroke-linecap:butt; stroke-linejoin:round; stroke-width:2; stroke-opacity:0.1; fill:none\" points=\"\n",
       "  156.251,813.802 2352.76,813.802 \n",
       "  \"/>\n",
       "<polyline clip-path=\"url(#clip092)\" style=\"stroke:#000000; stroke-linecap:butt; stroke-linejoin:round; stroke-width:2; stroke-opacity:0.1; fill:none\" points=\"\n",
       "  156.251,578.115 2352.76,578.115 \n",
       "  \"/>\n",
       "<polyline clip-path=\"url(#clip092)\" style=\"stroke:#000000; stroke-linecap:butt; stroke-linejoin:round; stroke-width:2; stroke-opacity:0.1; fill:none\" points=\"\n",
       "  156.251,342.429 2352.76,342.429 \n",
       "  \"/>\n",
       "<polyline clip-path=\"url(#clip090)\" style=\"stroke:#000000; stroke-linecap:butt; stroke-linejoin:round; stroke-width:4; stroke-opacity:1; fill:none\" points=\"\n",
       "  156.251,1486.45 156.251,123.472 \n",
       "  \"/>\n",
       "<polyline clip-path=\"url(#clip090)\" style=\"stroke:#000000; stroke-linecap:butt; stroke-linejoin:round; stroke-width:4; stroke-opacity:1; fill:none\" points=\"\n",
       "  156.251,1285.17 175.149,1285.17 \n",
       "  \"/>\n",
       "<polyline clip-path=\"url(#clip090)\" style=\"stroke:#000000; stroke-linecap:butt; stroke-linejoin:round; stroke-width:4; stroke-opacity:1; fill:none\" points=\"\n",
       "  156.251,1049.49 175.149,1049.49 \n",
       "  \"/>\n",
       "<polyline clip-path=\"url(#clip090)\" style=\"stroke:#000000; stroke-linecap:butt; stroke-linejoin:round; stroke-width:4; stroke-opacity:1; fill:none\" points=\"\n",
       "  156.251,813.802 175.149,813.802 \n",
       "  \"/>\n",
       "<polyline clip-path=\"url(#clip090)\" style=\"stroke:#000000; stroke-linecap:butt; stroke-linejoin:round; stroke-width:4; stroke-opacity:1; fill:none\" points=\"\n",
       "  156.251,578.115 175.149,578.115 \n",
       "  \"/>\n",
       "<polyline clip-path=\"url(#clip090)\" style=\"stroke:#000000; stroke-linecap:butt; stroke-linejoin:round; stroke-width:4; stroke-opacity:1; fill:none\" points=\"\n",
       "  156.251,342.429 175.149,342.429 \n",
       "  \"/>\n",
       "<path clip-path=\"url(#clip090)\" d=\"M57.7513 1298.52 L74.0707 1298.52 L74.0707 1302.45 L52.1264 1302.45 L52.1264 1298.52 Q54.7884 1295.76 59.3717 1291.14 Q63.9782 1286.48 65.1587 1285.14 Q67.4041 1282.62 68.2837 1280.88 Q69.1865 1279.12 69.1865 1277.43 Q69.1865 1274.68 67.242 1272.94 Q65.3208 1271.2 62.2189 1271.2 Q60.0199 1271.2 57.5662 1271.97 Q55.1356 1272.73 52.3579 1274.28 L52.3579 1269.56 Q55.1819 1268.43 57.6356 1267.85 Q60.0893 1267.27 62.1263 1267.27 Q67.4967 1267.27 70.6911 1269.95 Q73.8855 1272.64 73.8855 1277.13 Q73.8855 1279.26 73.0753 1281.18 Q72.2883 1283.08 70.1818 1285.67 Q69.6031 1286.34 66.5013 1289.56 Q63.3995 1292.76 57.7513 1298.52 Z\" fill=\"#000000\" fill-rule=\"evenodd\" fill-opacity=\"1\" /><path clip-path=\"url(#clip090)\" d=\"M83.8855 1296.58 L88.7697 1296.58 L88.7697 1302.45 L83.8855 1302.45 L83.8855 1296.58 Z\" fill=\"#000000\" fill-rule=\"evenodd\" fill-opacity=\"1\" /><path clip-path=\"url(#clip090)\" d=\"M113.121 1283.82 Q116.478 1284.54 118.353 1286.81 Q120.251 1289.08 120.251 1292.41 Q120.251 1297.52 116.733 1300.32 Q113.214 1303.13 106.733 1303.13 Q104.557 1303.13 102.242 1302.69 Q99.9502 1302.27 97.4965 1301.41 L97.4965 1296.9 Q99.4409 1298.03 101.756 1298.61 Q104.071 1299.19 106.594 1299.19 Q110.992 1299.19 113.283 1297.45 Q115.598 1295.72 115.598 1292.41 Q115.598 1289.35 113.445 1287.64 Q111.316 1285.9 107.496 1285.9 L103.469 1285.9 L103.469 1282.06 L107.682 1282.06 Q111.131 1282.06 112.959 1280.7 Q114.788 1279.31 114.788 1276.71 Q114.788 1274.05 112.89 1272.64 Q111.015 1271.2 107.496 1271.2 Q105.575 1271.2 103.376 1271.62 Q101.177 1272.04 98.5382 1272.92 L98.5382 1268.75 Q101.2 1268.01 103.515 1267.64 Q105.853 1267.27 107.913 1267.27 Q113.237 1267.27 116.339 1269.7 Q119.441 1272.11 119.441 1276.23 Q119.441 1279.1 117.797 1281.09 Q116.154 1283.06 113.121 1283.82 Z\" fill=\"#000000\" fill-rule=\"evenodd\" fill-opacity=\"1\" /><path clip-path=\"url(#clip090)\" d=\"M56.6171 1062.83 L72.9365 1062.83 L72.9365 1066.77 L50.9921 1066.77 L50.9921 1062.83 Q53.6541 1060.08 58.2375 1055.45 Q62.8439 1050.8 64.0245 1049.45 Q66.2698 1046.93 67.1494 1045.19 Q68.0522 1043.44 68.0522 1041.75 Q68.0522 1038.99 66.1078 1037.25 Q64.1865 1035.52 61.0847 1035.52 Q58.8856 1035.52 56.4319 1036.28 Q54.0014 1037.05 51.2236 1038.6 L51.2236 1033.87 Q54.0477 1032.74 56.5014 1032.16 Q58.955 1031.58 60.9921 1031.58 Q66.3624 1031.58 69.5568 1034.27 Q72.7513 1036.95 72.7513 1041.44 Q72.7513 1043.57 71.9411 1045.5 Q71.1541 1047.39 69.0476 1049.99 Q68.4689 1050.66 65.367 1053.87 Q62.2652 1057.07 56.6171 1062.83 Z\" fill=\"#000000\" fill-rule=\"evenodd\" fill-opacity=\"1\" /><path clip-path=\"url(#clip090)\" d=\"M82.7512 1060.89 L87.6354 1060.89 L87.6354 1066.77 L82.7512 1066.77 L82.7512 1060.89 Z\" fill=\"#000000\" fill-rule=\"evenodd\" fill-opacity=\"1\" /><path clip-path=\"url(#clip090)\" d=\"M110.668 1036.28 L98.8622 1054.73 L110.668 1054.73 L110.668 1036.28 M109.441 1032.21 L115.32 1032.21 L115.32 1054.73 L120.251 1054.73 L120.251 1058.62 L115.32 1058.62 L115.32 1066.77 L110.668 1066.77 L110.668 1058.62 L95.066 1058.62 L95.066 1054.11 L109.441 1032.21 Z\" fill=\"#000000\" fill-rule=\"evenodd\" fill-opacity=\"1\" /><path clip-path=\"url(#clip090)\" d=\"M58.0986 827.147 L74.4179 827.147 L74.4179 831.082 L52.4736 831.082 L52.4736 827.147 Q55.1356 824.392 59.7189 819.762 Q64.3254 815.11 65.5059 813.767 Q67.7513 811.244 68.6309 809.508 Q69.5337 807.749 69.5337 806.059 Q69.5337 803.304 67.5893 801.568 Q65.668 799.832 62.5661 799.832 Q60.3671 799.832 57.9134 800.596 Q55.4828 801.36 52.7051 802.911 L52.7051 798.188 Q55.5291 797.054 57.9828 796.476 Q60.4365 795.897 62.4735 795.897 Q67.8439 795.897 71.0383 798.582 Q74.2327 801.267 74.2327 805.758 Q74.2327 807.887 73.4226 809.809 Q72.6355 811.707 70.5291 814.299 Q69.9504 814.971 66.8485 818.188 Q63.7467 821.383 58.0986 827.147 Z\" fill=\"#000000\" fill-rule=\"evenodd\" fill-opacity=\"1\" /><path clip-path=\"url(#clip090)\" d=\"M84.2327 825.202 L89.1169 825.202 L89.1169 831.082 L84.2327 831.082 L84.2327 825.202 Z\" fill=\"#000000\" fill-rule=\"evenodd\" fill-opacity=\"1\" /><path clip-path=\"url(#clip090)\" d=\"M99.3483 796.522 L117.705 796.522 L117.705 800.457 L103.631 800.457 L103.631 808.929 Q104.649 808.582 105.668 808.42 Q106.686 808.235 107.705 808.235 Q113.492 808.235 116.871 811.406 Q120.251 814.577 120.251 819.994 Q120.251 825.573 116.779 828.674 Q113.307 831.753 106.987 831.753 Q104.811 831.753 102.543 831.383 Q100.297 831.012 97.89 830.272 L97.89 825.573 Q99.9733 826.707 102.196 827.262 Q104.418 827.818 106.895 827.818 Q110.899 827.818 113.237 825.711 Q115.575 823.605 115.575 819.994 Q115.575 816.383 113.237 814.276 Q110.899 812.17 106.895 812.17 Q105.02 812.17 103.145 812.587 Q101.293 813.003 99.3483 813.883 L99.3483 796.522 Z\" fill=\"#000000\" fill-rule=\"evenodd\" fill-opacity=\"1\" /><path clip-path=\"url(#clip090)\" d=\"M56.9412 591.46 L73.2605 591.46 L73.2605 595.395 L51.3162 595.395 L51.3162 591.46 Q53.9782 588.706 58.5615 584.076 Q63.168 579.423 64.3485 578.081 Q66.5939 575.558 67.4735 573.821 Q68.3763 572.062 68.3763 570.372 Q68.3763 567.618 66.4319 565.882 Q64.5106 564.146 61.4087 564.146 Q59.2097 564.146 56.756 564.909 Q54.3254 565.673 51.5477 567.224 L51.5477 562.502 Q54.3717 561.368 56.8254 560.789 Q59.2791 560.21 61.3161 560.21 Q66.6865 560.21 69.8809 562.896 Q73.0753 565.581 73.0753 570.071 Q73.0753 572.201 72.2652 574.122 Q71.4781 576.021 69.3717 578.613 Q68.793 579.284 65.6911 582.502 Q62.5893 585.696 56.9412 591.46 Z\" fill=\"#000000\" fill-rule=\"evenodd\" fill-opacity=\"1\" /><path clip-path=\"url(#clip090)\" d=\"M83.0753 589.516 L87.9595 589.516 L87.9595 595.395 L83.0753 595.395 L83.0753 589.516 Z\" fill=\"#000000\" fill-rule=\"evenodd\" fill-opacity=\"1\" /><path clip-path=\"url(#clip090)\" d=\"M108.723 576.252 Q105.575 576.252 103.723 578.405 Q101.895 580.558 101.895 584.308 Q101.895 588.034 103.723 590.21 Q105.575 592.363 108.723 592.363 Q111.871 592.363 113.7 590.21 Q115.552 588.034 115.552 584.308 Q115.552 580.558 113.7 578.405 Q111.871 576.252 108.723 576.252 M118.006 561.599 L118.006 565.859 Q116.246 565.025 114.441 564.585 Q112.658 564.146 110.899 564.146 Q106.27 564.146 103.816 567.271 Q101.385 570.396 101.038 576.715 Q102.404 574.701 104.464 573.636 Q106.524 572.548 109.001 572.548 Q114.209 572.548 117.219 575.72 Q120.251 578.868 120.251 584.308 Q120.251 589.632 117.103 592.849 Q113.955 596.067 108.723 596.067 Q102.728 596.067 99.5567 591.483 Q96.3854 586.877 96.3854 578.15 Q96.3854 569.956 100.274 565.095 Q104.163 560.21 110.714 560.21 Q112.473 560.21 114.256 560.558 Q116.061 560.905 118.006 561.599 Z\" fill=\"#000000\" fill-rule=\"evenodd\" fill-opacity=\"1\" /><path clip-path=\"url(#clip090)\" d=\"M58.006 355.774 L74.3253 355.774 L74.3253 359.709 L52.381 359.709 L52.381 355.774 Q55.043 353.019 59.6263 348.39 Q64.2328 343.737 65.4133 342.394 Q67.6587 339.871 68.5383 338.135 Q69.4411 336.376 69.4411 334.686 Q69.4411 331.931 67.4967 330.195 Q65.5754 328.459 62.4735 328.459 Q60.2745 328.459 57.8208 329.223 Q55.3903 329.987 52.6125 331.538 L52.6125 326.816 Q55.4365 325.681 57.8902 325.103 Q60.3439 324.524 62.381 324.524 Q67.7513 324.524 70.9457 327.209 Q74.1402 329.894 74.1402 334.385 Q74.1402 336.515 73.33 338.436 Q72.5429 340.334 70.4365 342.927 Q69.8578 343.598 66.7559 346.816 Q63.6541 350.01 58.006 355.774 Z\" fill=\"#000000\" fill-rule=\"evenodd\" fill-opacity=\"1\" /><path clip-path=\"url(#clip090)\" d=\"M84.1401 353.829 L89.0243 353.829 L89.0243 359.709 L84.1401 359.709 L84.1401 353.829 Z\" fill=\"#000000\" fill-rule=\"evenodd\" fill-opacity=\"1\" /><path clip-path=\"url(#clip090)\" d=\"M98.0289 325.149 L120.251 325.149 L120.251 327.14 L107.705 359.709 L102.821 359.709 L114.626 329.084 L98.0289 329.084 L98.0289 325.149 Z\" fill=\"#000000\" fill-rule=\"evenodd\" fill-opacity=\"1\" /><path clip-path=\"url(#clip090)\" d=\"M880.443 12.096 L931.606 12.096 L931.606 18.9825 L910.136 18.9825 L910.136 72.576 L901.913 72.576 L901.913 18.9825 L880.443 18.9825 L880.443 12.096 Z\" fill=\"#000000\" fill-rule=\"evenodd\" fill-opacity=\"1\" /><path clip-path=\"url(#clip090)\" d=\"M963.892 48.0275 L963.892 51.6733 L929.621 51.6733 Q930.107 59.3701 934.239 63.421 Q938.411 67.4314 945.825 67.4314 Q950.119 67.4314 954.129 66.3781 Q958.18 65.3249 962.15 63.2184 L962.15 70.267 Q958.139 71.9684 953.926 72.8596 Q949.713 73.7508 945.379 73.7508 Q934.523 73.7508 928.163 67.4314 Q921.843 61.1119 921.843 50.3365 Q921.843 39.1965 927.839 32.6746 Q933.874 26.1121 944.083 26.1121 Q953.238 26.1121 958.544 32.0264 Q963.892 37.9003 963.892 48.0275 M956.438 45.84 Q956.357 39.7232 952.995 36.0774 Q949.673 32.4315 944.164 32.4315 Q937.925 32.4315 934.158 35.9558 Q930.431 39.4801 929.864 45.8805 L956.438 45.84 Z\" fill=\"#000000\" fill-rule=\"evenodd\" fill-opacity=\"1\" /><path clip-path=\"url(#clip090)\" d=\"M1005.05 28.5427 L1005.05 35.5912 Q1001.89 33.9709 998.486 33.1607 Q995.084 32.3505 991.438 32.3505 Q985.888 32.3505 983.093 34.0519 Q980.338 35.7533 980.338 39.156 Q980.338 41.7486 982.323 43.2475 Q984.308 44.7058 990.303 46.0426 L992.856 46.6097 Q1000.8 48.3111 1004.12 51.4303 Q1007.48 54.509 1007.48 60.0587 Q1007.48 66.3781 1002.46 70.0644 Q997.474 73.7508 988.724 73.7508 Q985.078 73.7508 981.108 73.0216 Q977.179 72.3329 972.804 70.9151 L972.804 63.2184 Q976.936 65.3654 980.946 66.4591 Q984.956 67.5124 988.886 67.5124 Q994.152 67.5124 996.987 65.73 Q999.823 63.9071 999.823 60.6258 Q999.823 57.5877 997.757 55.9673 Q995.732 54.3469 988.805 52.8481 L986.212 52.2405 Q979.285 50.7821 976.206 47.7845 Q973.128 44.7463 973.128 39.4801 Q973.128 33.0797 977.665 29.5959 Q982.202 26.1121 990.547 26.1121 Q994.678 26.1121 998.324 26.7198 Q1001.97 27.3274 1005.05 28.5427 Z\" fill=\"#000000\" fill-rule=\"evenodd\" fill-opacity=\"1\" /><path clip-path=\"url(#clip090)\" d=\"M1026.72 14.324 L1026.72 27.2059 L1042.07 27.2059 L1042.07 32.9987 L1026.72 32.9987 L1026.72 57.6282 Q1026.72 63.1779 1028.22 64.7578 Q1029.76 66.3376 1034.42 66.3376 L1042.07 66.3376 L1042.07 72.576 L1034.42 72.576 Q1025.79 72.576 1022.51 69.3758 Q1019.23 66.1351 1019.23 57.6282 L1019.23 32.9987 L1013.76 32.9987 L1013.76 27.2059 L1019.23 27.2059 L1019.23 14.324 L1026.72 14.324 Z\" fill=\"#000000\" fill-rule=\"evenodd\" fill-opacity=\"1\" /><path clip-path=\"url(#clip090)\" d=\"M1098.87 49.7694 Q1089.83 49.7694 1086.35 51.8354 Q1082.87 53.9013 1082.87 58.8839 Q1082.87 62.8538 1085.46 65.2034 Q1088.09 67.5124 1092.59 67.5124 Q1098.79 67.5124 1102.51 63.1374 Q1106.28 58.7219 1106.28 51.4303 L1106.28 49.7694 L1098.87 49.7694 M1113.73 46.6907 L1113.73 72.576 L1106.28 72.576 L1106.28 65.6895 Q1103.73 69.8214 1099.92 71.8063 Q1096.11 73.7508 1090.6 73.7508 Q1083.64 73.7508 1079.5 69.8619 Q1075.41 65.9325 1075.41 59.3701 Q1075.41 51.7138 1080.52 47.825 Q1085.66 43.9361 1095.83 43.9361 L1106.28 43.9361 L1106.28 43.2069 Q1106.28 38.0623 1102.88 35.2672 Q1099.52 32.4315 1093.4 32.4315 Q1089.51 32.4315 1085.82 33.3632 Q1082.14 34.295 1078.73 36.1584 L1078.73 29.2718 Q1082.83 27.692 1086.67 26.9223 Q1090.52 26.1121 1094.17 26.1121 Q1104.01 26.1121 1108.87 31.2163 Q1113.73 36.3204 1113.73 46.6907 Z\" fill=\"#000000\" fill-rule=\"evenodd\" fill-opacity=\"1\" /><path clip-path=\"url(#clip090)\" d=\"M1166.8 45.1919 L1166.8 72.576 L1159.35 72.576 L1159.35 45.4349 Q1159.35 38.994 1156.84 35.7938 Q1154.32 32.5936 1149.3 32.5936 Q1143.27 32.5936 1139.78 36.4419 Q1136.3 40.2903 1136.3 46.9338 L1136.3 72.576 L1128.8 72.576 L1128.8 27.2059 L1136.3 27.2059 L1136.3 34.2544 Q1138.97 30.163 1142.58 28.1376 Q1146.22 26.1121 1150.96 26.1121 Q1158.78 26.1121 1162.79 30.9732 Q1166.8 35.7938 1166.8 45.1919 Z\" fill=\"#000000\" fill-rule=\"evenodd\" fill-opacity=\"1\" /><path clip-path=\"url(#clip090)\" d=\"M1211.52 34.0924 L1211.52 9.54393 L1218.98 9.54393 L1218.98 72.576 L1211.52 72.576 L1211.52 65.7705 Q1209.17 69.8214 1205.57 71.8063 Q1202 73.7508 1196.98 73.7508 Q1188.76 73.7508 1183.57 67.1883 Q1178.43 60.6258 1178.43 49.9314 Q1178.43 39.2371 1183.57 32.6746 Q1188.76 26.1121 1196.98 26.1121 Q1202 26.1121 1205.57 28.0971 Q1209.17 30.0415 1211.52 34.0924 M1186.12 49.9314 Q1186.12 58.1548 1189.49 62.8538 Q1192.89 67.5124 1198.8 67.5124 Q1204.72 67.5124 1208.12 62.8538 Q1211.52 58.1548 1211.52 49.9314 Q1211.52 41.7081 1208.12 37.0496 Q1204.72 32.3505 1198.8 32.3505 Q1192.89 32.3505 1189.49 37.0496 Q1186.12 41.7081 1186.12 49.9314 Z\" fill=\"#000000\" fill-rule=\"evenodd\" fill-opacity=\"1\" /><path clip-path=\"url(#clip090)\" d=\"M1268.07 14.324 L1268.07 27.2059 L1283.43 27.2059 L1283.43 32.9987 L1268.07 32.9987 L1268.07 57.6282 Q1268.07 63.1779 1269.57 64.7578 Q1271.11 66.3376 1275.77 66.3376 L1283.43 66.3376 L1283.43 72.576 L1275.77 72.576 Q1267.14 72.576 1263.86 69.3758 Q1260.58 66.1351 1260.58 57.6282 L1260.58 32.9987 L1255.11 32.9987 L1255.11 27.2059 L1260.58 27.2059 L1260.58 14.324 L1268.07 14.324 Z\" fill=\"#000000\" fill-rule=\"evenodd\" fill-opacity=\"1\" /><path clip-path=\"url(#clip090)\" d=\"M1319.52 34.1734 Q1318.26 33.4443 1316.77 33.1202 Q1315.31 32.7556 1313.53 32.7556 Q1307.21 32.7556 1303.8 36.8875 Q1300.44 40.9789 1300.44 48.6757 L1300.44 72.576 L1292.95 72.576 L1292.95 27.2059 L1300.44 27.2059 L1300.44 34.2544 Q1302.79 30.1225 1306.56 28.1376 Q1310.32 26.1121 1315.71 26.1121 Q1316.48 26.1121 1317.41 26.2337 Q1318.35 26.3147 1319.48 26.5172 L1319.52 34.1734 Z\" fill=\"#000000\" fill-rule=\"evenodd\" fill-opacity=\"1\" /><path clip-path=\"url(#clip090)\" d=\"M1347.96 49.7694 Q1338.92 49.7694 1335.44 51.8354 Q1331.96 53.9013 1331.96 58.8839 Q1331.96 62.8538 1334.55 65.2034 Q1337.18 67.5124 1341.68 67.5124 Q1347.88 67.5124 1351.6 63.1374 Q1355.37 58.7219 1355.37 51.4303 L1355.37 49.7694 L1347.96 49.7694 M1362.82 46.6907 L1362.82 72.576 L1355.37 72.576 L1355.37 65.6895 Q1352.82 69.8214 1349.01 71.8063 Q1345.2 73.7508 1339.69 73.7508 Q1332.73 73.7508 1328.59 69.8619 Q1324.5 65.9325 1324.5 59.3701 Q1324.5 51.7138 1329.61 47.825 Q1334.75 43.9361 1344.92 43.9361 L1355.37 43.9361 L1355.37 43.2069 Q1355.37 38.0623 1351.97 35.2672 Q1348.61 32.4315 1342.49 32.4315 Q1338.6 32.4315 1334.91 33.3632 Q1331.23 34.295 1327.82 36.1584 L1327.82 29.2718 Q1331.92 27.692 1335.76 26.9223 Q1339.61 26.1121 1343.26 26.1121 Q1353.1 26.1121 1357.96 31.2163 Q1362.82 36.3204 1362.82 46.6907 Z\" fill=\"#000000\" fill-rule=\"evenodd\" fill-opacity=\"1\" /><path clip-path=\"url(#clip090)\" d=\"M1378.18 27.2059 L1385.63 27.2059 L1385.63 72.576 L1378.18 72.576 L1378.18 27.2059 M1378.18 9.54393 L1385.63 9.54393 L1385.63 18.9825 L1378.18 18.9825 L1378.18 9.54393 Z\" fill=\"#000000\" fill-rule=\"evenodd\" fill-opacity=\"1\" /><path clip-path=\"url(#clip090)\" d=\"M1438.94 45.1919 L1438.94 72.576 L1431.49 72.576 L1431.49 45.4349 Q1431.49 38.994 1428.98 35.7938 Q1426.46 32.5936 1421.44 32.5936 Q1415.41 32.5936 1411.92 36.4419 Q1408.44 40.2903 1408.44 46.9338 L1408.44 72.576 L1400.94 72.576 L1400.94 27.2059 L1408.44 27.2059 L1408.44 34.2544 Q1411.11 30.163 1414.72 28.1376 Q1418.36 26.1121 1423.1 26.1121 Q1430.92 26.1121 1434.93 30.9732 Q1438.94 35.7938 1438.94 45.1919 Z\" fill=\"#000000\" fill-rule=\"evenodd\" fill-opacity=\"1\" /><path clip-path=\"url(#clip090)\" d=\"M1480.18 9.54393 L1487.63 9.54393 L1487.63 72.576 L1480.18 72.576 L1480.18 9.54393 Z\" fill=\"#000000\" fill-rule=\"evenodd\" fill-opacity=\"1\" /><path clip-path=\"url(#clip090)\" d=\"M1520.81 32.4315 Q1514.81 32.4315 1511.33 37.1306 Q1507.85 41.7891 1507.85 49.9314 Q1507.85 58.0738 1511.29 62.7728 Q1514.77 67.4314 1520.81 67.4314 Q1526.76 67.4314 1530.25 62.7323 Q1533.73 58.0333 1533.73 49.9314 Q1533.73 41.8701 1530.25 37.1711 Q1526.76 32.4315 1520.81 32.4315 M1520.81 26.1121 Q1530.53 26.1121 1536.08 32.4315 Q1541.63 38.7509 1541.63 49.9314 Q1541.63 61.0714 1536.08 67.4314 Q1530.53 73.7508 1520.81 73.7508 Q1511.05 73.7508 1505.5 67.4314 Q1499.99 61.0714 1499.99 49.9314 Q1499.99 38.7509 1505.5 32.4315 Q1511.05 26.1121 1520.81 26.1121 Z\" fill=\"#000000\" fill-rule=\"evenodd\" fill-opacity=\"1\" /><path clip-path=\"url(#clip090)\" d=\"M1582.91 28.5427 L1582.91 35.5912 Q1579.75 33.9709 1576.35 33.1607 Q1572.95 32.3505 1569.3 32.3505 Q1563.75 32.3505 1560.95 34.0519 Q1558.2 35.7533 1558.2 39.156 Q1558.2 41.7486 1560.18 43.2475 Q1562.17 44.7058 1568.16 46.0426 L1570.72 46.6097 Q1578.66 48.3111 1581.98 51.4303 Q1585.34 54.509 1585.34 60.0587 Q1585.34 66.3781 1580.32 70.0644 Q1575.34 73.7508 1566.59 73.7508 Q1562.94 73.7508 1558.97 73.0216 Q1555.04 72.3329 1550.67 70.9151 L1550.67 63.2184 Q1554.8 65.3654 1558.81 66.4591 Q1562.82 67.5124 1566.75 67.5124 Q1572.01 67.5124 1574.85 65.73 Q1577.68 63.9071 1577.68 60.6258 Q1577.68 57.5877 1575.62 55.9673 Q1573.59 54.3469 1566.67 52.8481 L1564.07 52.2405 Q1557.15 50.7821 1554.07 47.7845 Q1550.99 44.7463 1550.99 39.4801 Q1550.99 33.0797 1555.53 29.5959 Q1560.06 26.1121 1568.41 26.1121 Q1572.54 26.1121 1576.19 26.7198 Q1579.83 27.3274 1582.91 28.5427 Z\" fill=\"#000000\" fill-rule=\"evenodd\" fill-opacity=\"1\" /><path clip-path=\"url(#clip090)\" d=\"M1626.13 28.5427 L1626.13 35.5912 Q1622.97 33.9709 1619.57 33.1607 Q1616.17 32.3505 1612.52 32.3505 Q1606.97 32.3505 1604.18 34.0519 Q1601.42 35.7533 1601.42 39.156 Q1601.42 41.7486 1603.41 43.2475 Q1605.39 44.7058 1611.39 46.0426 L1613.94 46.6097 Q1621.88 48.3111 1625.2 51.4303 Q1628.56 54.509 1628.56 60.0587 Q1628.56 66.3781 1623.54 70.0644 Q1618.56 73.7508 1609.81 73.7508 Q1606.16 73.7508 1602.19 73.0216 Q1598.26 72.3329 1593.89 70.9151 L1593.89 63.2184 Q1598.02 65.3654 1602.03 66.4591 Q1606.04 67.5124 1609.97 67.5124 Q1615.24 67.5124 1618.07 65.73 Q1620.91 63.9071 1620.91 60.6258 Q1620.91 57.5877 1618.84 55.9673 Q1616.82 54.3469 1609.89 52.8481 L1607.3 52.2405 Q1600.37 50.7821 1597.29 47.7845 Q1594.21 44.7463 1594.21 39.4801 Q1594.21 33.0797 1598.75 29.5959 Q1603.29 26.1121 1611.63 26.1121 Q1615.76 26.1121 1619.41 26.7198 Q1623.05 27.3274 1626.13 28.5427 Z\" fill=\"#000000\" fill-rule=\"evenodd\" fill-opacity=\"1\" /><polyline clip-path=\"url(#clip092)\" style=\"stroke:#009af9; stroke-linecap:butt; stroke-linejoin:round; stroke-width:4; stroke-opacity:1; fill:none\" points=\"\n",
       "  218.416,494.097 260.706,514.089 302.995,534.064 345.284,554.021 387.573,573.948 429.863,593.848 472.152,613.735 514.441,633.593 556.73,653.429 599.02,673.249 \n",
       "  641.309,693.038 683.598,712.812 725.888,732.561 768.177,752.292 810.466,771.999 852.755,791.685 895.045,811.347 937.334,830.992 979.623,850.613 1021.91,870.214 \n",
       "  1064.2,889.79 1106.49,909.347 1148.78,928.874 1191.07,948.386 1233.36,967.876 1275.65,987.345 1317.94,1006.79 1360.23,1026.21 1402.52,1045.61 1444.81,1064.99 \n",
       "  1487.09,1084.34 1529.38,1103.68 1571.67,1122.99 1613.96,1142.28 1656.25,1161.55 1698.54,1180.8 1740.83,1200.02 1783.12,1219.22 1825.41,1238.39 1867.7,1257.55 \n",
       "  1909.99,1276.68 1952.28,1295.8 1994.57,1314.89 2036.86,1333.95 2079.14,1352.99 2121.43,1372.01 2163.72,1391.01 2206.01,1409.99 2248.3,1428.94 2290.59,1447.87 \n",
       "  \n",
       "  \"/>\n",
       "<polyline clip-path=\"url(#clip092)\" style=\"stroke:#e26f46; stroke-linecap:butt; stroke-linejoin:round; stroke-width:4; stroke-opacity:1; fill:none\" points=\"\n",
       "  218.416,162.047 260.706,183.172 302.995,204.28 345.284,225.369 387.573,246.429 429.863,267.458 472.152,288.477 514.441,309.467 556.73,330.432 599.02,351.38 \n",
       "  641.309,372.297 683.598,393.2 725.888,414.075 768.177,434.934 810.466,455.769 852.755,476.579 895.045,497.368 937.334,518.136 979.623,538.881 1021.91,559.604 \n",
       "  1064.2,580.306 1106.49,600.986 1148.78,621.635 1191.07,642.27 1233.36,662.88 1275.65,683.471 1317.94,704.037 1360.23,724.582 1402.52,745.102 1444.81,765.596 \n",
       "  1487.09,786.066 1529.38,806.525 1571.67,826.952 1613.96,847.357 1656.25,867.743 1698.54,888.108 1740.83,908.447 1783.12,928.763 1825.41,949.053 1867.7,969.332 \n",
       "  1909.99,989.577 1952.28,1009.81 1994.57,1030.01 2036.86,1050.19 2079.14,1070.34 2121.43,1090.48 2163.72,1110.59 2206.01,1130.68 2248.3,1150.75 2290.59,1170.79 \n",
       "  \n",
       "  \"/>\n",
       "<path clip-path=\"url(#clip090)\" d=\"\n",
       "M1804.86 324.425 L2279.54 324.425 L2279.54 168.905 L1804.86 168.905  Z\n",
       "  \" fill=\"#ffffff\" fill-rule=\"evenodd\" fill-opacity=\"1\"/>\n",
       "<polyline clip-path=\"url(#clip090)\" style=\"stroke:#000000; stroke-linecap:butt; stroke-linejoin:round; stroke-width:4; stroke-opacity:1; fill:none\" points=\"\n",
       "  1804.86,324.425 2279.54,324.425 2279.54,168.905 1804.86,168.905 1804.86,324.425 \n",
       "  \"/>\n",
       "<polyline clip-path=\"url(#clip090)\" style=\"stroke:#009af9; stroke-linecap:butt; stroke-linejoin:round; stroke-width:4; stroke-opacity:1; fill:none\" points=\"\n",
       "  1829.26,220.745 1975.7,220.745 \n",
       "  \"/>\n",
       "<path clip-path=\"url(#clip090)\" d=\"M2000.1 203.465 L2029.34 203.465 L2029.34 207.4 L2017.07 207.4 L2017.07 238.025 L2012.37 238.025 L2012.37 207.4 L2000.1 207.4 L2000.1 203.465 Z\" fill=\"#000000\" fill-rule=\"evenodd\" fill-opacity=\"1\" /><path clip-path=\"url(#clip090)\" d=\"M2047.79 223.997 L2047.79 226.08 L2028.21 226.08 Q2028.48 230.478 2030.84 232.793 Q2033.23 235.085 2037.47 235.085 Q2039.92 235.085 2042.21 234.483 Q2044.53 233.881 2046.79 232.677 L2046.79 236.705 Q2044.5 237.677 2042.09 238.187 Q2039.69 238.696 2037.21 238.696 Q2031.01 238.696 2027.37 235.085 Q2023.76 231.474 2023.76 225.316 Q2023.76 218.951 2027.19 215.224 Q2030.64 211.474 2036.47 211.474 Q2041.7 211.474 2044.73 214.853 Q2047.79 218.21 2047.79 223.997 M2043.53 222.747 Q2043.48 219.252 2041.56 217.168 Q2039.66 215.085 2036.52 215.085 Q2032.95 215.085 2030.8 217.099 Q2028.67 219.113 2028.34 222.77 L2043.53 222.747 Z\" fill=\"#000000\" fill-rule=\"evenodd\" fill-opacity=\"1\" /><path clip-path=\"url(#clip090)\" d=\"M2071.31 212.863 L2071.31 216.891 Q2069.5 215.965 2067.56 215.502 Q2065.61 215.039 2063.53 215.039 Q2060.36 215.039 2058.76 216.011 Q2057.19 216.983 2057.19 218.928 Q2057.19 220.409 2058.32 221.265 Q2059.46 222.099 2062.88 222.863 L2064.34 223.187 Q2068.88 224.159 2070.78 225.941 Q2072.7 227.701 2072.7 230.872 Q2072.7 234.483 2069.83 236.589 Q2066.98 238.696 2061.98 238.696 Q2059.9 238.696 2057.63 238.279 Q2055.38 237.886 2052.88 237.076 L2052.88 232.677 Q2055.24 233.904 2057.53 234.529 Q2059.83 235.131 2062.07 235.131 Q2065.08 235.131 2066.7 234.113 Q2068.32 233.071 2068.32 231.196 Q2068.32 229.46 2067.14 228.534 Q2065.98 227.608 2062.03 226.752 L2060.54 226.404 Q2056.59 225.571 2054.83 223.858 Q2053.07 222.122 2053.07 219.113 Q2053.07 215.455 2055.66 213.465 Q2058.25 211.474 2063.02 211.474 Q2065.38 211.474 2067.46 211.821 Q2069.55 212.168 2071.31 212.863 Z\" fill=\"#000000\" fill-rule=\"evenodd\" fill-opacity=\"1\" /><path clip-path=\"url(#clip090)\" d=\"M2083.69 204.738 L2083.69 212.099 L2092.46 212.099 L2092.46 215.409 L2083.69 215.409 L2083.69 229.483 Q2083.69 232.654 2084.55 233.557 Q2085.43 234.46 2088.09 234.46 L2092.46 234.46 L2092.46 238.025 L2088.09 238.025 Q2083.16 238.025 2081.28 236.196 Q2079.41 234.344 2079.41 229.483 L2079.41 215.409 L2076.28 215.409 L2076.28 212.099 L2079.41 212.099 L2079.41 204.738 L2083.69 204.738 Z\" fill=\"#000000\" fill-rule=\"evenodd\" fill-opacity=\"1\" /><path clip-path=\"url(#clip090)\" d=\"M2113.32 203.465 L2118 203.465 L2118 234.089 L2134.83 234.089 L2134.83 238.025 L2113.32 238.025 L2113.32 203.465 Z\" fill=\"#000000\" fill-rule=\"evenodd\" fill-opacity=\"1\" /><path clip-path=\"url(#clip090)\" d=\"M2148.76 215.085 Q2145.33 215.085 2143.34 217.77 Q2141.35 220.432 2141.35 225.085 Q2141.35 229.738 2143.32 232.423 Q2145.31 235.085 2148.76 235.085 Q2152.16 235.085 2154.15 232.4 Q2156.14 229.715 2156.14 225.085 Q2156.14 220.478 2154.15 217.793 Q2152.16 215.085 2148.76 215.085 M2148.76 211.474 Q2154.32 211.474 2157.49 215.085 Q2160.66 218.696 2160.66 225.085 Q2160.66 231.451 2157.49 235.085 Q2154.32 238.696 2148.76 238.696 Q2143.18 238.696 2140.01 235.085 Q2136.86 231.451 2136.86 225.085 Q2136.86 218.696 2140.01 215.085 Q2143.18 211.474 2148.76 211.474 Z\" fill=\"#000000\" fill-rule=\"evenodd\" fill-opacity=\"1\" /><path clip-path=\"url(#clip090)\" d=\"M2184.25 212.863 L2184.25 216.891 Q2182.44 215.965 2180.5 215.502 Q2178.55 215.039 2176.47 215.039 Q2173.3 215.039 2171.7 216.011 Q2170.13 216.983 2170.13 218.928 Q2170.13 220.409 2171.26 221.265 Q2172.39 222.099 2175.82 222.863 L2177.28 223.187 Q2181.82 224.159 2183.71 225.941 Q2185.64 227.701 2185.64 230.872 Q2185.64 234.483 2182.77 236.589 Q2179.92 238.696 2174.92 238.696 Q2172.83 238.696 2170.57 238.279 Q2168.32 237.886 2165.82 237.076 L2165.82 232.677 Q2168.18 233.904 2170.47 234.529 Q2172.77 235.131 2175.01 235.131 Q2178.02 235.131 2179.64 234.113 Q2181.26 233.071 2181.26 231.196 Q2181.26 229.46 2180.08 228.534 Q2178.92 227.608 2174.96 226.752 L2173.48 226.404 Q2169.52 225.571 2167.77 223.858 Q2166.01 222.122 2166.01 219.113 Q2166.01 215.455 2168.6 213.465 Q2171.19 211.474 2175.96 211.474 Q2178.32 211.474 2180.4 211.821 Q2182.49 212.168 2184.25 212.863 Z\" fill=\"#000000\" fill-rule=\"evenodd\" fill-opacity=\"1\" /><path clip-path=\"url(#clip090)\" d=\"M2208.95 212.863 L2208.95 216.891 Q2207.14 215.965 2205.2 215.502 Q2203.25 215.039 2201.17 215.039 Q2198 215.039 2196.4 216.011 Q2194.83 216.983 2194.83 218.928 Q2194.83 220.409 2195.96 221.265 Q2197.09 222.099 2200.52 222.863 L2201.98 223.187 Q2206.52 224.159 2208.41 225.941 Q2210.33 227.701 2210.33 230.872 Q2210.33 234.483 2207.46 236.589 Q2204.62 238.696 2199.62 238.696 Q2197.53 238.696 2195.27 238.279 Q2193.02 237.886 2190.52 237.076 L2190.52 232.677 Q2192.88 233.904 2195.17 234.529 Q2197.46 235.131 2199.71 235.131 Q2202.72 235.131 2204.34 234.113 Q2205.96 233.071 2205.96 231.196 Q2205.96 229.46 2204.78 228.534 Q2203.62 227.608 2199.66 226.752 L2198.18 226.404 Q2194.22 225.571 2192.46 223.858 Q2190.7 222.122 2190.7 219.113 Q2190.7 215.455 2193.3 213.465 Q2195.89 211.474 2200.66 211.474 Q2203.02 211.474 2205.1 211.821 Q2207.19 212.168 2208.95 212.863 Z\" fill=\"#000000\" fill-rule=\"evenodd\" fill-opacity=\"1\" /><polyline clip-path=\"url(#clip090)\" style=\"stroke:#e26f46; stroke-linecap:butt; stroke-linejoin:round; stroke-width:4; stroke-opacity:1; fill:none\" points=\"\n",
       "  1829.26,272.585 1975.7,272.585 \n",
       "  \"/>\n",
       "<path clip-path=\"url(#clip090)\" d=\"M2000.1 255.305 L2029.34 255.305 L2029.34 259.24 L2017.07 259.24 L2017.07 289.865 L2012.37 289.865 L2012.37 259.24 L2000.1 259.24 L2000.1 255.305 Z\" fill=\"#000000\" fill-rule=\"evenodd\" fill-opacity=\"1\" /><path clip-path=\"url(#clip090)\" d=\"M2041.72 267.92 Q2041.01 267.504 2040.15 267.318 Q2039.32 267.11 2038.3 267.11 Q2034.69 267.11 2032.74 269.471 Q2030.82 271.809 2030.82 276.207 L2030.82 289.865 L2026.54 289.865 L2026.54 263.939 L2030.82 263.939 L2030.82 267.967 Q2032.16 265.606 2034.32 264.471 Q2036.47 263.314 2039.55 263.314 Q2039.99 263.314 2040.52 263.383 Q2041.05 263.43 2041.7 263.545 L2041.72 267.92 Z\" fill=\"#000000\" fill-rule=\"evenodd\" fill-opacity=\"1\" /><path clip-path=\"url(#clip090)\" d=\"M2057.97 276.832 Q2052.81 276.832 2050.82 278.013 Q2048.83 279.193 2048.83 282.041 Q2048.83 284.309 2050.31 285.652 Q2051.82 286.971 2054.39 286.971 Q2057.93 286.971 2060.06 284.471 Q2062.21 281.948 2062.21 277.781 L2062.21 276.832 L2057.97 276.832 M2066.47 275.073 L2066.47 289.865 L2062.21 289.865 L2062.21 285.929 Q2060.75 288.291 2058.58 289.425 Q2056.4 290.536 2053.25 290.536 Q2049.27 290.536 2046.91 288.314 Q2044.57 286.068 2044.57 282.318 Q2044.57 277.943 2047.49 275.721 Q2050.43 273.499 2056.24 273.499 L2062.21 273.499 L2062.21 273.082 Q2062.21 270.143 2060.27 268.545 Q2058.34 266.925 2054.85 266.925 Q2052.63 266.925 2050.52 267.457 Q2048.41 267.99 2046.47 269.055 L2046.47 265.119 Q2048.81 264.217 2051.01 263.777 Q2053.21 263.314 2055.29 263.314 Q2060.91 263.314 2063.69 266.231 Q2066.47 269.147 2066.47 275.073 Z\" fill=\"#000000\" fill-rule=\"evenodd\" fill-opacity=\"1\" /><path clip-path=\"url(#clip090)\" d=\"M2075.24 263.939 L2079.5 263.939 L2079.5 289.865 L2075.24 289.865 L2075.24 263.939 M2075.24 253.846 L2079.5 253.846 L2079.5 259.24 L2075.24 259.24 L2075.24 253.846 Z\" fill=\"#000000\" fill-rule=\"evenodd\" fill-opacity=\"1\" /><path clip-path=\"url(#clip090)\" d=\"M2109.96 274.217 L2109.96 289.865 L2105.71 289.865 L2105.71 274.355 Q2105.71 270.675 2104.27 268.846 Q2102.84 267.018 2099.96 267.018 Q2096.52 267.018 2094.52 269.217 Q2092.53 271.416 2092.53 275.212 L2092.53 289.865 L2088.25 289.865 L2088.25 263.939 L2092.53 263.939 L2092.53 267.967 Q2094.06 265.629 2096.12 264.471 Q2098.21 263.314 2100.91 263.314 Q2105.38 263.314 2107.67 266.092 Q2109.96 268.846 2109.96 274.217 Z\" fill=\"#000000\" fill-rule=\"evenodd\" fill-opacity=\"1\" /><path clip-path=\"url(#clip090)\" d=\"M2133.71 255.305 L2138.39 255.305 L2138.39 285.929 L2155.22 285.929 L2155.22 289.865 L2133.71 289.865 L2133.71 255.305 Z\" fill=\"#000000\" fill-rule=\"evenodd\" fill-opacity=\"1\" /><path clip-path=\"url(#clip090)\" d=\"M2169.15 266.925 Q2165.73 266.925 2163.74 269.61 Q2161.75 272.272 2161.75 276.925 Q2161.75 281.578 2163.71 284.263 Q2165.71 286.925 2169.15 286.925 Q2172.56 286.925 2174.55 284.24 Q2176.54 281.555 2176.54 276.925 Q2176.54 272.318 2174.55 269.633 Q2172.56 266.925 2169.15 266.925 M2169.15 263.314 Q2174.71 263.314 2177.88 266.925 Q2181.05 270.536 2181.05 276.925 Q2181.05 283.291 2177.88 286.925 Q2174.71 290.536 2169.15 290.536 Q2163.58 290.536 2160.4 286.925 Q2157.26 283.291 2157.26 276.925 Q2157.26 270.536 2160.4 266.925 Q2163.58 263.314 2169.15 263.314 Z\" fill=\"#000000\" fill-rule=\"evenodd\" fill-opacity=\"1\" /><path clip-path=\"url(#clip090)\" d=\"M2204.64 264.703 L2204.64 268.731 Q2202.83 267.805 2200.89 267.342 Q2198.95 266.879 2196.86 266.879 Q2193.69 266.879 2192.09 267.851 Q2190.52 268.823 2190.52 270.768 Q2190.52 272.249 2191.65 273.105 Q2192.79 273.939 2196.21 274.703 L2197.67 275.027 Q2202.21 275.999 2204.11 277.781 Q2206.03 279.541 2206.03 282.712 Q2206.03 286.323 2203.16 288.429 Q2200.31 290.536 2195.31 290.536 Q2193.23 290.536 2190.96 290.119 Q2188.71 289.726 2186.21 288.916 L2186.21 284.517 Q2188.58 285.744 2190.87 286.369 Q2193.16 286.971 2195.4 286.971 Q2198.41 286.971 2200.03 285.953 Q2201.65 284.911 2201.65 283.036 Q2201.65 281.3 2200.47 280.374 Q2199.32 279.448 2195.36 278.592 L2193.88 278.244 Q2189.92 277.411 2188.16 275.698 Q2186.4 273.962 2186.4 270.953 Q2186.4 267.295 2188.99 265.305 Q2191.58 263.314 2196.35 263.314 Q2198.71 263.314 2200.8 263.661 Q2202.88 264.008 2204.64 264.703 Z\" fill=\"#000000\" fill-rule=\"evenodd\" fill-opacity=\"1\" /><path clip-path=\"url(#clip090)\" d=\"M2229.34 264.703 L2229.34 268.731 Q2227.53 267.805 2225.59 267.342 Q2223.64 266.879 2221.56 266.879 Q2218.39 266.879 2216.79 267.851 Q2215.22 268.823 2215.22 270.768 Q2215.22 272.249 2216.35 273.105 Q2217.49 273.939 2220.91 274.703 L2222.37 275.027 Q2226.91 275.999 2228.81 277.781 Q2230.73 279.541 2230.73 282.712 Q2230.73 286.323 2227.86 288.429 Q2225.01 290.536 2220.01 290.536 Q2217.93 290.536 2215.66 290.119 Q2213.41 289.726 2210.91 288.916 L2210.91 284.517 Q2213.27 285.744 2215.57 286.369 Q2217.86 286.971 2220.1 286.971 Q2223.11 286.971 2224.73 285.953 Q2226.35 284.911 2226.35 283.036 Q2226.35 281.3 2225.17 280.374 Q2224.01 279.448 2220.06 278.592 L2218.58 278.244 Q2214.62 277.411 2212.86 275.698 Q2211.1 273.962 2211.1 270.953 Q2211.1 267.295 2213.69 265.305 Q2216.28 263.314 2221.05 263.314 Q2223.41 263.314 2225.5 263.661 Q2227.58 264.008 2229.34 264.703 Z\" fill=\"#000000\" fill-rule=\"evenodd\" fill-opacity=\"1\" /></svg>\n"
      ]
     },
     "execution_count": 22,
     "metadata": {},
     "output_type": "execute_result"
    }
   ],
   "source": [
    "# Plot test and train loss\n",
    "plot(1:args.epochs, arr_test_performance[:,1], labels= \"Test Loss\")\n",
    "plot!(1:args.epochs, arr_train_performance[:,1], labels= \"Train Loss\")\n",
    "title!(\"Test and train loss\")"
   ]
  },
  {
   "cell_type": "code",
   "execution_count": 23,
   "id": "dfc8aac2-40a4-400d-82b4-0e7ce7ed5e07",
   "metadata": {},
   "outputs": [
    {
     "data": {
      "image/svg+xml": [
       "<?xml version=\"1.0\" encoding=\"utf-8\"?>\n",
       "<svg xmlns=\"http://www.w3.org/2000/svg\" xmlns:xlink=\"http://www.w3.org/1999/xlink\" width=\"600\" height=\"400\" viewBox=\"0 0 2400 1600\">\n",
       "<defs>\n",
       "  <clipPath id=\"clip130\">\n",
       "    <rect x=\"0\" y=\"0\" width=\"2400\" height=\"1600\"/>\n",
       "  </clipPath>\n",
       "</defs>\n",
       "<path clip-path=\"url(#clip130)\" d=\"\n",
       "M0 1600 L2400 1600 L2400 0 L0 0  Z\n",
       "  \" fill=\"#ffffff\" fill-rule=\"evenodd\" fill-opacity=\"1\"/>\n",
       "<defs>\n",
       "  <clipPath id=\"clip131\">\n",
       "    <rect x=\"480\" y=\"0\" width=\"1681\" height=\"1600\"/>\n",
       "  </clipPath>\n",
       "</defs>\n",
       "<path clip-path=\"url(#clip130)\" d=\"\n",
       "M186.76 1486.45 L2352.76 1486.45 L2352.76 123.472 L186.76 123.472  Z\n",
       "  \" fill=\"#ffffff\" fill-rule=\"evenodd\" fill-opacity=\"1\"/>\n",
       "<defs>\n",
       "  <clipPath id=\"clip132\">\n",
       "    <rect x=\"186\" y=\"123\" width=\"2167\" height=\"1364\"/>\n",
       "  </clipPath>\n",
       "</defs>\n",
       "<polyline clip-path=\"url(#clip132)\" style=\"stroke:#000000; stroke-linecap:butt; stroke-linejoin:round; stroke-width:2; stroke-opacity:0.1; fill:none\" points=\"\n",
       "  206.36,1486.45 206.36,123.472 \n",
       "  \"/>\n",
       "<polyline clip-path=\"url(#clip132)\" style=\"stroke:#000000; stroke-linecap:butt; stroke-linejoin:round; stroke-width:2; stroke-opacity:0.1; fill:none\" points=\"\n",
       "  623.379,1486.45 623.379,123.472 \n",
       "  \"/>\n",
       "<polyline clip-path=\"url(#clip132)\" style=\"stroke:#000000; stroke-linecap:butt; stroke-linejoin:round; stroke-width:2; stroke-opacity:0.1; fill:none\" points=\"\n",
       "  1040.4,1486.45 1040.4,123.472 \n",
       "  \"/>\n",
       "<polyline clip-path=\"url(#clip132)\" style=\"stroke:#000000; stroke-linecap:butt; stroke-linejoin:round; stroke-width:2; stroke-opacity:0.1; fill:none\" points=\"\n",
       "  1457.42,1486.45 1457.42,123.472 \n",
       "  \"/>\n",
       "<polyline clip-path=\"url(#clip132)\" style=\"stroke:#000000; stroke-linecap:butt; stroke-linejoin:round; stroke-width:2; stroke-opacity:0.1; fill:none\" points=\"\n",
       "  1874.44,1486.45 1874.44,123.472 \n",
       "  \"/>\n",
       "<polyline clip-path=\"url(#clip132)\" style=\"stroke:#000000; stroke-linecap:butt; stroke-linejoin:round; stroke-width:2; stroke-opacity:0.1; fill:none\" points=\"\n",
       "  2291.45,1486.45 2291.45,123.472 \n",
       "  \"/>\n",
       "<polyline clip-path=\"url(#clip130)\" style=\"stroke:#000000; stroke-linecap:butt; stroke-linejoin:round; stroke-width:4; stroke-opacity:1; fill:none\" points=\"\n",
       "  186.76,1486.45 2352.76,1486.45 \n",
       "  \"/>\n",
       "<polyline clip-path=\"url(#clip130)\" style=\"stroke:#000000; stroke-linecap:butt; stroke-linejoin:round; stroke-width:4; stroke-opacity:1; fill:none\" points=\"\n",
       "  206.36,1486.45 206.36,1467.55 \n",
       "  \"/>\n",
       "<polyline clip-path=\"url(#clip130)\" style=\"stroke:#000000; stroke-linecap:butt; stroke-linejoin:round; stroke-width:4; stroke-opacity:1; fill:none\" points=\"\n",
       "  623.379,1486.45 623.379,1467.55 \n",
       "  \"/>\n",
       "<polyline clip-path=\"url(#clip130)\" style=\"stroke:#000000; stroke-linecap:butt; stroke-linejoin:round; stroke-width:4; stroke-opacity:1; fill:none\" points=\"\n",
       "  1040.4,1486.45 1040.4,1467.55 \n",
       "  \"/>\n",
       "<polyline clip-path=\"url(#clip130)\" style=\"stroke:#000000; stroke-linecap:butt; stroke-linejoin:round; stroke-width:4; stroke-opacity:1; fill:none\" points=\"\n",
       "  1457.42,1486.45 1457.42,1467.55 \n",
       "  \"/>\n",
       "<polyline clip-path=\"url(#clip130)\" style=\"stroke:#000000; stroke-linecap:butt; stroke-linejoin:round; stroke-width:4; stroke-opacity:1; fill:none\" points=\"\n",
       "  1874.44,1486.45 1874.44,1467.55 \n",
       "  \"/>\n",
       "<polyline clip-path=\"url(#clip130)\" style=\"stroke:#000000; stroke-linecap:butt; stroke-linejoin:round; stroke-width:4; stroke-opacity:1; fill:none\" points=\"\n",
       "  2291.45,1486.45 2291.45,1467.55 \n",
       "  \"/>\n",
       "<path clip-path=\"url(#clip130)\" d=\"M206.36 1515.64 Q202.749 1515.64 200.92 1519.2 Q199.115 1522.75 199.115 1529.87 Q199.115 1536.98 200.92 1540.55 Q202.749 1544.09 206.36 1544.09 Q209.994 1544.09 211.8 1540.55 Q213.628 1536.98 213.628 1529.87 Q213.628 1522.75 211.8 1519.2 Q209.994 1515.64 206.36 1515.64 M206.36 1511.93 Q212.17 1511.93 215.226 1516.54 Q218.304 1521.12 218.304 1529.87 Q218.304 1538.6 215.226 1543.21 Q212.17 1547.79 206.36 1547.79 Q200.55 1547.79 197.471 1543.21 Q194.416 1538.6 194.416 1529.87 Q194.416 1521.12 197.471 1516.54 Q200.55 1511.93 206.36 1511.93 Z\" fill=\"#000000\" fill-rule=\"evenodd\" fill-opacity=\"1\" /><path clip-path=\"url(#clip130)\" d=\"M598.066 1543.18 L605.705 1543.18 L605.705 1516.82 L597.395 1518.49 L597.395 1514.23 L605.659 1512.56 L610.335 1512.56 L610.335 1543.18 L617.974 1543.18 L617.974 1547.12 L598.066 1547.12 L598.066 1543.18 Z\" fill=\"#000000\" fill-rule=\"evenodd\" fill-opacity=\"1\" /><path clip-path=\"url(#clip130)\" d=\"M637.418 1515.64 Q633.807 1515.64 631.978 1519.2 Q630.173 1522.75 630.173 1529.87 Q630.173 1536.98 631.978 1540.55 Q633.807 1544.09 637.418 1544.09 Q641.052 1544.09 642.858 1540.55 Q644.687 1536.98 644.687 1529.87 Q644.687 1522.75 642.858 1519.2 Q641.052 1515.64 637.418 1515.64 M637.418 1511.93 Q643.228 1511.93 646.284 1516.54 Q649.362 1521.12 649.362 1529.87 Q649.362 1538.6 646.284 1543.21 Q643.228 1547.79 637.418 1547.79 Q631.608 1547.79 628.529 1543.21 Q625.474 1538.6 625.474 1529.87 Q625.474 1521.12 628.529 1516.54 Q631.608 1511.93 637.418 1511.93 Z\" fill=\"#000000\" fill-rule=\"evenodd\" fill-opacity=\"1\" /><path clip-path=\"url(#clip130)\" d=\"M1019.17 1543.18 L1035.49 1543.18 L1035.49 1547.12 L1013.55 1547.12 L1013.55 1543.18 Q1016.21 1540.43 1020.79 1535.8 Q1025.4 1531.15 1026.58 1529.81 Q1028.82 1527.28 1029.7 1525.55 Q1030.61 1523.79 1030.61 1522.1 Q1030.61 1519.34 1028.66 1517.61 Q1026.74 1515.87 1023.64 1515.87 Q1021.44 1515.87 1018.99 1516.63 Q1016.56 1517.4 1013.78 1518.95 L1013.78 1514.23 Q1016.6 1513.09 1019.06 1512.51 Q1021.51 1511.93 1023.55 1511.93 Q1028.92 1511.93 1032.11 1514.62 Q1035.31 1517.31 1035.31 1521.8 Q1035.31 1523.93 1034.49 1525.85 Q1033.71 1527.74 1031.6 1530.34 Q1031.02 1531.01 1027.92 1534.23 Q1024.82 1537.42 1019.17 1543.18 Z\" fill=\"#000000\" fill-rule=\"evenodd\" fill-opacity=\"1\" /><path clip-path=\"url(#clip130)\" d=\"M1055.3 1515.64 Q1051.69 1515.64 1049.87 1519.2 Q1048.06 1522.75 1048.06 1529.87 Q1048.06 1536.98 1049.87 1540.55 Q1051.69 1544.09 1055.3 1544.09 Q1058.94 1544.09 1060.74 1540.55 Q1062.57 1536.98 1062.57 1529.87 Q1062.57 1522.75 1060.74 1519.2 Q1058.94 1515.64 1055.3 1515.64 M1055.3 1511.93 Q1061.12 1511.93 1064.17 1516.54 Q1067.25 1521.12 1067.25 1529.87 Q1067.25 1538.6 1064.17 1543.21 Q1061.12 1547.79 1055.3 1547.79 Q1049.49 1547.79 1046.42 1543.21 Q1043.36 1538.6 1043.36 1529.87 Q1043.36 1521.12 1046.42 1516.54 Q1049.49 1511.93 1055.3 1511.93 Z\" fill=\"#000000\" fill-rule=\"evenodd\" fill-opacity=\"1\" /><path clip-path=\"url(#clip130)\" d=\"M1446.26 1528.49 Q1449.62 1529.2 1451.49 1531.47 Q1453.39 1533.74 1453.39 1537.07 Q1453.39 1542.19 1449.87 1544.99 Q1446.35 1547.79 1439.87 1547.79 Q1437.69 1547.79 1435.38 1547.35 Q1433.09 1546.93 1430.63 1546.08 L1430.63 1541.56 Q1432.58 1542.7 1434.89 1543.28 Q1437.21 1543.86 1439.73 1543.86 Q1444.13 1543.86 1446.42 1542.12 Q1448.74 1540.38 1448.74 1537.07 Q1448.74 1534.02 1446.58 1532.31 Q1444.45 1530.57 1440.63 1530.57 L1436.61 1530.57 L1436.61 1526.73 L1440.82 1526.73 Q1444.27 1526.73 1446.1 1525.36 Q1447.93 1523.97 1447.93 1521.38 Q1447.93 1518.72 1446.03 1517.31 Q1444.15 1515.87 1440.63 1515.87 Q1438.71 1515.87 1436.51 1516.29 Q1434.31 1516.7 1431.68 1517.58 L1431.68 1513.42 Q1434.34 1512.68 1436.65 1512.31 Q1438.99 1511.93 1441.05 1511.93 Q1446.37 1511.93 1449.48 1514.37 Q1452.58 1516.77 1452.58 1520.89 Q1452.58 1523.76 1450.94 1525.75 Q1449.29 1527.72 1446.26 1528.49 Z\" fill=\"#000000\" fill-rule=\"evenodd\" fill-opacity=\"1\" /><path clip-path=\"url(#clip130)\" d=\"M1472.25 1515.64 Q1468.64 1515.64 1466.81 1519.2 Q1465.01 1522.75 1465.01 1529.87 Q1465.01 1536.98 1466.81 1540.55 Q1468.64 1544.09 1472.25 1544.09 Q1475.89 1544.09 1477.69 1540.55 Q1479.52 1536.98 1479.52 1529.87 Q1479.52 1522.75 1477.69 1519.2 Q1475.89 1515.64 1472.25 1515.64 M1472.25 1511.93 Q1478.06 1511.93 1481.12 1516.54 Q1484.2 1521.12 1484.2 1529.87 Q1484.2 1538.6 1481.12 1543.21 Q1478.06 1547.79 1472.25 1547.79 Q1466.44 1547.79 1463.37 1543.21 Q1460.31 1538.6 1460.31 1529.87 Q1460.31 1521.12 1463.37 1516.54 Q1466.44 1511.93 1472.25 1511.93 Z\" fill=\"#000000\" fill-rule=\"evenodd\" fill-opacity=\"1\" /><path clip-path=\"url(#clip130)\" d=\"M1862.61 1516.63 L1850.8 1535.08 L1862.61 1535.08 L1862.61 1516.63 M1861.38 1512.56 L1867.26 1512.56 L1867.26 1535.08 L1872.19 1535.08 L1872.19 1538.97 L1867.26 1538.97 L1867.26 1547.12 L1862.61 1547.12 L1862.61 1538.97 L1847 1538.97 L1847 1534.46 L1861.38 1512.56 Z\" fill=\"#000000\" fill-rule=\"evenodd\" fill-opacity=\"1\" /><path clip-path=\"url(#clip130)\" d=\"M1889.92 1515.64 Q1886.31 1515.64 1884.48 1519.2 Q1882.68 1522.75 1882.68 1529.87 Q1882.68 1536.98 1884.48 1540.55 Q1886.31 1544.09 1889.92 1544.09 Q1893.56 1544.09 1895.36 1540.55 Q1897.19 1536.98 1897.19 1529.87 Q1897.19 1522.75 1895.36 1519.2 Q1893.56 1515.64 1889.92 1515.64 M1889.92 1511.93 Q1895.73 1511.93 1898.79 1516.54 Q1901.87 1521.12 1901.87 1529.87 Q1901.87 1538.6 1898.79 1543.21 Q1895.73 1547.79 1889.92 1547.79 Q1884.11 1547.79 1881.03 1543.21 Q1877.98 1538.6 1877.98 1529.87 Q1877.98 1521.12 1881.03 1516.54 Q1884.11 1511.93 1889.92 1511.93 Z\" fill=\"#000000\" fill-rule=\"evenodd\" fill-opacity=\"1\" /><path clip-path=\"url(#clip130)\" d=\"M2266.15 1512.56 L2284.51 1512.56 L2284.51 1516.5 L2270.44 1516.5 L2270.44 1524.97 Q2271.45 1524.62 2272.47 1524.46 Q2273.49 1524.27 2274.51 1524.27 Q2280.3 1524.27 2283.68 1527.44 Q2287.06 1530.62 2287.06 1536.03 Q2287.06 1541.61 2283.58 1544.71 Q2280.11 1547.79 2273.79 1547.79 Q2271.62 1547.79 2269.35 1547.42 Q2267.1 1547.05 2264.7 1546.31 L2264.7 1541.61 Q2266.78 1542.74 2269 1543.3 Q2271.22 1543.86 2273.7 1543.86 Q2277.7 1543.86 2280.04 1541.75 Q2282.38 1539.64 2282.38 1536.03 Q2282.38 1532.42 2280.04 1530.31 Q2277.7 1528.21 2273.7 1528.21 Q2271.82 1528.21 2269.95 1528.62 Q2268.1 1529.04 2266.15 1529.92 L2266.15 1512.56 Z\" fill=\"#000000\" fill-rule=\"evenodd\" fill-opacity=\"1\" /><path clip-path=\"url(#clip130)\" d=\"M2306.27 1515.64 Q2302.66 1515.64 2300.83 1519.2 Q2299.02 1522.75 2299.02 1529.87 Q2299.02 1536.98 2300.83 1540.55 Q2302.66 1544.09 2306.27 1544.09 Q2309.9 1544.09 2311.71 1540.55 Q2313.54 1536.98 2313.54 1529.87 Q2313.54 1522.75 2311.71 1519.2 Q2309.9 1515.64 2306.27 1515.64 M2306.27 1511.93 Q2312.08 1511.93 2315.13 1516.54 Q2318.21 1521.12 2318.21 1529.87 Q2318.21 1538.6 2315.13 1543.21 Q2312.08 1547.79 2306.27 1547.79 Q2300.46 1547.79 2297.38 1543.21 Q2294.32 1538.6 2294.32 1529.87 Q2294.32 1521.12 2297.38 1516.54 Q2300.46 1511.93 2306.27 1511.93 Z\" fill=\"#000000\" fill-rule=\"evenodd\" fill-opacity=\"1\" /><polyline clip-path=\"url(#clip132)\" style=\"stroke:#000000; stroke-linecap:butt; stroke-linejoin:round; stroke-width:2; stroke-opacity:0.1; fill:none\" points=\"\n",
       "  186.76,1447.87 2352.76,1447.87 \n",
       "  \"/>\n",
       "<polyline clip-path=\"url(#clip132)\" style=\"stroke:#000000; stroke-linecap:butt; stroke-linejoin:round; stroke-width:2; stroke-opacity:0.1; fill:none\" points=\"\n",
       "  186.76,1227.77 2352.76,1227.77 \n",
       "  \"/>\n",
       "<polyline clip-path=\"url(#clip132)\" style=\"stroke:#000000; stroke-linecap:butt; stroke-linejoin:round; stroke-width:2; stroke-opacity:0.1; fill:none\" points=\"\n",
       "  186.76,1007.67 2352.76,1007.67 \n",
       "  \"/>\n",
       "<polyline clip-path=\"url(#clip132)\" style=\"stroke:#000000; stroke-linecap:butt; stroke-linejoin:round; stroke-width:2; stroke-opacity:0.1; fill:none\" points=\"\n",
       "  186.76,787.574 2352.76,787.574 \n",
       "  \"/>\n",
       "<polyline clip-path=\"url(#clip132)\" style=\"stroke:#000000; stroke-linecap:butt; stroke-linejoin:round; stroke-width:2; stroke-opacity:0.1; fill:none\" points=\"\n",
       "  186.76,567.475 2352.76,567.475 \n",
       "  \"/>\n",
       "<polyline clip-path=\"url(#clip132)\" style=\"stroke:#000000; stroke-linecap:butt; stroke-linejoin:round; stroke-width:2; stroke-opacity:0.1; fill:none\" points=\"\n",
       "  186.76,347.375 2352.76,347.375 \n",
       "  \"/>\n",
       "<polyline clip-path=\"url(#clip132)\" style=\"stroke:#000000; stroke-linecap:butt; stroke-linejoin:round; stroke-width:2; stroke-opacity:0.1; fill:none\" points=\"\n",
       "  186.76,127.275 2352.76,127.275 \n",
       "  \"/>\n",
       "<polyline clip-path=\"url(#clip130)\" style=\"stroke:#000000; stroke-linecap:butt; stroke-linejoin:round; stroke-width:4; stroke-opacity:1; fill:none\" points=\"\n",
       "  186.76,1486.45 186.76,123.472 \n",
       "  \"/>\n",
       "<polyline clip-path=\"url(#clip130)\" style=\"stroke:#000000; stroke-linecap:butt; stroke-linejoin:round; stroke-width:4; stroke-opacity:1; fill:none\" points=\"\n",
       "  186.76,1447.87 205.658,1447.87 \n",
       "  \"/>\n",
       "<polyline clip-path=\"url(#clip130)\" style=\"stroke:#000000; stroke-linecap:butt; stroke-linejoin:round; stroke-width:4; stroke-opacity:1; fill:none\" points=\"\n",
       "  186.76,1227.77 205.658,1227.77 \n",
       "  \"/>\n",
       "<polyline clip-path=\"url(#clip130)\" style=\"stroke:#000000; stroke-linecap:butt; stroke-linejoin:round; stroke-width:4; stroke-opacity:1; fill:none\" points=\"\n",
       "  186.76,1007.67 205.658,1007.67 \n",
       "  \"/>\n",
       "<polyline clip-path=\"url(#clip130)\" style=\"stroke:#000000; stroke-linecap:butt; stroke-linejoin:round; stroke-width:4; stroke-opacity:1; fill:none\" points=\"\n",
       "  186.76,787.574 205.658,787.574 \n",
       "  \"/>\n",
       "<polyline clip-path=\"url(#clip130)\" style=\"stroke:#000000; stroke-linecap:butt; stroke-linejoin:round; stroke-width:4; stroke-opacity:1; fill:none\" points=\"\n",
       "  186.76,567.475 205.658,567.475 \n",
       "  \"/>\n",
       "<polyline clip-path=\"url(#clip130)\" style=\"stroke:#000000; stroke-linecap:butt; stroke-linejoin:round; stroke-width:4; stroke-opacity:1; fill:none\" points=\"\n",
       "  186.76,347.375 205.658,347.375 \n",
       "  \"/>\n",
       "<polyline clip-path=\"url(#clip130)\" style=\"stroke:#000000; stroke-linecap:butt; stroke-linejoin:round; stroke-width:4; stroke-opacity:1; fill:none\" points=\"\n",
       "  186.76,127.275 205.658,127.275 \n",
       "  \"/>\n",
       "<path clip-path=\"url(#clip130)\" d=\"M63.4226 1433.67 Q59.8115 1433.67 57.9828 1437.24 Q56.1773 1440.78 56.1773 1447.91 Q56.1773 1455.01 57.9828 1458.58 Q59.8115 1462.12 63.4226 1462.12 Q67.0569 1462.12 68.8624 1458.58 Q70.6911 1455.01 70.6911 1447.91 Q70.6911 1440.78 68.8624 1437.24 Q67.0569 1433.67 63.4226 1433.67 M63.4226 1429.97 Q69.2328 1429.97 72.2883 1434.57 Q75.367 1439.16 75.367 1447.91 Q75.367 1456.63 72.2883 1461.24 Q69.2328 1465.82 63.4226 1465.82 Q57.6125 1465.82 54.5338 1461.24 Q51.4782 1456.63 51.4782 1447.91 Q51.4782 1439.16 54.5338 1434.57 Q57.6125 1429.97 63.4226 1429.97 Z\" fill=\"#000000\" fill-rule=\"evenodd\" fill-opacity=\"1\" /><path clip-path=\"url(#clip130)\" d=\"M83.5845 1459.27 L88.4688 1459.27 L88.4688 1465.15 L83.5845 1465.15 L83.5845 1459.27 Z\" fill=\"#000000\" fill-rule=\"evenodd\" fill-opacity=\"1\" /><path clip-path=\"url(#clip130)\" d=\"M108.654 1433.67 Q105.043 1433.67 103.214 1437.24 Q101.409 1440.78 101.409 1447.91 Q101.409 1455.01 103.214 1458.58 Q105.043 1462.12 108.654 1462.12 Q112.288 1462.12 114.094 1458.58 Q115.922 1455.01 115.922 1447.91 Q115.922 1440.78 114.094 1437.24 Q112.288 1433.67 108.654 1433.67 M108.654 1429.97 Q114.464 1429.97 117.52 1434.57 Q120.598 1439.16 120.598 1447.91 Q120.598 1456.63 117.52 1461.24 Q114.464 1465.82 108.654 1465.82 Q102.844 1465.82 99.765 1461.24 Q96.7095 1456.63 96.7095 1447.91 Q96.7095 1439.16 99.765 1434.57 Q102.844 1429.97 108.654 1429.97 Z\" fill=\"#000000\" fill-rule=\"evenodd\" fill-opacity=\"1\" /><path clip-path=\"url(#clip130)\" d=\"M138.816 1433.67 Q135.205 1433.67 133.376 1437.24 Q131.57 1440.78 131.57 1447.91 Q131.57 1455.01 133.376 1458.58 Q135.205 1462.12 138.816 1462.12 Q142.45 1462.12 144.256 1458.58 Q146.084 1455.01 146.084 1447.91 Q146.084 1440.78 144.256 1437.24 Q142.45 1433.67 138.816 1433.67 M138.816 1429.97 Q144.626 1429.97 147.681 1434.57 Q150.76 1439.16 150.76 1447.91 Q150.76 1456.63 147.681 1461.24 Q144.626 1465.82 138.816 1465.82 Q133.006 1465.82 129.927 1461.24 Q126.871 1456.63 126.871 1447.91 Q126.871 1439.16 129.927 1434.57 Q133.006 1429.97 138.816 1429.97 Z\" fill=\"#000000\" fill-rule=\"evenodd\" fill-opacity=\"1\" /><path clip-path=\"url(#clip130)\" d=\"M64.6495 1213.57 Q61.0384 1213.57 59.2097 1217.14 Q57.4041 1220.68 57.4041 1227.81 Q57.4041 1234.91 59.2097 1238.48 Q61.0384 1242.02 64.6495 1242.02 Q68.2837 1242.02 70.0892 1238.48 Q71.9179 1234.91 71.9179 1227.81 Q71.9179 1220.68 70.0892 1217.14 Q68.2837 1213.57 64.6495 1213.57 M64.6495 1209.87 Q70.4596 1209.87 73.5152 1214.47 Q76.5938 1219.06 76.5938 1227.81 Q76.5938 1236.53 73.5152 1241.14 Q70.4596 1245.72 64.6495 1245.72 Q58.8393 1245.72 55.7606 1241.14 Q52.7051 1236.53 52.7051 1227.81 Q52.7051 1219.06 55.7606 1214.47 Q58.8393 1209.87 64.6495 1209.87 Z\" fill=\"#000000\" fill-rule=\"evenodd\" fill-opacity=\"1\" /><path clip-path=\"url(#clip130)\" d=\"M84.8114 1239.17 L89.6956 1239.17 L89.6956 1245.05 L84.8114 1245.05 L84.8114 1239.17 Z\" fill=\"#000000\" fill-rule=\"evenodd\" fill-opacity=\"1\" /><path clip-path=\"url(#clip130)\" d=\"M109.881 1213.57 Q106.27 1213.57 104.441 1217.14 Q102.635 1220.68 102.635 1227.81 Q102.635 1234.91 104.441 1238.48 Q106.27 1242.02 109.881 1242.02 Q113.515 1242.02 115.32 1238.48 Q117.149 1234.91 117.149 1227.81 Q117.149 1220.68 115.32 1217.14 Q113.515 1213.57 109.881 1213.57 M109.881 1209.87 Q115.691 1209.87 118.746 1214.47 Q121.825 1219.06 121.825 1227.81 Q121.825 1236.53 118.746 1241.14 Q115.691 1245.72 109.881 1245.72 Q104.071 1245.72 100.992 1241.14 Q97.9363 1236.53 97.9363 1227.81 Q97.9363 1219.06 100.992 1214.47 Q104.071 1209.87 109.881 1209.87 Z\" fill=\"#000000\" fill-rule=\"evenodd\" fill-opacity=\"1\" /><path clip-path=\"url(#clip130)\" d=\"M130.853 1241.12 L138.492 1241.12 L138.492 1214.75 L130.182 1216.42 L130.182 1212.16 L138.445 1210.49 L143.121 1210.49 L143.121 1241.12 L150.76 1241.12 L150.76 1245.05 L130.853 1245.05 L130.853 1241.12 Z\" fill=\"#000000\" fill-rule=\"evenodd\" fill-opacity=\"1\" /><path clip-path=\"url(#clip130)\" d=\"M65.0198 993.473 Q61.4087 993.473 59.58 997.037 Q57.7745 1000.58 57.7745 1007.71 Q57.7745 1014.81 59.58 1018.38 Q61.4087 1021.92 65.0198 1021.92 Q68.6541 1021.92 70.4596 1018.38 Q72.2883 1014.81 72.2883 1007.71 Q72.2883 1000.58 70.4596 997.037 Q68.6541 993.473 65.0198 993.473 M65.0198 989.769 Q70.83 989.769 73.8855 994.375 Q76.9642 998.959 76.9642 1007.71 Q76.9642 1016.44 73.8855 1021.04 Q70.83 1025.63 65.0198 1025.63 Q59.2097 1025.63 56.131 1021.04 Q53.0754 1016.44 53.0754 1007.71 Q53.0754 998.959 56.131 994.375 Q59.2097 989.769 65.0198 989.769 Z\" fill=\"#000000\" fill-rule=\"evenodd\" fill-opacity=\"1\" /><path clip-path=\"url(#clip130)\" d=\"M85.1818 1019.07 L90.066 1019.07 L90.066 1024.95 L85.1818 1024.95 L85.1818 1019.07 Z\" fill=\"#000000\" fill-rule=\"evenodd\" fill-opacity=\"1\" /><path clip-path=\"url(#clip130)\" d=\"M110.251 993.473 Q106.64 993.473 104.811 997.037 Q103.006 1000.58 103.006 1007.71 Q103.006 1014.81 104.811 1018.38 Q106.64 1021.92 110.251 1021.92 Q113.885 1021.92 115.691 1018.38 Q117.52 1014.81 117.52 1007.71 Q117.52 1000.58 115.691 997.037 Q113.885 993.473 110.251 993.473 M110.251 989.769 Q116.061 989.769 119.117 994.375 Q122.195 998.959 122.195 1007.71 Q122.195 1016.44 119.117 1021.04 Q116.061 1025.63 110.251 1025.63 Q104.441 1025.63 101.362 1021.04 Q98.3067 1016.44 98.3067 1007.71 Q98.3067 998.959 101.362 994.375 Q104.441 989.769 110.251 989.769 Z\" fill=\"#000000\" fill-rule=\"evenodd\" fill-opacity=\"1\" /><path clip-path=\"url(#clip130)\" d=\"M134.441 1021.02 L150.76 1021.02 L150.76 1024.95 L128.816 1024.95 L128.816 1021.02 Q131.478 1018.26 136.061 1013.63 Q140.668 1008.98 141.848 1007.64 Q144.093 1005.12 144.973 1003.38 Q145.876 1001.62 145.876 999.931 Q145.876 997.176 143.931 995.44 Q142.01 993.704 138.908 993.704 Q136.709 993.704 134.256 994.468 Q131.825 995.232 129.047 996.783 L129.047 992.06 Q131.871 990.926 134.325 990.348 Q136.779 989.769 138.816 989.769 Q144.186 989.769 147.38 992.454 Q150.575 995.139 150.575 999.63 Q150.575 1001.76 149.765 1003.68 Q148.978 1005.58 146.871 1008.17 Q146.293 1008.84 143.191 1012.06 Q140.089 1015.25 134.441 1021.02 Z\" fill=\"#000000\" fill-rule=\"evenodd\" fill-opacity=\"1\" /><path clip-path=\"url(#clip130)\" d=\"M64.0708 773.373 Q60.4597 773.373 58.631 776.938 Q56.8254 780.479 56.8254 787.609 Q56.8254 794.715 58.631 798.28 Q60.4597 801.822 64.0708 801.822 Q67.705 801.822 69.5105 798.28 Q71.3392 794.715 71.3392 787.609 Q71.3392 780.479 69.5105 776.938 Q67.705 773.373 64.0708 773.373 M64.0708 769.669 Q69.8809 769.669 72.9365 774.276 Q76.0151 778.859 76.0151 787.609 Q76.0151 796.336 72.9365 800.942 Q69.8809 805.525 64.0708 805.525 Q58.2606 805.525 55.1819 800.942 Q52.1264 796.336 52.1264 787.609 Q52.1264 778.859 55.1819 774.276 Q58.2606 769.669 64.0708 769.669 Z\" fill=\"#000000\" fill-rule=\"evenodd\" fill-opacity=\"1\" /><path clip-path=\"url(#clip130)\" d=\"M84.2327 798.975 L89.1169 798.975 L89.1169 804.854 L84.2327 804.854 L84.2327 798.975 Z\" fill=\"#000000\" fill-rule=\"evenodd\" fill-opacity=\"1\" /><path clip-path=\"url(#clip130)\" d=\"M109.302 773.373 Q105.691 773.373 103.862 776.938 Q102.057 780.479 102.057 787.609 Q102.057 794.715 103.862 798.28 Q105.691 801.822 109.302 801.822 Q112.936 801.822 114.742 798.28 Q116.57 794.715 116.57 787.609 Q116.57 780.479 114.742 776.938 Q112.936 773.373 109.302 773.373 M109.302 769.669 Q115.112 769.669 118.168 774.276 Q121.246 778.859 121.246 787.609 Q121.246 796.336 118.168 800.942 Q115.112 805.525 109.302 805.525 Q103.492 805.525 100.413 800.942 Q97.3576 796.336 97.3576 787.609 Q97.3576 778.859 100.413 774.276 Q103.492 769.669 109.302 769.669 Z\" fill=\"#000000\" fill-rule=\"evenodd\" fill-opacity=\"1\" /><path clip-path=\"url(#clip130)\" d=\"M143.631 786.22 Q146.987 786.938 148.862 789.206 Q150.76 791.475 150.76 794.808 Q150.76 799.924 147.242 802.725 Q143.723 805.525 137.242 805.525 Q135.066 805.525 132.751 805.086 Q130.459 804.669 128.006 803.813 L128.006 799.299 Q129.95 800.433 132.265 801.012 Q134.58 801.59 137.103 801.59 Q141.501 801.59 143.793 799.854 Q146.107 798.118 146.107 794.808 Q146.107 791.752 143.955 790.039 Q141.825 788.303 138.006 788.303 L133.978 788.303 L133.978 784.461 L138.191 784.461 Q141.64 784.461 143.468 783.095 Q145.297 781.706 145.297 779.114 Q145.297 776.452 143.399 775.04 Q141.524 773.604 138.006 773.604 Q136.084 773.604 133.885 774.021 Q131.686 774.438 129.047 775.317 L129.047 771.151 Q131.709 770.41 134.024 770.04 Q136.362 769.669 138.422 769.669 Q143.746 769.669 146.848 772.1 Q149.95 774.507 149.95 778.627 Q149.95 781.498 148.306 783.489 Q146.663 785.456 143.631 786.22 Z\" fill=\"#000000\" fill-rule=\"evenodd\" fill-opacity=\"1\" /><path clip-path=\"url(#clip130)\" d=\"M62.9365 553.273 Q59.3254 553.273 57.4967 556.838 Q55.6912 560.38 55.6912 567.509 Q55.6912 574.616 57.4967 578.181 Q59.3254 581.722 62.9365 581.722 Q66.5707 581.722 68.3763 578.181 Q70.205 574.616 70.205 567.509 Q70.205 560.38 68.3763 556.838 Q66.5707 553.273 62.9365 553.273 M62.9365 549.57 Q68.7467 549.57 71.8022 554.176 Q74.8809 558.759 74.8809 567.509 Q74.8809 576.236 71.8022 580.843 Q68.7467 585.426 62.9365 585.426 Q57.1264 585.426 54.0477 580.843 Q50.9921 576.236 50.9921 567.509 Q50.9921 558.759 54.0477 554.176 Q57.1264 549.57 62.9365 549.57 Z\" fill=\"#000000\" fill-rule=\"evenodd\" fill-opacity=\"1\" /><path clip-path=\"url(#clip130)\" d=\"M83.0984 578.875 L87.9827 578.875 L87.9827 584.755 L83.0984 584.755 L83.0984 578.875 Z\" fill=\"#000000\" fill-rule=\"evenodd\" fill-opacity=\"1\" /><path clip-path=\"url(#clip130)\" d=\"M108.168 553.273 Q104.557 553.273 102.728 556.838 Q100.922 560.38 100.922 567.509 Q100.922 574.616 102.728 578.181 Q104.557 581.722 108.168 581.722 Q111.802 581.722 113.608 578.181 Q115.436 574.616 115.436 567.509 Q115.436 560.38 113.608 556.838 Q111.802 553.273 108.168 553.273 M108.168 549.57 Q113.978 549.57 117.033 554.176 Q120.112 558.759 120.112 567.509 Q120.112 576.236 117.033 580.843 Q113.978 585.426 108.168 585.426 Q102.358 585.426 99.2789 580.843 Q96.2234 576.236 96.2234 567.509 Q96.2234 558.759 99.2789 554.176 Q102.358 549.57 108.168 549.57 Z\" fill=\"#000000\" fill-rule=\"evenodd\" fill-opacity=\"1\" /><path clip-path=\"url(#clip130)\" d=\"M141.177 554.269 L129.371 572.718 L141.177 572.718 L141.177 554.269 M139.95 550.195 L145.83 550.195 L145.83 572.718 L150.76 572.718 L150.76 576.606 L145.83 576.606 L145.83 584.755 L141.177 584.755 L141.177 576.606 L125.575 576.606 L125.575 572.093 L139.95 550.195 Z\" fill=\"#000000\" fill-rule=\"evenodd\" fill-opacity=\"1\" /><path clip-path=\"url(#clip130)\" d=\"M64.418 333.174 Q60.8069 333.174 58.9782 336.738 Q57.1726 340.28 57.1726 347.41 Q57.1726 354.516 58.9782 358.081 Q60.8069 361.623 64.418 361.623 Q68.0522 361.623 69.8578 358.081 Q71.6865 354.516 71.6865 347.41 Q71.6865 340.28 69.8578 336.738 Q68.0522 333.174 64.418 333.174 M64.418 329.47 Q70.2281 329.47 73.2837 334.076 Q76.3624 338.66 76.3624 347.41 Q76.3624 356.136 73.2837 360.743 Q70.2281 365.326 64.418 365.326 Q58.6078 365.326 55.5291 360.743 Q52.4736 356.136 52.4736 347.41 Q52.4736 338.66 55.5291 334.076 Q58.6078 329.47 64.418 329.47 Z\" fill=\"#000000\" fill-rule=\"evenodd\" fill-opacity=\"1\" /><path clip-path=\"url(#clip130)\" d=\"M84.5799 358.775 L89.4641 358.775 L89.4641 364.655 L84.5799 364.655 L84.5799 358.775 Z\" fill=\"#000000\" fill-rule=\"evenodd\" fill-opacity=\"1\" /><path clip-path=\"url(#clip130)\" d=\"M109.649 333.174 Q106.038 333.174 104.209 336.738 Q102.404 340.28 102.404 347.41 Q102.404 354.516 104.209 358.081 Q106.038 361.623 109.649 361.623 Q113.283 361.623 115.089 358.081 Q116.918 354.516 116.918 347.41 Q116.918 340.28 115.089 336.738 Q113.283 333.174 109.649 333.174 M109.649 329.47 Q115.459 329.47 118.515 334.076 Q121.594 338.66 121.594 347.41 Q121.594 356.136 118.515 360.743 Q115.459 365.326 109.649 365.326 Q103.839 365.326 100.76 360.743 Q97.7048 356.136 97.7048 347.41 Q97.7048 338.66 100.76 334.076 Q103.839 329.47 109.649 329.47 Z\" fill=\"#000000\" fill-rule=\"evenodd\" fill-opacity=\"1\" /><path clip-path=\"url(#clip130)\" d=\"M129.857 330.095 L148.214 330.095 L148.214 334.03 L134.14 334.03 L134.14 342.502 Q135.158 342.155 136.177 341.993 Q137.195 341.808 138.214 341.808 Q144.001 341.808 147.38 344.979 Q150.76 348.15 150.76 353.567 Q150.76 359.146 147.288 362.248 Q143.816 365.326 137.496 365.326 Q135.32 365.326 133.052 364.956 Q130.807 364.585 128.399 363.845 L128.399 359.146 Q130.482 360.28 132.705 360.835 Q134.927 361.391 137.404 361.391 Q141.408 361.391 143.746 359.285 Q146.084 357.178 146.084 353.567 Q146.084 349.956 143.746 347.849 Q141.408 345.743 137.404 345.743 Q135.529 345.743 133.654 346.16 Q131.802 346.576 129.857 347.456 L129.857 330.095 Z\" fill=\"#000000\" fill-rule=\"evenodd\" fill-opacity=\"1\" /><path clip-path=\"url(#clip130)\" d=\"M63.2606 113.074 Q59.6495 113.074 57.8208 116.639 Q56.0152 120.18 56.0152 127.31 Q56.0152 134.416 57.8208 137.981 Q59.6495 141.523 63.2606 141.523 Q66.8948 141.523 68.7004 137.981 Q70.5291 134.416 70.5291 127.31 Q70.5291 120.18 68.7004 116.639 Q66.8948 113.074 63.2606 113.074 M63.2606 109.37 Q69.0707 109.37 72.1263 113.977 Q75.205 118.56 75.205 127.31 Q75.205 136.037 72.1263 140.643 Q69.0707 145.227 63.2606 145.227 Q57.4504 145.227 54.3717 140.643 Q51.3162 136.037 51.3162 127.31 Q51.3162 118.56 54.3717 113.977 Q57.4504 109.37 63.2606 109.37 Z\" fill=\"#000000\" fill-rule=\"evenodd\" fill-opacity=\"1\" /><path clip-path=\"url(#clip130)\" d=\"M83.4225 138.676 L88.3067 138.676 L88.3067 144.555 L83.4225 144.555 L83.4225 138.676 Z\" fill=\"#000000\" fill-rule=\"evenodd\" fill-opacity=\"1\" /><path clip-path=\"url(#clip130)\" d=\"M108.492 113.074 Q104.881 113.074 103.052 116.639 Q101.246 120.18 101.246 127.31 Q101.246 134.416 103.052 137.981 Q104.881 141.523 108.492 141.523 Q112.126 141.523 113.932 137.981 Q115.76 134.416 115.76 127.31 Q115.76 120.18 113.932 116.639 Q112.126 113.074 108.492 113.074 M108.492 109.37 Q114.302 109.37 117.358 113.977 Q120.436 118.56 120.436 127.31 Q120.436 136.037 117.358 140.643 Q114.302 145.227 108.492 145.227 Q102.682 145.227 99.603 140.643 Q96.5474 136.037 96.5474 127.31 Q96.5474 118.56 99.603 113.977 Q102.682 109.37 108.492 109.37 Z\" fill=\"#000000\" fill-rule=\"evenodd\" fill-opacity=\"1\" /><path clip-path=\"url(#clip130)\" d=\"M139.232 125.412 Q136.084 125.412 134.232 127.565 Q132.404 129.717 132.404 133.467 Q132.404 137.194 134.232 139.37 Q136.084 141.523 139.232 141.523 Q142.381 141.523 144.209 139.37 Q146.061 137.194 146.061 133.467 Q146.061 129.717 144.209 127.565 Q142.381 125.412 139.232 125.412 M148.515 110.759 L148.515 115.018 Q146.756 114.185 144.95 113.745 Q143.168 113.305 141.408 113.305 Q136.779 113.305 134.325 116.43 Q131.894 119.555 131.547 125.875 Q132.913 123.861 134.973 122.796 Q137.033 121.708 139.51 121.708 Q144.718 121.708 147.728 124.879 Q150.76 128.028 150.76 133.467 Q150.76 138.791 147.612 142.009 Q144.464 145.227 139.232 145.227 Q133.237 145.227 130.066 140.643 Q126.894 136.037 126.894 127.31 Q126.894 119.116 130.783 114.255 Q134.672 109.37 141.223 109.37 Q142.982 109.37 144.765 109.717 Q146.57 110.065 148.515 110.759 Z\" fill=\"#000000\" fill-rule=\"evenodd\" fill-opacity=\"1\" /><path clip-path=\"url(#clip130)\" d=\"M784.905 12.096 L836.068 12.096 L836.068 18.9825 L814.598 18.9825 L814.598 72.576 L806.375 72.576 L806.375 18.9825 L784.905 18.9825 L784.905 12.096 Z\" fill=\"#000000\" fill-rule=\"evenodd\" fill-opacity=\"1\" /><path clip-path=\"url(#clip130)\" d=\"M868.354 48.0275 L868.354 51.6733 L834.083 51.6733 Q834.569 59.3701 838.701 63.421 Q842.874 67.4314 850.287 67.4314 Q854.581 67.4314 858.591 66.3781 Q862.642 65.3249 866.612 63.2184 L866.612 70.267 Q862.602 71.9684 858.389 72.8596 Q854.176 73.7508 849.841 73.7508 Q838.985 73.7508 832.625 67.4314 Q826.306 61.1119 826.306 50.3365 Q826.306 39.1965 832.301 32.6746 Q838.337 26.1121 848.545 26.1121 Q857.7 26.1121 863.007 32.0264 Q868.354 37.9003 868.354 48.0275 M860.9 45.84 Q860.819 39.7232 857.457 36.0774 Q854.135 32.4315 848.626 32.4315 Q842.388 32.4315 838.62 35.9558 Q834.893 39.4801 834.326 45.8805 L860.9 45.84 Z\" fill=\"#000000\" fill-rule=\"evenodd\" fill-opacity=\"1\" /><path clip-path=\"url(#clip130)\" d=\"M909.511 28.5427 L909.511 35.5912 Q906.351 33.9709 902.949 33.1607 Q899.546 32.3505 895.9 32.3505 Q890.35 32.3505 887.555 34.0519 Q884.801 35.7533 884.801 39.156 Q884.801 41.7486 886.786 43.2475 Q888.77 44.7058 894.766 46.0426 L897.318 46.6097 Q905.258 48.3111 908.579 51.4303 Q911.942 54.509 911.942 60.0587 Q911.942 66.3781 906.919 70.0644 Q901.936 73.7508 893.186 73.7508 Q889.54 73.7508 885.57 73.0216 Q881.641 72.3329 877.266 70.9151 L877.266 63.2184 Q881.398 65.3654 885.408 66.4591 Q889.419 67.5124 893.348 67.5124 Q898.614 67.5124 901.45 65.73 Q904.285 63.9071 904.285 60.6258 Q904.285 57.5877 902.219 55.9673 Q900.194 54.3469 893.267 52.8481 L890.674 52.2405 Q883.747 50.7821 880.669 47.7845 Q877.59 44.7463 877.59 39.4801 Q877.59 33.0797 882.127 29.5959 Q886.664 26.1121 895.009 26.1121 Q899.141 26.1121 902.787 26.7198 Q906.432 27.3274 909.511 28.5427 Z\" fill=\"#000000\" fill-rule=\"evenodd\" fill-opacity=\"1\" /><path clip-path=\"url(#clip130)\" d=\"M931.183 14.324 L931.183 27.2059 L946.536 27.2059 L946.536 32.9987 L931.183 32.9987 L931.183 57.6282 Q931.183 63.1779 932.682 64.7578 Q934.222 66.3376 938.88 66.3376 L946.536 66.3376 L946.536 72.576 L938.88 72.576 Q930.252 72.576 926.97 69.3758 Q923.689 66.1351 923.689 57.6282 L923.689 32.9987 L918.221 32.9987 L918.221 27.2059 L923.689 27.2059 L923.689 14.324 L931.183 14.324 Z\" fill=\"#000000\" fill-rule=\"evenodd\" fill-opacity=\"1\" /><path clip-path=\"url(#clip130)\" d=\"M1003.33 49.7694 Q994.297 49.7694 990.813 51.8354 Q987.329 53.9013 987.329 58.8839 Q987.329 62.8538 989.922 65.2034 Q992.555 67.5124 997.051 67.5124 Q1003.25 67.5124 1006.98 63.1374 Q1010.74 58.7219 1010.74 51.4303 L1010.74 49.7694 L1003.33 49.7694 M1018.2 46.6907 L1018.2 72.576 L1010.74 72.576 L1010.74 65.6895 Q1008.19 69.8214 1004.38 71.8063 Q1000.58 73.7508 995.066 73.7508 Q988.099 73.7508 983.967 69.8619 Q979.875 65.9325 979.875 59.3701 Q979.875 51.7138 984.979 47.825 Q990.124 43.9361 1000.29 43.9361 L1010.74 43.9361 L1010.74 43.2069 Q1010.74 38.0623 1007.34 35.2672 Q1003.98 32.4315 997.861 32.4315 Q993.972 32.4315 990.286 33.3632 Q986.6 34.295 983.197 36.1584 L983.197 29.2718 Q987.288 27.692 991.137 26.9223 Q994.985 26.1121 998.631 26.1121 Q1008.47 26.1121 1013.34 31.2163 Q1018.2 36.3204 1018.2 46.6907 Z\" fill=\"#000000\" fill-rule=\"evenodd\" fill-opacity=\"1\" /><path clip-path=\"url(#clip130)\" d=\"M1071.26 45.1919 L1071.26 72.576 L1063.81 72.576 L1063.81 45.4349 Q1063.81 38.994 1061.3 35.7938 Q1058.79 32.5936 1053.76 32.5936 Q1047.73 32.5936 1044.24 36.4419 Q1040.76 40.2903 1040.76 46.9338 L1040.76 72.576 L1033.27 72.576 L1033.27 27.2059 L1040.76 27.2059 L1040.76 34.2544 Q1043.43 30.163 1047.04 28.1376 Q1050.69 26.1121 1055.42 26.1121 Q1063.24 26.1121 1067.25 30.9732 Q1071.26 35.7938 1071.26 45.1919 Z\" fill=\"#000000\" fill-rule=\"evenodd\" fill-opacity=\"1\" /><path clip-path=\"url(#clip130)\" d=\"M1115.99 34.0924 L1115.99 9.54393 L1123.44 9.54393 L1123.44 72.576 L1115.99 72.576 L1115.99 65.7705 Q1113.64 69.8214 1110.03 71.8063 Q1106.47 73.7508 1101.44 73.7508 Q1093.22 73.7508 1088.03 67.1883 Q1082.89 60.6258 1082.89 49.9314 Q1082.89 39.2371 1088.03 32.6746 Q1093.22 26.1121 1101.44 26.1121 Q1106.47 26.1121 1110.03 28.0971 Q1113.64 30.0415 1115.99 34.0924 M1090.59 49.9314 Q1090.59 58.1548 1093.95 62.8538 Q1097.35 67.5124 1103.27 67.5124 Q1109.18 67.5124 1112.58 62.8538 Q1115.99 58.1548 1115.99 49.9314 Q1115.99 41.7081 1112.58 37.0496 Q1109.18 32.3505 1103.27 32.3505 Q1097.35 32.3505 1093.95 37.0496 Q1090.59 41.7081 1090.59 49.9314 Z\" fill=\"#000000\" fill-rule=\"evenodd\" fill-opacity=\"1\" /><path clip-path=\"url(#clip130)\" d=\"M1157.1 12.096 L1208.27 12.096 L1208.27 18.9825 L1186.8 18.9825 L1186.8 72.576 L1178.57 72.576 L1178.57 18.9825 L1157.1 18.9825 L1157.1 12.096 Z\" fill=\"#000000\" fill-rule=\"evenodd\" fill-opacity=\"1\" /><path clip-path=\"url(#clip130)\" d=\"M1229.94 34.1734 Q1228.68 33.4443 1227.18 33.1202 Q1225.72 32.7556 1223.94 32.7556 Q1217.62 32.7556 1214.22 36.8875 Q1210.86 40.9789 1210.86 48.6757 L1210.86 72.576 L1203.36 72.576 L1203.36 27.2059 L1210.86 27.2059 L1210.86 34.2544 Q1213.21 30.1225 1216.97 28.1376 Q1220.74 26.1121 1226.13 26.1121 Q1226.9 26.1121 1227.83 26.2337 Q1228.76 26.3147 1229.9 26.5172 L1229.94 34.1734 Z\" fill=\"#000000\" fill-rule=\"evenodd\" fill-opacity=\"1\" /><path clip-path=\"url(#clip130)\" d=\"M1258.37 49.7694 Q1249.34 49.7694 1245.86 51.8354 Q1242.37 53.9013 1242.37 58.8839 Q1242.37 62.8538 1244.97 65.2034 Q1247.6 67.5124 1252.1 67.5124 Q1258.29 67.5124 1262.02 63.1374 Q1265.79 58.7219 1265.79 51.4303 L1265.79 49.7694 L1258.37 49.7694 M1273.24 46.6907 L1273.24 72.576 L1265.79 72.576 L1265.79 65.6895 Q1263.24 69.8214 1259.43 71.8063 Q1255.62 73.7508 1250.11 73.7508 Q1243.14 73.7508 1239.01 69.8619 Q1234.92 65.9325 1234.92 59.3701 Q1234.92 51.7138 1240.02 47.825 Q1245.17 43.9361 1255.34 43.9361 L1265.79 43.9361 L1265.79 43.2069 Q1265.79 38.0623 1262.39 35.2672 Q1259.02 32.4315 1252.91 32.4315 Q1249.02 32.4315 1245.33 33.3632 Q1241.64 34.295 1238.24 36.1584 L1238.24 29.2718 Q1242.33 27.692 1246.18 26.9223 Q1250.03 26.1121 1253.68 26.1121 Q1263.52 26.1121 1268.38 31.2163 Q1273.24 36.3204 1273.24 46.6907 Z\" fill=\"#000000\" fill-rule=\"evenodd\" fill-opacity=\"1\" /><path clip-path=\"url(#clip130)\" d=\"M1288.59 27.2059 L1296.05 27.2059 L1296.05 72.576 L1288.59 72.576 L1288.59 27.2059 M1288.59 9.54393 L1296.05 9.54393 L1296.05 18.9825 L1288.59 18.9825 L1288.59 9.54393 Z\" fill=\"#000000\" fill-rule=\"evenodd\" fill-opacity=\"1\" /><path clip-path=\"url(#clip130)\" d=\"M1349.36 45.1919 L1349.36 72.576 L1341.9 72.576 L1341.9 45.4349 Q1341.9 38.994 1339.39 35.7938 Q1336.88 32.5936 1331.86 32.5936 Q1325.82 32.5936 1322.34 36.4419 Q1318.85 40.2903 1318.85 46.9338 L1318.85 72.576 L1311.36 72.576 L1311.36 27.2059 L1318.85 27.2059 L1318.85 34.2544 Q1321.53 30.163 1325.13 28.1376 Q1328.78 26.1121 1333.52 26.1121 Q1341.34 26.1121 1345.35 30.9732 Q1349.36 35.7938 1349.36 45.1919 Z\" fill=\"#000000\" fill-rule=\"evenodd\" fill-opacity=\"1\" /><path clip-path=\"url(#clip130)\" d=\"M1411.22 49.7694 Q1402.18 49.7694 1398.7 51.8354 Q1395.21 53.9013 1395.21 58.8839 Q1395.21 62.8538 1397.81 65.2034 Q1400.44 67.5124 1404.94 67.5124 Q1411.13 67.5124 1414.86 63.1374 Q1418.63 58.7219 1418.63 51.4303 L1418.63 49.7694 L1411.22 49.7694 M1426.08 46.6907 L1426.08 72.576 L1418.63 72.576 L1418.63 65.6895 Q1416.08 69.8214 1412.27 71.8063 Q1408.46 73.7508 1402.95 73.7508 Q1395.98 73.7508 1391.85 69.8619 Q1387.76 65.9325 1387.76 59.3701 Q1387.76 51.7138 1392.86 47.825 Q1398.01 43.9361 1408.18 43.9361 L1418.63 43.9361 L1418.63 43.2069 Q1418.63 38.0623 1415.23 35.2672 Q1411.86 32.4315 1405.75 32.4315 Q1401.86 32.4315 1398.17 33.3632 Q1394.49 34.295 1391.08 36.1584 L1391.08 29.2718 Q1395.17 27.692 1399.02 26.9223 Q1402.87 26.1121 1406.52 26.1121 Q1416.36 26.1121 1421.22 31.2163 Q1426.08 36.3204 1426.08 46.6907 Z\" fill=\"#000000\" fill-rule=\"evenodd\" fill-opacity=\"1\" /><path clip-path=\"url(#clip130)\" d=\"M1474.09 28.9478 L1474.09 35.9153 Q1470.93 34.1734 1467.73 33.3227 Q1464.57 32.4315 1461.33 32.4315 Q1454.07 32.4315 1450.06 37.0496 Q1446.05 41.6271 1446.05 49.9314 Q1446.05 58.2358 1450.06 62.8538 Q1454.07 67.4314 1461.33 67.4314 Q1464.57 67.4314 1467.73 66.5807 Q1470.93 65.6895 1474.09 63.9476 L1474.09 70.8341 Q1470.97 72.2924 1467.6 73.0216 Q1464.28 73.7508 1460.52 73.7508 Q1450.27 73.7508 1444.23 67.3098 Q1438.19 60.8689 1438.19 49.9314 Q1438.19 38.832 1444.27 32.472 Q1450.39 26.1121 1461 26.1121 Q1464.44 26.1121 1467.73 26.8413 Q1471.01 27.5299 1474.09 28.9478 Z\" fill=\"#000000\" fill-rule=\"evenodd\" fill-opacity=\"1\" /><path clip-path=\"url(#clip130)\" d=\"M1519.7 28.9478 L1519.7 35.9153 Q1516.54 34.1734 1513.34 33.3227 Q1510.18 32.4315 1506.94 32.4315 Q1499.69 32.4315 1495.68 37.0496 Q1491.67 41.6271 1491.67 49.9314 Q1491.67 58.2358 1495.68 62.8538 Q1499.69 67.4314 1506.94 67.4314 Q1510.18 67.4314 1513.34 66.5807 Q1516.54 65.6895 1519.7 63.9476 L1519.7 70.8341 Q1516.58 72.2924 1513.22 73.0216 Q1509.9 73.7508 1506.13 73.7508 Q1495.88 73.7508 1489.84 67.3098 Q1483.81 60.8689 1483.81 49.9314 Q1483.81 38.832 1489.88 32.472 Q1496 26.1121 1506.61 26.1121 Q1510.06 26.1121 1513.34 26.8413 Q1516.62 27.5299 1519.7 28.9478 Z\" fill=\"#000000\" fill-rule=\"evenodd\" fill-opacity=\"1\" /><path clip-path=\"url(#clip130)\" d=\"M1531.89 54.671 L1531.89 27.2059 L1539.35 27.2059 L1539.35 54.3874 Q1539.35 60.8284 1541.86 64.0691 Q1544.37 67.2693 1549.39 67.2693 Q1555.43 67.2693 1558.91 63.421 Q1562.44 59.5726 1562.44 52.9291 L1562.44 27.2059 L1569.89 27.2059 L1569.89 72.576 L1562.44 72.576 L1562.44 65.6084 Q1559.72 69.7404 1556.12 71.7658 Q1552.55 73.7508 1547.81 73.7508 Q1539.99 73.7508 1535.94 68.8897 Q1531.89 64.0286 1531.89 54.671 M1550.65 26.1121 L1550.65 26.1121 Z\" fill=\"#000000\" fill-rule=\"evenodd\" fill-opacity=\"1\" /><path clip-path=\"url(#clip130)\" d=\"M1611.53 34.1734 Q1610.28 33.4443 1608.78 33.1202 Q1607.32 32.7556 1605.54 32.7556 Q1599.22 32.7556 1595.82 36.8875 Q1592.45 40.9789 1592.45 48.6757 L1592.45 72.576 L1584.96 72.576 L1584.96 27.2059 L1592.45 27.2059 L1592.45 34.2544 Q1594.8 30.1225 1598.57 28.1376 Q1602.34 26.1121 1607.72 26.1121 Q1608.49 26.1121 1609.43 26.2337 Q1610.36 26.3147 1611.49 26.5172 L1611.53 34.1734 Z\" fill=\"#000000\" fill-rule=\"evenodd\" fill-opacity=\"1\" /><path clip-path=\"url(#clip130)\" d=\"M1639.97 49.7694 Q1630.94 49.7694 1627.45 51.8354 Q1623.97 53.9013 1623.97 58.8839 Q1623.97 62.8538 1626.56 65.2034 Q1629.19 67.5124 1633.69 67.5124 Q1639.89 67.5124 1643.62 63.1374 Q1647.38 58.7219 1647.38 51.4303 L1647.38 49.7694 L1639.97 49.7694 M1654.84 46.6907 L1654.84 72.576 L1647.38 72.576 L1647.38 65.6895 Q1644.83 69.8214 1641.02 71.8063 Q1637.22 73.7508 1631.71 73.7508 Q1624.74 73.7508 1620.61 69.8619 Q1616.52 65.9325 1616.52 59.3701 Q1616.52 51.7138 1621.62 47.825 Q1626.76 43.9361 1636.93 43.9361 L1647.38 43.9361 L1647.38 43.2069 Q1647.38 38.0623 1643.98 35.2672 Q1640.62 32.4315 1634.5 32.4315 Q1630.61 32.4315 1626.93 33.3632 Q1623.24 34.295 1619.84 36.1584 L1619.84 29.2718 Q1623.93 27.692 1627.78 26.9223 Q1631.63 26.1121 1635.27 26.1121 Q1645.11 26.1121 1649.98 31.2163 Q1654.84 36.3204 1654.84 46.6907 Z\" fill=\"#000000\" fill-rule=\"evenodd\" fill-opacity=\"1\" /><path clip-path=\"url(#clip130)\" d=\"M1702.84 28.9478 L1702.84 35.9153 Q1699.68 34.1734 1696.48 33.3227 Q1693.32 32.4315 1690.08 32.4315 Q1682.83 32.4315 1678.82 37.0496 Q1674.81 41.6271 1674.81 49.9314 Q1674.81 58.2358 1678.82 62.8538 Q1682.83 67.4314 1690.08 67.4314 Q1693.32 67.4314 1696.48 66.5807 Q1699.68 65.6895 1702.84 63.9476 L1702.84 70.8341 Q1699.72 72.2924 1696.36 73.0216 Q1693.04 73.7508 1689.27 73.7508 Q1679.02 73.7508 1672.99 67.3098 Q1666.95 60.8689 1666.95 49.9314 Q1666.95 38.832 1673.03 32.472 Q1679.14 26.1121 1689.76 26.1121 Q1693.2 26.1121 1696.48 26.8413 Q1699.76 27.5299 1702.84 28.9478 Z\" fill=\"#000000\" fill-rule=\"evenodd\" fill-opacity=\"1\" /><path clip-path=\"url(#clip130)\" d=\"M1734.68 76.7889 Q1731.52 84.8907 1728.52 87.3618 Q1725.53 89.8329 1720.5 89.8329 L1714.55 89.8329 L1714.55 83.5945 L1718.92 83.5945 Q1722 83.5945 1723.7 82.1361 Q1725.4 80.6778 1727.47 75.2496 L1728.81 71.8468 L1710.46 27.2059 L1718.36 27.2059 L1732.53 62.6918 L1746.71 27.2059 L1754.61 27.2059 L1734.68 76.7889 Z\" fill=\"#000000\" fill-rule=\"evenodd\" fill-opacity=\"1\" /><polyline clip-path=\"url(#clip132)\" style=\"stroke:#009af9; stroke-linecap:butt; stroke-linejoin:round; stroke-width:4; stroke-opacity:1; fill:none\" points=\"\n",
       "  248.062,162.047 289.764,162.047 331.466,162.047 373.168,162.047 414.869,162.047 456.571,162.047 498.273,162.047 539.975,162.047 581.677,162.047 623.379,162.047 \n",
       "  665.081,162.047 706.783,162.047 748.484,162.047 790.186,162.047 831.888,162.047 873.59,162.047 915.292,162.047 956.994,162.047 998.696,162.047 1040.4,162.047 \n",
       "  1082.1,162.047 1123.8,162.047 1165.5,162.047 1207.21,162.047 1248.91,162.047 1290.61,162.047 1332.31,162.047 1374.01,162.047 1415.71,162.047 1457.42,162.047 \n",
       "  1499.12,162.047 1540.82,162.047 1582.52,162.047 1624.22,162.047 1665.93,162.047 1707.63,162.047 1749.33,162.047 1791.03,162.047 1832.73,162.047 1874.44,162.047 \n",
       "  1916.14,162.047 1957.84,162.047 1999.54,162.047 2041.24,162.047 2082.94,162.047 2124.65,162.047 2166.35,162.047 2208.05,162.047 2249.75,162.047 2291.45,162.047 \n",
       "  \n",
       "  \"/>\n",
       "<polyline clip-path=\"url(#clip132)\" style=\"stroke:#e26f46; stroke-linecap:butt; stroke-linejoin:round; stroke-width:4; stroke-opacity:1; fill:none\" points=\"\n",
       "  248.062,1304.49 289.764,1304.49 331.466,1304.49 373.168,1304.49 414.869,1304.49 456.571,1304.49 498.273,1304.49 539.975,1304.49 581.677,1304.49 623.379,1304.49 \n",
       "  665.081,1304.49 706.783,1304.49 748.484,1304.49 790.186,1304.49 831.888,1304.49 873.59,1304.49 915.292,1304.49 956.994,1304.49 998.696,1304.49 1040.4,1304.49 \n",
       "  1082.1,1304.49 1123.8,1304.49 1165.5,1304.49 1207.21,1304.49 1248.91,1304.49 1290.61,1304.49 1332.31,1304.49 1374.01,1304.49 1415.71,1304.49 1457.42,1304.49 \n",
       "  1499.12,1304.49 1540.82,1304.49 1582.52,1304.49 1624.22,1304.49 1665.93,1304.49 1707.63,1304.49 1749.33,1304.49 1791.03,1304.49 1832.73,1304.49 1874.44,1304.49 \n",
       "  1916.14,1304.49 1957.84,1304.49 1999.54,1304.49 2041.24,1304.49 2082.94,1304.49 2124.65,1304.49 2166.35,1304.49 2208.05,1304.49 2249.75,1304.49 2291.45,1304.49 \n",
       "  \n",
       "  \"/>\n",
       "<polyline clip-path=\"url(#clip132)\" style=\"stroke:#c271d2; stroke-linecap:butt; stroke-linejoin:round; stroke-width:4; stroke-opacity:1; fill:none\" points=\"\n",
       "  248.062,1447.87 289.764,1447.87 331.466,1447.87 373.168,1447.87 414.869,1447.87 456.571,1447.87 498.273,1447.87 539.975,1447.87 581.677,1447.87 623.379,1447.87 \n",
       "  665.081,1447.87 706.783,1447.87 748.484,1447.87 790.186,1447.87 831.888,1447.87 873.59,1447.87 915.292,1447.87 956.994,1447.87 998.696,1447.87 1040.4,1447.87 \n",
       "  1082.1,1447.87 1123.8,1447.87 1165.5,1447.87 1207.21,1447.87 1248.91,1447.87 1290.61,1447.87 1332.31,1447.87 1374.01,1447.87 1415.71,1447.87 1457.42,1447.87 \n",
       "  1499.12,1447.87 1540.82,1447.87 1582.52,1447.87 1624.22,1447.87 1665.93,1447.87 1707.63,1447.87 1749.33,1447.87 1791.03,1447.87 1832.73,1447.87 1874.44,1447.87 \n",
       "  1916.14,1447.87 1957.84,1447.87 1999.54,1447.87 2041.24,1447.87 2082.94,1447.87 2124.65,1447.87 2166.35,1447.87 2208.05,1447.87 2249.75,1447.87 2291.45,1447.87 \n",
       "  \n",
       "  \"/>\n",
       "<path clip-path=\"url(#clip130)\" d=\"\n",
       "M1695.91 479.945 L2280.56 479.945 L2280.56 168.905 L1695.91 168.905  Z\n",
       "  \" fill=\"#ffffff\" fill-rule=\"evenodd\" fill-opacity=\"1\"/>\n",
       "<polyline clip-path=\"url(#clip130)\" style=\"stroke:#000000; stroke-linecap:butt; stroke-linejoin:round; stroke-width:4; stroke-opacity:1; fill:none\" points=\"\n",
       "  1695.91,479.945 2280.56,479.945 2280.56,168.905 1695.91,168.905 1695.91,479.945 \n",
       "  \"/>\n",
       "<polyline clip-path=\"url(#clip130)\" style=\"stroke:#009af9; stroke-linecap:butt; stroke-linejoin:round; stroke-width:4; stroke-opacity:1; fill:none\" points=\"\n",
       "  1719.98,220.745 1864.38,220.745 \n",
       "  \"/>\n",
       "<path clip-path=\"url(#clip130)\" d=\"M1888.44 203.465 L1917.68 203.465 L1917.68 207.4 L1905.41 207.4 L1905.41 238.025 L1900.71 238.025 L1900.71 207.4 L1888.44 207.4 L1888.44 203.465 Z\" fill=\"#000000\" fill-rule=\"evenodd\" fill-opacity=\"1\" /><path clip-path=\"url(#clip130)\" d=\"M1936.13 223.997 L1936.13 226.08 L1916.54 226.08 Q1916.82 230.478 1919.18 232.793 Q1921.57 235.085 1925.8 235.085 Q1928.26 235.085 1930.55 234.483 Q1932.86 233.881 1935.13 232.677 L1935.13 236.705 Q1932.84 237.677 1930.43 238.187 Q1928.03 238.696 1925.55 238.696 Q1919.35 238.696 1915.71 235.085 Q1912.1 231.474 1912.1 225.316 Q1912.1 218.951 1915.53 215.224 Q1918.98 211.474 1924.81 211.474 Q1930.04 211.474 1933.07 214.853 Q1936.13 218.21 1936.13 223.997 M1931.87 222.747 Q1931.82 219.252 1929.9 217.168 Q1928 215.085 1924.86 215.085 Q1921.29 215.085 1919.14 217.099 Q1917.01 219.113 1916.68 222.77 L1931.87 222.747 Z\" fill=\"#000000\" fill-rule=\"evenodd\" fill-opacity=\"1\" /><path clip-path=\"url(#clip130)\" d=\"M1959.65 212.863 L1959.65 216.891 Q1957.84 215.965 1955.9 215.502 Q1953.95 215.039 1951.87 215.039 Q1948.7 215.039 1947.1 216.011 Q1945.53 216.983 1945.53 218.928 Q1945.53 220.409 1946.66 221.265 Q1947.79 222.099 1951.22 222.863 L1952.68 223.187 Q1957.22 224.159 1959.11 225.941 Q1961.04 227.701 1961.04 230.872 Q1961.04 234.483 1958.17 236.589 Q1955.32 238.696 1950.32 238.696 Q1948.23 238.696 1945.97 238.279 Q1943.72 237.886 1941.22 237.076 L1941.22 232.677 Q1943.58 233.904 1945.87 234.529 Q1948.17 235.131 1950.41 235.131 Q1953.42 235.131 1955.04 234.113 Q1956.66 233.071 1956.66 231.196 Q1956.66 229.46 1955.48 228.534 Q1954.32 227.608 1950.36 226.752 L1948.88 226.404 Q1944.92 225.571 1943.17 223.858 Q1941.41 222.122 1941.41 219.113 Q1941.41 215.455 1944 213.465 Q1946.59 211.474 1951.36 211.474 Q1953.72 211.474 1955.8 211.821 Q1957.89 212.168 1959.65 212.863 Z\" fill=\"#000000\" fill-rule=\"evenodd\" fill-opacity=\"1\" /><path clip-path=\"url(#clip130)\" d=\"M1972.03 204.738 L1972.03 212.099 L1980.8 212.099 L1980.8 215.409 L1972.03 215.409 L1972.03 229.483 Q1972.03 232.654 1972.89 233.557 Q1973.77 234.46 1976.43 234.46 L1980.8 234.46 L1980.8 238.025 L1976.43 238.025 Q1971.5 238.025 1969.62 236.196 Q1967.75 234.344 1967.75 229.483 L1967.75 215.409 L1964.62 215.409 L1964.62 212.099 L1967.75 212.099 L1967.75 204.738 L1972.03 204.738 Z\" fill=\"#000000\" fill-rule=\"evenodd\" fill-opacity=\"1\" /><path clip-path=\"url(#clip130)\" d=\"M2013.21 208.071 L2006.87 225.27 L2019.58 225.27 L2013.21 208.071 M2010.57 203.465 L2015.87 203.465 L2029.04 238.025 L2024.18 238.025 L2021.04 229.159 L2005.46 229.159 L2002.31 238.025 L1997.38 238.025 L2010.57 203.465 Z\" fill=\"#000000\" fill-rule=\"evenodd\" fill-opacity=\"1\" /><path clip-path=\"url(#clip130)\" d=\"M2051.73 213.094 L2051.73 217.076 Q2049.92 216.08 2048.1 215.594 Q2046.29 215.085 2044.44 215.085 Q2040.29 215.085 2038 217.724 Q2035.71 220.34 2035.71 225.085 Q2035.71 229.83 2038 232.469 Q2040.29 235.085 2044.44 235.085 Q2046.29 235.085 2048.1 234.599 Q2049.92 234.089 2051.73 233.094 L2051.73 237.029 Q2049.95 237.863 2048.03 238.279 Q2046.13 238.696 2043.97 238.696 Q2038.12 238.696 2034.67 235.015 Q2031.22 231.335 2031.22 225.085 Q2031.22 218.742 2034.69 215.108 Q2038.19 211.474 2044.25 211.474 Q2046.22 211.474 2048.1 211.891 Q2049.97 212.284 2051.73 213.094 Z\" fill=\"#000000\" fill-rule=\"evenodd\" fill-opacity=\"1\" /><path clip-path=\"url(#clip130)\" d=\"M2077.79 213.094 L2077.79 217.076 Q2075.99 216.08 2074.16 215.594 Q2072.35 215.085 2070.5 215.085 Q2066.36 215.085 2064.07 217.724 Q2061.78 220.34 2061.78 225.085 Q2061.78 229.83 2064.07 232.469 Q2066.36 235.085 2070.5 235.085 Q2072.35 235.085 2074.16 234.599 Q2075.99 234.089 2077.79 233.094 L2077.79 237.029 Q2076.01 237.863 2074.09 238.279 Q2072.19 238.696 2070.04 238.696 Q2064.18 238.696 2060.73 235.015 Q2057.28 231.335 2057.28 225.085 Q2057.28 218.742 2060.76 215.108 Q2064.25 211.474 2070.32 211.474 Q2072.28 211.474 2074.16 211.891 Q2076.03 212.284 2077.79 213.094 Z\" fill=\"#000000\" fill-rule=\"evenodd\" fill-opacity=\"1\" /><path clip-path=\"url(#clip130)\" d=\"M2084.76 227.793 L2084.76 212.099 L2089.02 212.099 L2089.02 227.631 Q2089.02 231.312 2090.46 233.164 Q2091.89 234.992 2094.76 234.992 Q2098.21 234.992 2100.2 232.793 Q2102.22 230.594 2102.22 226.798 L2102.22 212.099 L2106.47 212.099 L2106.47 238.025 L2102.22 238.025 L2102.22 234.043 Q2100.66 236.404 2098.6 237.562 Q2096.57 238.696 2093.86 238.696 Q2089.39 238.696 2087.08 235.918 Q2084.76 233.14 2084.76 227.793 M2095.48 211.474 L2095.48 211.474 Z\" fill=\"#000000\" fill-rule=\"evenodd\" fill-opacity=\"1\" /><path clip-path=\"url(#clip130)\" d=\"M2130.27 216.08 Q2129.55 215.664 2128.7 215.478 Q2127.86 215.27 2126.84 215.27 Q2123.23 215.27 2121.29 217.631 Q2119.37 219.969 2119.37 224.367 L2119.37 238.025 L2115.09 238.025 L2115.09 212.099 L2119.37 212.099 L2119.37 216.127 Q2120.71 213.766 2122.86 212.631 Q2125.02 211.474 2128.09 211.474 Q2128.53 211.474 2129.07 211.543 Q2129.6 211.59 2130.25 211.705 L2130.27 216.08 Z\" fill=\"#000000\" fill-rule=\"evenodd\" fill-opacity=\"1\" /><path clip-path=\"url(#clip130)\" d=\"M2146.52 224.992 Q2141.36 224.992 2139.37 226.173 Q2137.38 227.353 2137.38 230.201 Q2137.38 232.469 2138.86 233.812 Q2140.36 235.131 2142.93 235.131 Q2146.47 235.131 2148.6 232.631 Q2150.76 230.108 2150.76 225.941 L2150.76 224.992 L2146.52 224.992 M2155.02 223.233 L2155.02 238.025 L2150.76 238.025 L2150.76 234.089 Q2149.3 236.451 2147.12 237.585 Q2144.95 238.696 2141.8 238.696 Q2137.82 238.696 2135.46 236.474 Q2133.12 234.228 2133.12 230.478 Q2133.12 226.103 2136.03 223.881 Q2138.97 221.659 2144.78 221.659 L2150.76 221.659 L2150.76 221.242 Q2150.76 218.303 2148.81 216.705 Q2146.89 215.085 2143.4 215.085 Q2141.17 215.085 2139.07 215.617 Q2136.96 216.15 2135.02 217.215 L2135.02 213.279 Q2137.35 212.377 2139.55 211.937 Q2141.75 211.474 2143.84 211.474 Q2149.46 211.474 2152.24 214.391 Q2155.02 217.307 2155.02 223.233 Z\" fill=\"#000000\" fill-rule=\"evenodd\" fill-opacity=\"1\" /><path clip-path=\"url(#clip130)\" d=\"M2182.45 213.094 L2182.45 217.076 Q2180.64 216.08 2178.81 215.594 Q2177.01 215.085 2175.15 215.085 Q2171.01 215.085 2168.72 217.724 Q2166.43 220.34 2166.43 225.085 Q2166.43 229.83 2168.72 232.469 Q2171.01 235.085 2175.15 235.085 Q2177.01 235.085 2178.81 234.599 Q2180.64 234.089 2182.45 233.094 L2182.45 237.029 Q2180.66 237.863 2178.74 238.279 Q2176.84 238.696 2174.69 238.696 Q2168.84 238.696 2165.39 235.015 Q2161.94 231.335 2161.94 225.085 Q2161.94 218.742 2165.41 215.108 Q2168.9 211.474 2174.97 211.474 Q2176.94 211.474 2178.81 211.891 Q2180.69 212.284 2182.45 213.094 Z\" fill=\"#000000\" fill-rule=\"evenodd\" fill-opacity=\"1\" /><path clip-path=\"url(#clip130)\" d=\"M2200.64 240.432 Q2198.84 245.062 2197.12 246.474 Q2195.41 247.886 2192.54 247.886 L2189.14 247.886 L2189.14 244.321 L2191.64 244.321 Q2193.4 244.321 2194.37 243.488 Q2195.34 242.654 2196.52 239.552 L2197.28 237.608 L2186.8 212.099 L2191.31 212.099 L2199.41 232.377 L2207.52 212.099 L2212.03 212.099 L2200.64 240.432 Z\" fill=\"#000000\" fill-rule=\"evenodd\" fill-opacity=\"1\" /><polyline clip-path=\"url(#clip130)\" style=\"stroke:#e26f46; stroke-linecap:butt; stroke-linejoin:round; stroke-width:4; stroke-opacity:1; fill:none\" points=\"\n",
       "  1719.98,272.585 1864.38,272.585 \n",
       "  \"/>\n",
       "<path clip-path=\"url(#clip130)\" d=\"M1888.44 255.305 L1917.68 255.305 L1917.68 259.24 L1905.41 259.24 L1905.41 289.865 L1900.71 289.865 L1900.71 259.24 L1888.44 259.24 L1888.44 255.305 Z\" fill=\"#000000\" fill-rule=\"evenodd\" fill-opacity=\"1\" /><path clip-path=\"url(#clip130)\" d=\"M1930.06 267.92 Q1929.35 267.504 1928.49 267.318 Q1927.66 267.11 1926.64 267.11 Q1923.03 267.11 1921.08 269.471 Q1919.16 271.809 1919.16 276.207 L1919.16 289.865 L1914.88 289.865 L1914.88 263.939 L1919.16 263.939 L1919.16 267.967 Q1920.5 265.606 1922.66 264.471 Q1924.81 263.314 1927.89 263.314 Q1928.33 263.314 1928.86 263.383 Q1929.39 263.43 1930.04 263.545 L1930.06 267.92 Z\" fill=\"#000000\" fill-rule=\"evenodd\" fill-opacity=\"1\" /><path clip-path=\"url(#clip130)\" d=\"M1946.31 276.832 Q1941.15 276.832 1939.16 278.013 Q1937.17 279.193 1937.17 282.041 Q1937.17 284.309 1938.65 285.652 Q1940.16 286.971 1942.73 286.971 Q1946.27 286.971 1948.4 284.471 Q1950.55 281.948 1950.55 277.781 L1950.55 276.832 L1946.31 276.832 M1954.81 275.073 L1954.81 289.865 L1950.55 289.865 L1950.55 285.929 Q1949.09 288.291 1946.92 289.425 Q1944.74 290.536 1941.59 290.536 Q1937.61 290.536 1935.25 288.314 Q1932.91 286.068 1932.91 282.318 Q1932.91 277.943 1935.83 275.721 Q1938.77 273.499 1944.58 273.499 L1950.55 273.499 L1950.55 273.082 Q1950.55 270.143 1948.6 268.545 Q1946.68 266.925 1943.19 266.925 Q1940.97 266.925 1938.86 267.457 Q1936.75 267.99 1934.81 269.055 L1934.81 265.119 Q1937.15 264.217 1939.35 263.777 Q1941.54 263.314 1943.63 263.314 Q1949.25 263.314 1952.03 266.231 Q1954.81 269.147 1954.81 275.073 Z\" fill=\"#000000\" fill-rule=\"evenodd\" fill-opacity=\"1\" /><path clip-path=\"url(#clip130)\" d=\"M1963.58 263.939 L1967.84 263.939 L1967.84 289.865 L1963.58 289.865 L1963.58 263.939 M1963.58 253.846 L1967.84 253.846 L1967.84 259.24 L1963.58 259.24 L1963.58 253.846 Z\" fill=\"#000000\" fill-rule=\"evenodd\" fill-opacity=\"1\" /><path clip-path=\"url(#clip130)\" d=\"M1998.3 274.217 L1998.3 289.865 L1994.04 289.865 L1994.04 274.355 Q1994.04 270.675 1992.61 268.846 Q1991.17 267.018 1988.3 267.018 Q1984.85 267.018 1982.86 269.217 Q1980.87 271.416 1980.87 275.212 L1980.87 289.865 L1976.59 289.865 L1976.59 263.939 L1980.87 263.939 L1980.87 267.967 Q1982.4 265.629 1984.46 264.471 Q1986.54 263.314 1989.25 263.314 Q1993.72 263.314 1996.01 266.092 Q1998.3 268.846 1998.3 274.217 Z\" fill=\"#000000\" fill-rule=\"evenodd\" fill-opacity=\"1\" /><path clip-path=\"url(#clip130)\" d=\"M2033.6 259.911 L2027.26 277.11 L2039.97 277.11 L2033.6 259.911 M2030.97 255.305 L2036.27 255.305 L2049.44 289.865 L2044.58 289.865 L2041.43 280.999 L2025.85 280.999 L2022.7 289.865 L2017.77 289.865 L2030.97 255.305 Z\" fill=\"#000000\" fill-rule=\"evenodd\" fill-opacity=\"1\" /><path clip-path=\"url(#clip130)\" d=\"M2072.12 264.934 L2072.12 268.916 Q2070.32 267.92 2068.49 267.434 Q2066.68 266.925 2064.83 266.925 Q2060.69 266.925 2058.4 269.564 Q2056.1 272.18 2056.1 276.925 Q2056.1 281.67 2058.4 284.309 Q2060.69 286.925 2064.83 286.925 Q2066.68 286.925 2068.49 286.439 Q2070.32 285.929 2072.12 284.934 L2072.12 288.869 Q2070.34 289.703 2068.42 290.119 Q2066.52 290.536 2064.37 290.536 Q2058.51 290.536 2055.06 286.855 Q2051.61 283.175 2051.61 276.925 Q2051.61 270.582 2055.09 266.948 Q2058.58 263.314 2064.65 263.314 Q2066.61 263.314 2068.49 263.731 Q2070.36 264.124 2072.12 264.934 Z\" fill=\"#000000\" fill-rule=\"evenodd\" fill-opacity=\"1\" /><path clip-path=\"url(#clip130)\" d=\"M2098.19 264.934 L2098.19 268.916 Q2096.38 267.92 2094.55 267.434 Q2092.75 266.925 2090.9 266.925 Q2086.75 266.925 2084.46 269.564 Q2082.17 272.18 2082.17 276.925 Q2082.17 281.67 2084.46 284.309 Q2086.75 286.925 2090.9 286.925 Q2092.75 286.925 2094.55 286.439 Q2096.38 285.929 2098.19 284.934 L2098.19 288.869 Q2096.41 289.703 2094.48 290.119 Q2092.59 290.536 2090.43 290.536 Q2084.58 290.536 2081.13 286.855 Q2077.68 283.175 2077.68 276.925 Q2077.68 270.582 2081.15 266.948 Q2084.65 263.314 2090.71 263.314 Q2092.68 263.314 2094.55 263.731 Q2096.43 264.124 2098.19 264.934 Z\" fill=\"#000000\" fill-rule=\"evenodd\" fill-opacity=\"1\" /><path clip-path=\"url(#clip130)\" d=\"M2105.15 279.633 L2105.15 263.939 L2109.41 263.939 L2109.41 279.471 Q2109.41 283.152 2110.85 285.004 Q2112.28 286.832 2115.15 286.832 Q2118.6 286.832 2120.59 284.633 Q2122.61 282.434 2122.61 278.638 L2122.61 263.939 L2126.87 263.939 L2126.87 289.865 L2122.61 289.865 L2122.61 285.883 Q2121.06 288.244 2119 289.402 Q2116.96 290.536 2114.25 290.536 Q2109.78 290.536 2107.47 287.758 Q2105.15 284.98 2105.15 279.633 M2115.87 263.314 L2115.87 263.314 Z\" fill=\"#000000\" fill-rule=\"evenodd\" fill-opacity=\"1\" /><path clip-path=\"url(#clip130)\" d=\"M2150.66 267.92 Q2149.95 267.504 2149.09 267.318 Q2148.26 267.11 2147.24 267.11 Q2143.63 267.11 2141.68 269.471 Q2139.76 271.809 2139.76 276.207 L2139.76 289.865 L2135.48 289.865 L2135.48 263.939 L2139.76 263.939 L2139.76 267.967 Q2141.1 265.606 2143.26 264.471 Q2145.41 263.314 2148.49 263.314 Q2148.93 263.314 2149.46 263.383 Q2149.99 263.43 2150.64 263.545 L2150.66 267.92 Z\" fill=\"#000000\" fill-rule=\"evenodd\" fill-opacity=\"1\" /><path clip-path=\"url(#clip130)\" d=\"M2166.91 276.832 Q2161.75 276.832 2159.76 278.013 Q2157.77 279.193 2157.77 282.041 Q2157.77 284.309 2159.25 285.652 Q2160.76 286.971 2163.33 286.971 Q2166.87 286.971 2169 284.471 Q2171.15 281.948 2171.15 277.781 L2171.15 276.832 L2166.91 276.832 M2175.41 275.073 L2175.41 289.865 L2171.15 289.865 L2171.15 285.929 Q2169.69 288.291 2167.52 289.425 Q2165.34 290.536 2162.19 290.536 Q2158.21 290.536 2155.85 288.314 Q2153.51 286.068 2153.51 282.318 Q2153.51 277.943 2156.43 275.721 Q2159.37 273.499 2165.18 273.499 L2171.15 273.499 L2171.15 273.082 Q2171.15 270.143 2169.21 268.545 Q2167.28 266.925 2163.79 266.925 Q2161.57 266.925 2159.46 267.457 Q2157.35 267.99 2155.41 269.055 L2155.41 265.119 Q2157.75 264.217 2159.95 263.777 Q2162.15 263.314 2164.23 263.314 Q2169.85 263.314 2172.63 266.231 Q2175.41 269.147 2175.41 275.073 Z\" fill=\"#000000\" fill-rule=\"evenodd\" fill-opacity=\"1\" /><path clip-path=\"url(#clip130)\" d=\"M2202.84 264.934 L2202.84 268.916 Q2201.03 267.92 2199.21 267.434 Q2197.4 266.925 2195.55 266.925 Q2191.4 266.925 2189.11 269.564 Q2186.82 272.18 2186.82 276.925 Q2186.82 281.67 2189.11 284.309 Q2191.4 286.925 2195.55 286.925 Q2197.4 286.925 2199.21 286.439 Q2201.03 285.929 2202.84 284.934 L2202.84 288.869 Q2201.06 289.703 2199.14 290.119 Q2197.24 290.536 2195.09 290.536 Q2189.23 290.536 2185.78 286.855 Q2182.33 283.175 2182.33 276.925 Q2182.33 270.582 2185.8 266.948 Q2189.3 263.314 2195.36 263.314 Q2197.33 263.314 2199.21 263.731 Q2201.08 264.124 2202.84 264.934 Z\" fill=\"#000000\" fill-rule=\"evenodd\" fill-opacity=\"1\" /><path clip-path=\"url(#clip130)\" d=\"M2221.03 292.272 Q2219.23 296.902 2217.52 298.314 Q2215.8 299.726 2212.93 299.726 L2209.53 299.726 L2209.53 296.161 L2212.03 296.161 Q2213.79 296.161 2214.76 295.328 Q2215.73 294.494 2216.91 291.392 L2217.68 289.448 L2207.19 263.939 L2211.71 263.939 L2219.81 284.217 L2227.91 263.939 L2232.42 263.939 L2221.03 292.272 Z\" fill=\"#000000\" fill-rule=\"evenodd\" fill-opacity=\"1\" /><polyline clip-path=\"url(#clip130)\" style=\"stroke:#3da44d; stroke-linecap:butt; stroke-linejoin:round; stroke-width:4; stroke-opacity:1; fill:none\" points=\"\n",
       "  1719.98,324.425 1864.38,324.425 \n",
       "  \"/>\n",
       "<path clip-path=\"url(#clip130)\" d=\"M1888.44 307.145 L1917.68 307.145 L1917.68 311.08 L1905.41 311.08 L1905.41 341.705 L1900.71 341.705 L1900.71 311.08 L1888.44 311.08 L1888.44 307.145 Z\" fill=\"#000000\" fill-rule=\"evenodd\" fill-opacity=\"1\" /><path clip-path=\"url(#clip130)\" d=\"M1936.13 327.677 L1936.13 329.76 L1916.54 329.76 Q1916.82 334.158 1919.18 336.473 Q1921.57 338.765 1925.8 338.765 Q1928.26 338.765 1930.55 338.163 Q1932.86 337.561 1935.13 336.357 L1935.13 340.385 Q1932.84 341.357 1930.43 341.867 Q1928.03 342.376 1925.55 342.376 Q1919.35 342.376 1915.71 338.765 Q1912.1 335.154 1912.1 328.996 Q1912.1 322.631 1915.53 318.904 Q1918.98 315.154 1924.81 315.154 Q1930.04 315.154 1933.07 318.533 Q1936.13 321.89 1936.13 327.677 M1931.87 326.427 Q1931.82 322.932 1929.9 320.848 Q1928 318.765 1924.86 318.765 Q1921.29 318.765 1919.14 320.779 Q1917.01 322.793 1916.68 326.45 L1931.87 326.427 Z\" fill=\"#000000\" fill-rule=\"evenodd\" fill-opacity=\"1\" /><path clip-path=\"url(#clip130)\" d=\"M1959.65 316.543 L1959.65 320.571 Q1957.84 319.645 1955.9 319.182 Q1953.95 318.719 1951.87 318.719 Q1948.7 318.719 1947.1 319.691 Q1945.53 320.663 1945.53 322.608 Q1945.53 324.089 1946.66 324.945 Q1947.79 325.779 1951.22 326.543 L1952.68 326.867 Q1957.22 327.839 1959.11 329.621 Q1961.04 331.381 1961.04 334.552 Q1961.04 338.163 1958.17 340.269 Q1955.32 342.376 1950.32 342.376 Q1948.23 342.376 1945.97 341.959 Q1943.72 341.566 1941.22 340.756 L1941.22 336.357 Q1943.58 337.584 1945.87 338.209 Q1948.17 338.811 1950.41 338.811 Q1953.42 338.811 1955.04 337.793 Q1956.66 336.751 1956.66 334.876 Q1956.66 333.14 1955.48 332.214 Q1954.32 331.288 1950.36 330.432 L1948.88 330.084 Q1944.92 329.251 1943.17 327.538 Q1941.41 325.802 1941.41 322.793 Q1941.41 319.135 1944 317.145 Q1946.59 315.154 1951.36 315.154 Q1953.72 315.154 1955.8 315.501 Q1957.89 315.848 1959.65 316.543 Z\" fill=\"#000000\" fill-rule=\"evenodd\" fill-opacity=\"1\" /><path clip-path=\"url(#clip130)\" d=\"M1972.03 308.418 L1972.03 315.779 L1980.8 315.779 L1980.8 319.089 L1972.03 319.089 L1972.03 333.163 Q1972.03 336.334 1972.89 337.237 Q1973.77 338.14 1976.43 338.14 L1980.8 338.14 L1980.8 341.705 L1976.43 341.705 Q1971.5 341.705 1969.62 339.876 Q1967.75 338.024 1967.75 333.163 L1967.75 319.089 L1964.62 319.089 L1964.62 315.779 L1967.75 315.779 L1967.75 308.418 L1972.03 308.418 Z\" fill=\"#000000\" fill-rule=\"evenodd\" fill-opacity=\"1\" /><path clip-path=\"url(#clip130)\" d=\"M2001.66 307.145 L2021.52 307.145 L2021.52 311.08 L2006.34 311.08 L2006.34 321.265 L2020.04 321.265 L2020.04 325.2 L2006.34 325.2 L2006.34 341.705 L2001.66 341.705 L2001.66 307.145 Z\" fill=\"#000000\" fill-rule=\"evenodd\" fill-opacity=\"1\" /><path clip-path=\"url(#clip130)\" d=\"M2030.16 337.769 L2037.79 337.769 L2037.79 311.404 L2029.48 313.071 L2029.48 308.811 L2037.75 307.145 L2042.42 307.145 L2042.42 337.769 L2050.06 337.769 L2050.06 341.705 L2030.16 341.705 L2030.16 337.769 Z\" fill=\"#000000\" fill-rule=\"evenodd\" fill-opacity=\"1\" /><polyline clip-path=\"url(#clip130)\" style=\"stroke:#c271d2; stroke-linecap:butt; stroke-linejoin:round; stroke-width:4; stroke-opacity:1; fill:none\" points=\"\n",
       "  1719.98,376.265 1864.38,376.265 \n",
       "  \"/>\n",
       "<path clip-path=\"url(#clip130)\" d=\"M1888.44 358.985 L1917.68 358.985 L1917.68 362.92 L1905.41 362.92 L1905.41 393.545 L1900.71 393.545 L1900.71 362.92 L1888.44 362.92 L1888.44 358.985 Z\" fill=\"#000000\" fill-rule=\"evenodd\" fill-opacity=\"1\" /><path clip-path=\"url(#clip130)\" d=\"M1936.13 379.517 L1936.13 381.6 L1916.54 381.6 Q1916.82 385.998 1919.18 388.313 Q1921.57 390.605 1925.8 390.605 Q1928.26 390.605 1930.55 390.003 Q1932.86 389.401 1935.13 388.197 L1935.13 392.225 Q1932.84 393.197 1930.43 393.707 Q1928.03 394.216 1925.55 394.216 Q1919.35 394.216 1915.71 390.605 Q1912.1 386.994 1912.1 380.836 Q1912.1 374.471 1915.53 370.744 Q1918.98 366.994 1924.81 366.994 Q1930.04 366.994 1933.07 370.373 Q1936.13 373.73 1936.13 379.517 M1931.87 378.267 Q1931.82 374.772 1929.9 372.688 Q1928 370.605 1924.86 370.605 Q1921.29 370.605 1919.14 372.619 Q1917.01 374.633 1916.68 378.29 L1931.87 378.267 Z\" fill=\"#000000\" fill-rule=\"evenodd\" fill-opacity=\"1\" /><path clip-path=\"url(#clip130)\" d=\"M1959.65 368.383 L1959.65 372.411 Q1957.84 371.485 1955.9 371.022 Q1953.95 370.559 1951.87 370.559 Q1948.7 370.559 1947.1 371.531 Q1945.53 372.503 1945.53 374.448 Q1945.53 375.929 1946.66 376.785 Q1947.79 377.619 1951.22 378.383 L1952.68 378.707 Q1957.22 379.679 1959.11 381.461 Q1961.04 383.221 1961.04 386.392 Q1961.04 390.003 1958.17 392.109 Q1955.32 394.216 1950.32 394.216 Q1948.23 394.216 1945.97 393.799 Q1943.72 393.406 1941.22 392.596 L1941.22 388.197 Q1943.58 389.424 1945.87 390.049 Q1948.17 390.651 1950.41 390.651 Q1953.42 390.651 1955.04 389.633 Q1956.66 388.591 1956.66 386.716 Q1956.66 384.98 1955.48 384.054 Q1954.32 383.128 1950.36 382.272 L1948.88 381.924 Q1944.92 381.091 1943.17 379.378 Q1941.41 377.642 1941.41 374.633 Q1941.41 370.975 1944 368.985 Q1946.59 366.994 1951.36 366.994 Q1953.72 366.994 1955.8 367.341 Q1957.89 367.688 1959.65 368.383 Z\" fill=\"#000000\" fill-rule=\"evenodd\" fill-opacity=\"1\" /><path clip-path=\"url(#clip130)\" d=\"M1972.03 360.258 L1972.03 367.619 L1980.8 367.619 L1980.8 370.929 L1972.03 370.929 L1972.03 385.003 Q1972.03 388.174 1972.89 389.077 Q1973.77 389.98 1976.43 389.98 L1980.8 389.98 L1980.8 393.545 L1976.43 393.545 Q1971.5 393.545 1969.62 391.716 Q1967.75 389.864 1967.75 385.003 L1967.75 370.929 L1964.62 370.929 L1964.62 367.619 L1967.75 367.619 L1967.75 360.258 L1972.03 360.258 Z\" fill=\"#000000\" fill-rule=\"evenodd\" fill-opacity=\"1\" /><path clip-path=\"url(#clip130)\" d=\"M2006.34 362.827 L2006.34 375.813 L2012.22 375.813 Q2015.48 375.813 2017.26 374.123 Q2019.04 372.434 2019.04 369.309 Q2019.04 366.207 2017.26 364.517 Q2015.48 362.827 2012.22 362.827 L2006.34 362.827 M2001.66 358.985 L2012.22 358.985 Q2018.03 358.985 2020.99 361.624 Q2023.97 364.239 2023.97 369.309 Q2023.97 374.424 2020.99 377.04 Q2018.03 379.656 2012.22 379.656 L2006.34 379.656 L2006.34 393.545 L2001.66 393.545 L2001.66 358.985 Z\" fill=\"#000000\" fill-rule=\"evenodd\" fill-opacity=\"1\" /><path clip-path=\"url(#clip130)\" d=\"M2044.25 371.6 Q2043.53 371.184 2042.68 370.998 Q2041.85 370.79 2040.83 370.79 Q2037.22 370.79 2035.27 373.151 Q2033.35 375.489 2033.35 379.887 L2033.35 393.545 L2029.07 393.545 L2029.07 367.619 L2033.35 367.619 L2033.35 371.647 Q2034.69 369.286 2036.85 368.151 Q2039 366.994 2042.08 366.994 Q2042.52 366.994 2043.05 367.063 Q2043.58 367.11 2044.23 367.225 L2044.25 371.6 Z\" fill=\"#000000\" fill-rule=\"evenodd\" fill-opacity=\"1\" /><path clip-path=\"url(#clip130)\" d=\"M2069.85 379.517 L2069.85 381.6 L2050.27 381.6 Q2050.55 385.998 2052.91 388.313 Q2055.29 390.605 2059.53 390.605 Q2061.98 390.605 2064.28 390.003 Q2066.59 389.401 2068.86 388.197 L2068.86 392.225 Q2066.57 393.197 2064.16 393.707 Q2061.75 394.216 2059.28 394.216 Q2053.07 394.216 2049.44 390.605 Q2045.83 386.994 2045.83 380.836 Q2045.83 374.471 2049.25 370.744 Q2052.7 366.994 2058.53 366.994 Q2063.77 366.994 2066.8 370.373 Q2069.85 373.73 2069.85 379.517 M2065.59 378.267 Q2065.55 374.772 2063.63 372.688 Q2061.73 370.605 2058.58 370.605 Q2055.02 370.605 2052.86 372.619 Q2050.73 374.633 2050.41 378.29 L2065.59 378.267 Z\" fill=\"#000000\" fill-rule=\"evenodd\" fill-opacity=\"1\" /><path clip-path=\"url(#clip130)\" d=\"M2095.5 368.614 L2095.5 372.596 Q2093.7 371.6 2091.87 371.114 Q2090.06 370.605 2088.21 370.605 Q2084.07 370.605 2081.78 373.244 Q2079.48 375.86 2079.48 380.605 Q2079.48 385.35 2081.78 387.989 Q2084.07 390.605 2088.21 390.605 Q2090.06 390.605 2091.87 390.119 Q2093.7 389.609 2095.5 388.614 L2095.5 392.549 Q2093.72 393.383 2091.8 393.799 Q2089.9 394.216 2087.75 394.216 Q2081.89 394.216 2078.44 390.535 Q2074.99 386.855 2074.99 380.605 Q2074.99 374.262 2078.47 370.628 Q2081.96 366.994 2088.03 366.994 Q2089.99 366.994 2091.87 367.411 Q2093.74 367.804 2095.5 368.614 Z\" fill=\"#000000\" fill-rule=\"evenodd\" fill-opacity=\"1\" /><path clip-path=\"url(#clip130)\" d=\"M2102.91 367.619 L2107.17 367.619 L2107.17 393.545 L2102.91 393.545 L2102.91 367.619 M2102.91 357.526 L2107.17 357.526 L2107.17 362.92 L2102.91 362.92 L2102.91 357.526 Z\" fill=\"#000000\" fill-rule=\"evenodd\" fill-opacity=\"1\" /><path clip-path=\"url(#clip130)\" d=\"M2132.61 368.383 L2132.61 372.411 Q2130.8 371.485 2128.86 371.022 Q2126.91 370.559 2124.83 370.559 Q2121.66 370.559 2120.06 371.531 Q2118.49 372.503 2118.49 374.448 Q2118.49 375.929 2119.62 376.785 Q2120.76 377.619 2124.18 378.383 L2125.64 378.707 Q2130.18 379.679 2132.08 381.461 Q2134 383.221 2134 386.392 Q2134 390.003 2131.13 392.109 Q2128.28 394.216 2123.28 394.216 Q2121.2 394.216 2118.93 393.799 Q2116.68 393.406 2114.18 392.596 L2114.18 388.197 Q2116.54 389.424 2118.84 390.049 Q2121.13 390.651 2123.37 390.651 Q2126.38 390.651 2128 389.633 Q2129.62 388.591 2129.62 386.716 Q2129.62 384.98 2128.44 384.054 Q2127.28 383.128 2123.33 382.272 L2121.84 381.924 Q2117.89 381.091 2116.13 379.378 Q2114.37 377.642 2114.37 374.633 Q2114.37 370.975 2116.96 368.985 Q2119.55 366.994 2124.32 366.994 Q2126.68 366.994 2128.77 367.341 Q2130.85 367.688 2132.61 368.383 Z\" fill=\"#000000\" fill-rule=\"evenodd\" fill-opacity=\"1\" /><path clip-path=\"url(#clip130)\" d=\"M2140.78 367.619 L2145.04 367.619 L2145.04 393.545 L2140.78 393.545 L2140.78 367.619 M2140.78 357.526 L2145.04 357.526 L2145.04 362.92 L2140.78 362.92 L2140.78 357.526 Z\" fill=\"#000000\" fill-rule=\"evenodd\" fill-opacity=\"1\" /><path clip-path=\"url(#clip130)\" d=\"M2164 370.605 Q2160.57 370.605 2158.58 373.29 Q2156.59 375.952 2156.59 380.605 Q2156.59 385.258 2158.56 387.943 Q2160.55 390.605 2164 390.605 Q2167.4 390.605 2169.39 387.92 Q2171.38 385.235 2171.38 380.605 Q2171.38 375.998 2169.39 373.313 Q2167.4 370.605 2164 370.605 M2164 366.994 Q2169.55 366.994 2172.72 370.605 Q2175.9 374.216 2175.9 380.605 Q2175.9 386.971 2172.72 390.605 Q2169.55 394.216 2164 394.216 Q2158.42 394.216 2155.25 390.605 Q2152.1 386.971 2152.1 380.605 Q2152.1 374.216 2155.25 370.605 Q2158.42 366.994 2164 366.994 Z\" fill=\"#000000\" fill-rule=\"evenodd\" fill-opacity=\"1\" /><path clip-path=\"url(#clip130)\" d=\"M2204.51 377.897 L2204.51 393.545 L2200.25 393.545 L2200.25 378.035 Q2200.25 374.355 2198.81 372.526 Q2197.38 370.698 2194.51 370.698 Q2191.06 370.698 2189.07 372.897 Q2187.08 375.096 2187.08 378.892 L2187.08 393.545 L2182.79 393.545 L2182.79 367.619 L2187.08 367.619 L2187.08 371.647 Q2188.6 369.309 2190.66 368.151 Q2192.75 366.994 2195.46 366.994 Q2199.92 366.994 2202.21 369.772 Q2204.51 372.526 2204.51 377.897 Z\" fill=\"#000000\" fill-rule=\"evenodd\" fill-opacity=\"1\" /><polyline clip-path=\"url(#clip130)\" style=\"stroke:#ac8d18; stroke-linecap:butt; stroke-linejoin:round; stroke-width:4; stroke-opacity:1; fill:none\" points=\"\n",
       "  1719.98,428.105 1864.38,428.105 \n",
       "  \"/>\n",
       "<path clip-path=\"url(#clip130)\" d=\"M1888.44 410.825 L1917.68 410.825 L1917.68 414.76 L1905.41 414.76 L1905.41 445.385 L1900.71 445.385 L1900.71 414.76 L1888.44 414.76 L1888.44 410.825 Z\" fill=\"#000000\" fill-rule=\"evenodd\" fill-opacity=\"1\" /><path clip-path=\"url(#clip130)\" d=\"M1936.13 431.357 L1936.13 433.44 L1916.54 433.44 Q1916.82 437.838 1919.18 440.153 Q1921.57 442.445 1925.8 442.445 Q1928.26 442.445 1930.55 441.843 Q1932.86 441.241 1935.13 440.037 L1935.13 444.065 Q1932.84 445.037 1930.43 445.547 Q1928.03 446.056 1925.55 446.056 Q1919.35 446.056 1915.71 442.445 Q1912.1 438.834 1912.1 432.676 Q1912.1 426.311 1915.53 422.584 Q1918.98 418.834 1924.81 418.834 Q1930.04 418.834 1933.07 422.213 Q1936.13 425.57 1936.13 431.357 M1931.87 430.107 Q1931.82 426.612 1929.9 424.528 Q1928 422.445 1924.86 422.445 Q1921.29 422.445 1919.14 424.459 Q1917.01 426.473 1916.68 430.13 L1931.87 430.107 Z\" fill=\"#000000\" fill-rule=\"evenodd\" fill-opacity=\"1\" /><path clip-path=\"url(#clip130)\" d=\"M1959.65 420.223 L1959.65 424.251 Q1957.84 423.325 1955.9 422.862 Q1953.95 422.399 1951.87 422.399 Q1948.7 422.399 1947.1 423.371 Q1945.53 424.343 1945.53 426.288 Q1945.53 427.769 1946.66 428.625 Q1947.79 429.459 1951.22 430.223 L1952.68 430.547 Q1957.22 431.519 1959.11 433.301 Q1961.04 435.061 1961.04 438.232 Q1961.04 441.843 1958.17 443.949 Q1955.32 446.056 1950.32 446.056 Q1948.23 446.056 1945.97 445.639 Q1943.72 445.246 1941.22 444.436 L1941.22 440.037 Q1943.58 441.264 1945.87 441.889 Q1948.17 442.491 1950.41 442.491 Q1953.42 442.491 1955.04 441.473 Q1956.66 440.431 1956.66 438.556 Q1956.66 436.82 1955.48 435.894 Q1954.32 434.968 1950.36 434.112 L1948.88 433.764 Q1944.92 432.931 1943.17 431.218 Q1941.41 429.482 1941.41 426.473 Q1941.41 422.815 1944 420.825 Q1946.59 418.834 1951.36 418.834 Q1953.72 418.834 1955.8 419.181 Q1957.89 419.528 1959.65 420.223 Z\" fill=\"#000000\" fill-rule=\"evenodd\" fill-opacity=\"1\" /><path clip-path=\"url(#clip130)\" d=\"M1972.03 412.098 L1972.03 419.459 L1980.8 419.459 L1980.8 422.769 L1972.03 422.769 L1972.03 436.843 Q1972.03 440.014 1972.89 440.917 Q1973.77 441.82 1976.43 441.82 L1980.8 441.82 L1980.8 445.385 L1976.43 445.385 Q1971.5 445.385 1969.62 443.556 Q1967.75 441.704 1967.75 436.843 L1967.75 422.769 L1964.62 422.769 L1964.62 419.459 L1967.75 419.459 L1967.75 412.098 L1972.03 412.098 Z\" fill=\"#000000\" fill-rule=\"evenodd\" fill-opacity=\"1\" /><path clip-path=\"url(#clip130)\" d=\"M2018.05 429.181 Q2019.55 429.69 2020.97 431.357 Q2022.4 433.024 2023.84 435.94 L2028.58 445.385 L2023.56 445.385 L2019.14 436.519 Q2017.42 433.047 2015.8 431.913 Q2014.21 430.778 2011.43 430.778 L2006.34 430.778 L2006.34 445.385 L2001.66 445.385 L2001.66 410.825 L2012.22 410.825 Q2018.14 410.825 2021.06 413.301 Q2023.97 415.778 2023.97 420.778 Q2023.97 424.042 2022.45 426.195 Q2020.94 428.348 2018.05 429.181 M2006.34 414.667 L2006.34 426.936 L2012.22 426.936 Q2015.6 426.936 2017.31 425.385 Q2019.04 423.811 2019.04 420.778 Q2019.04 417.746 2017.31 416.218 Q2015.6 414.667 2012.22 414.667 L2006.34 414.667 Z\" fill=\"#000000\" fill-rule=\"evenodd\" fill-opacity=\"1\" /><path clip-path=\"url(#clip130)\" d=\"M2054.46 431.357 L2054.46 433.44 L2034.88 433.44 Q2035.16 437.838 2037.52 440.153 Q2039.9 442.445 2044.14 442.445 Q2046.59 442.445 2048.88 441.843 Q2051.2 441.241 2053.47 440.037 L2053.47 444.065 Q2051.17 445.037 2048.77 445.547 Q2046.36 446.056 2043.88 446.056 Q2037.68 446.056 2034.04 442.445 Q2030.43 438.834 2030.43 432.676 Q2030.43 426.311 2033.86 422.584 Q2037.31 418.834 2043.14 418.834 Q2048.37 418.834 2051.41 422.213 Q2054.46 425.57 2054.46 431.357 M2050.2 430.107 Q2050.16 426.612 2048.23 424.528 Q2046.34 422.445 2043.19 422.445 Q2039.62 422.445 2037.47 424.459 Q2035.34 426.473 2035.02 430.13 L2050.2 430.107 Z\" fill=\"#000000\" fill-rule=\"evenodd\" fill-opacity=\"1\" /><path clip-path=\"url(#clip130)\" d=\"M2080.11 420.454 L2080.11 424.436 Q2078.3 423.44 2076.47 422.954 Q2074.67 422.445 2072.82 422.445 Q2068.67 422.445 2066.38 425.084 Q2064.09 427.7 2064.09 432.445 Q2064.09 437.19 2066.38 439.829 Q2068.67 442.445 2072.82 442.445 Q2074.67 442.445 2076.47 441.959 Q2078.3 441.449 2080.11 440.454 L2080.11 444.389 Q2078.33 445.223 2076.41 445.639 Q2074.51 446.056 2072.35 446.056 Q2066.5 446.056 2063.05 442.375 Q2059.6 438.695 2059.6 432.445 Q2059.6 426.102 2063.07 422.468 Q2066.57 418.834 2072.63 418.834 Q2074.6 418.834 2076.47 419.251 Q2078.35 419.644 2080.11 420.454 Z\" fill=\"#000000\" fill-rule=\"evenodd\" fill-opacity=\"1\" /><path clip-path=\"url(#clip130)\" d=\"M2099.3 432.352 Q2094.14 432.352 2092.15 433.533 Q2090.16 434.713 2090.16 437.561 Q2090.16 439.829 2091.64 441.172 Q2093.14 442.491 2095.71 442.491 Q2099.25 442.491 2101.38 439.991 Q2103.53 437.468 2103.53 433.301 L2103.53 432.352 L2099.3 432.352 M2107.79 430.593 L2107.79 445.385 L2103.53 445.385 L2103.53 441.449 Q2102.08 443.811 2099.9 444.945 Q2097.72 446.056 2094.58 446.056 Q2090.59 446.056 2088.23 443.834 Q2085.9 441.588 2085.9 437.838 Q2085.9 433.463 2088.81 431.241 Q2091.75 429.019 2097.56 429.019 L2103.53 429.019 L2103.53 428.602 Q2103.53 425.663 2101.59 424.065 Q2099.67 422.445 2096.17 422.445 Q2093.95 422.445 2091.84 422.977 Q2089.74 423.51 2087.79 424.575 L2087.79 420.639 Q2090.13 419.737 2092.33 419.297 Q2094.53 418.834 2096.61 418.834 Q2102.24 418.834 2105.02 421.751 Q2107.79 424.667 2107.79 430.593 Z\" fill=\"#000000\" fill-rule=\"evenodd\" fill-opacity=\"1\" /><path clip-path=\"url(#clip130)\" d=\"M2116.57 409.366 L2120.83 409.366 L2120.83 445.385 L2116.57 445.385 L2116.57 409.366 Z\" fill=\"#000000\" fill-rule=\"evenodd\" fill-opacity=\"1\" /><path clip-path=\"url(#clip130)\" d=\"M2129.74 409.366 L2134 409.366 L2134 445.385 L2129.74 445.385 L2129.74 409.366 Z\" fill=\"#000000\" fill-rule=\"evenodd\" fill-opacity=\"1\" /></svg>\n"
      ]
     },
     "execution_count": 23,
     "metadata": {},
     "output_type": "execute_result"
    }
   ],
   "source": [
    "# Plot test and train accuracy, precision, recall, f1-score\n",
    "plot(1:args.epochs, arr_test_performance[:,2], labels= \"Test Accuracy\")\n",
    "plot!(1:args.epochs, arr_train_performance[:,2], labels= \"Train Accuracy\")\n",
    "plot!(1:args.epochs, arr_test_performance[:,3], labels= \"Test F1\")\n",
    "plot!(1:args.epochs, arr_test_performance[:,4], labels= \"Test Precision\")\n",
    "plot!(1:args.epochs, arr_test_performance[:,5], labels= \"Test Recall\")\n",
    "title!(\"Test and Train accuracy\")"
   ]
  },
  {
   "cell_type": "markdown",
   "id": "2ce3d5e4-cfb9-4bce-93d9-85070e4b53d6",
   "metadata": {},
   "source": [
    "# Loss and accuracy analysis\n",
    "\n",
    "Compute the epochs when loss is minimized and accuracy is maximized"
   ]
  },
  {
   "cell_type": "code",
   "execution_count": 24,
   "id": "29746f3b-eab7-4109-9b87-6d5293a1ebc8",
   "metadata": {},
   "outputs": [
    {
     "data": {
      "text/plain": [
       "2.2309682369232178"
      ]
     },
     "execution_count": 24,
     "metadata": {},
     "output_type": "execute_result"
    }
   ],
   "source": [
    "# minimum test_loss\n",
    "minimum(arr_test_performance[:,1])"
   ]
  },
  {
   "cell_type": "code",
   "execution_count": 25,
   "id": "8f1674b3",
   "metadata": {},
   "outputs": [
    {
     "data": {
      "text/plain": [
       "50"
      ]
     },
     "execution_count": 25,
     "metadata": {},
     "output_type": "execute_result"
    }
   ],
   "source": [
    "# epochs when minimum test_loss occurs\n",
    "argmin(arr_test_performance[:,1])"
   ]
  },
  {
   "cell_type": "code",
   "execution_count": 26,
   "id": "fb21f749",
   "metadata": {},
   "outputs": [
    {
     "data": {
      "text/plain": [
       "0.05842018650575974"
      ]
     },
     "execution_count": 26,
     "metadata": {},
     "output_type": "execute_result"
    }
   ],
   "source": [
    "# maximum test_accuracy\n",
    "maximum(arr_test_performance[:,2])"
   ]
  },
  {
   "cell_type": "code",
   "execution_count": 27,
   "id": "dc202dfc",
   "metadata": {},
   "outputs": [
    {
     "data": {
      "text/plain": [
       "1"
      ]
     },
     "execution_count": 27,
     "metadata": {},
     "output_type": "execute_result"
    }
   ],
   "source": [
    "# epochs when maximum test_accuracy occurs\n",
    "argmax(arr_test_performance[:,2]) "
   ]
  }
 ],
 "metadata": {
  "kernelspec": {
   "display_name": "Julia 1.6.2",
   "language": "julia",
   "name": "julia-1.6"
  },
  "language_info": {
   "file_extension": ".jl",
   "mimetype": "application/julia",
   "name": "julia",
   "version": "1.6.2"
  }
 },
 "nbformat": 4,
 "nbformat_minor": 5
}
