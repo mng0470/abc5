{
 "cells": [
  {
   "cell_type": "markdown",
   "metadata": {
    "id": "NXDXEOm8T2wd"
   },
   "source": [
    "# Welcome to the session 8 Introduction to Julia!\n",
    "This jupyter notebook will contains examples, tutorials and execises.\n",
    "\n",
    "The order of the code cell is refering to the text tutorials and lecture video. Please execute the cells one-by-one \n",
    "instead of run the whole notebook"
   ]
  },
  {
   "cell_type": "markdown",
   "metadata": {
    "id": "l1UscDt3T2wh"
   },
   "source": [
    "## Overview of Julia\n",
    "\"Hello, World!\" program is a computer program that outputs or displays the message \"Hello, World!\". It is the very simple program in most programming languages.\n",
    "\n",
    "The following is the \"Hello World\" program in Julia"
   ]
  },
  {
   "cell_type": "code",
   "execution_count": null,
   "metadata": {
    "id": "trSC6CnUT2wi",
    "scrolled": true
   },
   "outputs": [],
   "source": [
    "print(\"Hello World\")"
   ]
  },
  {
   "cell_type": "markdown",
   "metadata": {
    "id": "nsf7gIiRT2wi"
   },
   "source": [
    "### Valid and Invalid names in Julia\n",
    "Julia supports using non-english characters(in UTF-8 encoding) as the variable names. The following are the examples of valid and invalid names in Julia"
   ]
  },
  {
   "cell_type": "markdown",
   "metadata": {
    "id": "VEDMnJuKT2wj"
   },
   "source": [
    "Valid variables"
   ]
  },
  {
   "cell_type": "code",
   "execution_count": null,
   "metadata": {
    "id": "PnM3Yxb2T2wj"
   },
   "outputs": [],
   "source": [
    "abc = 1"
   ]
  },
  {
   "cell_type": "code",
   "execution_count": null,
   "metadata": {
    "id": "BDIwoHsQT2wj"
   },
   "outputs": [],
   "source": [
    "_abc = 2"
   ]
  },
  {
   "cell_type": "code",
   "execution_count": null,
   "metadata": {
    "id": "wXiHOJSYT2wj"
   },
   "outputs": [],
   "source": [
    "abc!123 = 3"
   ]
  },
  {
   "cell_type": "code",
   "execution_count": null,
   "metadata": {
    "id": "6y-srlyET2wk"
   },
   "outputs": [],
   "source": [
    "δ = 4"
   ]
  },
  {
   "cell_type": "code",
   "execution_count": null,
   "metadata": {
    "id": "EXu1jnGdT2wk"
   },
   "outputs": [],
   "source": [
    "안녕하세요abc123!δ = 5"
   ]
  },
  {
   "cell_type": "markdown",
   "metadata": {
    "id": "UHImEw10T2wk"
   },
   "source": [
    "Invalid variables"
   ]
  },
  {
   "cell_type": "code",
   "execution_count": null,
   "metadata": {
    "id": "YMumgxgoT2wk"
   },
   "outputs": [],
   "source": [
    "!abc = 1"
   ]
  },
  {
   "cell_type": "code",
   "execution_count": null,
   "metadata": {
    "id": "Fxs3dZl6T2wl"
   },
   "outputs": [],
   "source": [
    "123abc = 2"
   ]
  },
  {
   "cell_type": "code",
   "execution_count": null,
   "metadata": {
    "id": "7WGgfAkpT2wl"
   },
   "outputs": [],
   "source": [
    "try = 3"
   ]
  },
  {
   "cell_type": "markdown",
   "metadata": {
    "id": "cfgxeXatT2wl"
   },
   "source": [
    "#### Execise 1:\n",
    "Try to create a variable, and run the cell to check the answer"
   ]
  },
  {
   "cell_type": "code",
   "execution_count": null,
   "metadata": {
    "id": "u36yz2lyT2wl"
   },
   "outputs": [],
   "source": []
  },
  {
   "cell_type": "markdown",
   "metadata": {},
   "source": [
    "If there are no errors, you have created a valid variable!!!"
   ]
  },
  {
   "cell_type": "markdown",
   "metadata": {},
   "source": [
    "## Operators in Julia\n",
    "There are three types of operators in Julia:\n",
    "1. Arithmetic Operators\n",
    "2. Bitwise Operators\n",
    "3. Updating operators"
   ]
  },
  {
   "cell_type": "markdown",
   "metadata": {
    "id": "MELc2BkRT2wm"
   },
   "source": [
    "Example: How many seconds are there in 42 minutes 42 seconds?"
   ]
  },
  {
   "cell_type": "code",
   "execution_count": 1,
   "metadata": {
    "id": "L2fz-11mT2wm"
   },
   "outputs": [
    {
     "data": {
      "text/plain": [
       "2562"
      ]
     },
     "execution_count": 1,
     "metadata": {},
     "output_type": "execute_result"
    }
   ],
   "source": [
    "42*60 + 42"
   ]
  },
  {
   "cell_type": "markdown",
   "metadata": {
    "id": "7WwOPZcwT2wm"
   },
   "source": [
    "### Exercise2"
   ]
  },
  {
   "cell_type": "markdown",
   "metadata": {},
   "source": [
    "If you run a 10-kilometer race in 40 minutes, What is your average speed in kilometer per hour?"
   ]
  },
  {
   "cell_type": "code",
   "execution_count": 8,
   "metadata": {
    "id": "t3-E-x-iT2wm"
   },
   "outputs": [
    {
     "data": {
      "text/plain": [
       "15.0"
      ]
     },
     "execution_count": 8,
     "metadata": {},
     "output_type": "execute_result"
    }
   ],
   "source": []
  },
  {
   "cell_type": "markdown",
   "metadata": {
    "id": "8uuJaSYBT2wn"
   },
   "source": [
    "## Data Types in Julia\n",
    "### Primitive Types\n",
    "Each variable has their own data type. Julia is a dynamically typed language and the language will decide the data type of a variable.\n",
    "\n",
    "The following are the examples of different data types"
   ]
  },
  {
   "cell_type": "markdown",
   "metadata": {
    "id": "8csAtbmGT2wr"
   },
   "source": [
    "### Signed Integer\n",
    "Store data in two’s complement\n",
    "Types(Range): \n",
    "Int8\t\t(-128 to 127) \n",
    "Int16\t(-32,768 to 32,767) \n",
    "Int32\t(-2,147,483,648 to 2,147,483,647) \n",
    "Int64\t(-9,223,372,036,854,775,808 to 9,223,372,036,854,775,807) \n",
    "Int128\t(−170,141,183,460,469,231,731,687,303,715,884,105,728 to  170,141,183,460,469,231,731,687,303,715,884,105,727) \n",
    "The most commonly used is Int64"
   ]
  },
  {
   "cell_type": "code",
   "execution_count": 9,
   "metadata": {},
   "outputs": [
    {
     "name": "stdout",
     "output_type": "stream",
     "text": [
      "Signed Integer example: 123\n",
      "Int64\n"
     ]
    }
   ],
   "source": [
    "println(\"Signed Integer example: 123\")\n",
    "println(typeof(123))"
   ]
  },
  {
   "cell_type": "markdown",
   "metadata": {
    "id": "8csAtbmGT2wr"
   },
   "source": [
    "### Float\n",
    "Store data with IEEE 754 standard, it has some limitation, cannot store too precise numbers"
   ]
  },
  {
   "cell_type": "code",
   "execution_count": 10,
   "metadata": {},
   "outputs": [
    {
     "name": "stdout",
     "output_type": "stream",
     "text": [
      "Float example: 123.0\n",
      "Float64\n"
     ]
    }
   ],
   "source": [
    "println(\"Float example: 123.0\")\n",
    "println(typeof(123.0))"
   ]
  },
  {
   "cell_type": "markdown",
   "metadata": {
    "id": "8csAtbmGT2wr"
   },
   "source": [
    "### bool(ean)\n",
    "Using 8-bits (1 byte) \n",
    "Store True or False"
   ]
  },
  {
   "cell_type": "code",
   "execution_count": 11,
   "metadata": {},
   "outputs": [
    {
     "name": "stdout",
     "output_type": "stream",
     "text": [
      "Boolean example: true\n",
      "Bool\n"
     ]
    }
   ],
   "source": [
    "println(\"Boolean example: true\")\n",
    "println(typeof(true))"
   ]
  },
  {
   "cell_type": "markdown",
   "metadata": {
    "id": "8csAtbmGT2wr"
   },
   "source": [
    "### Character\n",
    "Using ASCII and UTF-8 \n",
    "1-4 bytes to store a singer character \n",
    "Stored by type Char\n",
    "Use a single quote to wrap the character \n",
    "Julia will decide the type"
   ]
  },
  {
   "cell_type": "code",
   "execution_count": 12,
   "metadata": {},
   "outputs": [
    {
     "name": "stdout",
     "output_type": "stream",
     "text": [
      "Character example: 我\n",
      "Char\n"
     ]
    }
   ],
   "source": [
    "println(\"Character example: 我\")\n",
    "println(typeof('我'))"
   ]
  },
  {
   "cell_type": "markdown",
   "metadata": {
    "id": "8csAtbmGT2wr"
   },
   "source": [
    "### String\n",
    "String is a sequence of characters. In Julia, string is wrapped by double quotes or triple double quotes."
   ]
  },
  {
   "cell_type": "code",
   "execution_count": 13,
   "metadata": {},
   "outputs": [
    {
     "name": "stdout",
     "output_type": "stream",
     "text": [
      "String example: \"123\"\n",
      "String\n"
     ]
    }
   ],
   "source": [
    "println(\"String example: \\\"123\\\"\")\n",
    "println(typeof(\"123\"))"
   ]
  },
  {
   "cell_type": "markdown",
   "metadata": {},
   "source": [
    "If we need to print multi lines for a single string, we need to use '\\n'(New line character)"
   ]
  },
  {
   "cell_type": "code",
   "execution_count": null,
   "metadata": {},
   "outputs": [],
   "source": [
    "print(\"Hello\\n\\n\\n\\nWorld\")"
   ]
  },
  {
   "cell_type": "markdown",
   "metadata": {
    "id": "m8wnByK1T2wn"
   },
   "source": [
    "### The example of convert function"
   ]
  },
  {
   "cell_type": "code",
   "execution_count": 14,
   "metadata": {
    "id": "N7atlhgdT2wn"
   },
   "outputs": [
    {
     "name": "stdout",
     "output_type": "stream",
     "text": [
      "The original type of a:\n",
      "Int64\n",
      "The type of a after convert:\n",
      "Float64\n"
     ]
    }
   ],
   "source": [
    "a = 123\n",
    "println(\"The original type of a:\")\n",
    "println(typeof(a))\n",
    "println(\"The type of a after convert:\")\n",
    "a = convert(Float64,a)\n",
    "println(typeof(a))"
   ]
  },
  {
   "cell_type": "markdown",
   "metadata": {
    "id": "kYgzjGzBT2wo"
   },
   "source": [
    "### Composite Types\n",
    "Composite type is one of the user-defined types in Julia. Composite type is a collection of variables, which means that it groups items of variant types into a single type.\n",
    "\n",
    "It is usaully to represent subordinate relationship or attributes of a object, For example:\n",
    "A student have the name and id. Name and id are belongs to the student"
   ]
  },
  {
   "cell_type": "markdown",
   "metadata": {
    "id": "zk1X9X6mT2wo"
   },
   "source": [
    "We will use the keyword \"struct\" to define a composite type"
   ]
  },
  {
   "cell_type": "markdown",
   "metadata": {
    "id": "qQj0qpLNT2wo"
   },
   "source": [
    "It is the example to create a composite called Student and create the variable called alice which is the type of Student:"
   ]
  },
  {
   "cell_type": "code",
   "execution_count": null,
   "metadata": {
    "id": "zGhGtmSlT2wo"
   },
   "outputs": [],
   "source": [
    "struct Student\n",
    "name\n",
    "id\n",
    "end"
   ]
  },
  {
   "cell_type": "code",
   "execution_count": null,
   "metadata": {
    "id": "CxfYZor_T2wo"
   },
   "outputs": [],
   "source": [
    "alice = Student(\"Alice\",1)"
   ]
  },
  {
   "cell_type": "markdown",
   "metadata": {
    "id": "E-6gzfPdT2wp"
   },
   "source": [
    "If we need to access the variable inside the composite type, use dot"
   ]
  },
  {
   "cell_type": "code",
   "execution_count": null,
   "metadata": {
    "id": "byRNJ16YT2wp"
   },
   "outputs": [],
   "source": [
    "println(\"Name:\")\n",
    "println(alice.name)\n",
    "println(\"ID:\")\n",
    "println(alice.id)"
   ]
  },
  {
   "cell_type": "markdown",
   "metadata": {
    "id": "BwiG8Ea2T2wp"
   },
   "source": [
    "The composite type is immutable, we cannot change the value after we create the variable"
   ]
  },
  {
   "cell_type": "code",
   "execution_count": null,
   "metadata": {
    "id": "JLb5zdRvT2wp"
   },
   "outputs": [],
   "source": [
    "alice.id=2"
   ]
  },
  {
   "cell_type": "markdown",
   "metadata": {
    "id": "2vLMrsOQT2wp"
   },
   "source": [
    "If you need to mutable composite type, you can add the keyword \"mutable\".\n",
    "Also, you may restrict the type of variable using :: operator."
   ]
  },
  {
   "cell_type": "code",
   "execution_count": null,
   "metadata": {
    "id": "GM3ptgAsT2wq"
   },
   "outputs": [],
   "source": [
    "mutable struct MutableStudent\n",
    "name::String\n",
    "id\n",
    "end"
   ]
  },
  {
   "cell_type": "code",
   "execution_count": null,
   "metadata": {
    "id": "qZhNuJD4T2wq"
   },
   "outputs": [],
   "source": [
    "bob = MutableStudent(\"Alice\",2)"
   ]
  },
  {
   "cell_type": "code",
   "execution_count": null,
   "metadata": {
    "id": "dFINX4OAT2wq"
   },
   "outputs": [],
   "source": [
    "bob.name = \"Bob\""
   ]
  },
  {
   "cell_type": "markdown",
   "metadata": {
    "id": "pIOTlmUdT2wq"
   },
   "source": [
    "and it will cause error if  the type is not match"
   ]
  },
  {
   "cell_type": "code",
   "execution_count": null,
   "metadata": {
    "id": "mNRMY7OXT2wq"
   },
   "outputs": [],
   "source": [
    "bob.name=123"
   ]
  },
  {
   "cell_type": "markdown",
   "metadata": {
    "id": "RBrXuINwT2wq"
   },
   "source": [
    "#### Exercise 3:"
   ]
  },
  {
   "cell_type": "markdown",
   "metadata": {
    "id": "RW5cS4fjT2wr"
   },
   "source": [
    "Create a mutable composite type called Class, with 2 variables name(which should be a String) and class_size(should be a Int8)"
   ]
  },
  {
   "cell_type": "code",
   "execution_count": null,
   "metadata": {
    "id": "RdtIehFzT2wr"
   },
   "outputs": [],
   "source": []
  },
  {
   "cell_type": "markdown",
   "metadata": {
    "id": "LaPiKk3GT2wr"
   },
   "source": [
    "Try to execute the following cell and check the result"
   ]
  },
  {
   "cell_type": "code",
   "execution_count": null,
   "metadata": {
    "id": "eRqNIV8eT2wr"
   },
   "outputs": [],
   "source": [
    "class = Class(\"1A\",30)\n",
    "class.class_size = 20\n",
    "println(\"The mutable composite type is correct\")\n",
    "try\n",
    "    class.name = 123\n",
    "    class.class_size = \"abc\"\n",
    "    println(\"Type checking is missing\")\n",
    "catch e\n",
    "    println(\"Type checking is correct\")\n",
    "end"
   ]
  }
 ],
 "metadata": {
  "colab": {
   "name": "Week1.ipynb",
   "provenance": []
  },
  "kernelspec": {
   "display_name": "Julia 1.6.2",
   "language": "julia",
   "name": "julia-1.6"
  },
  "language_info": {
   "file_extension": ".jl",
   "mimetype": "application/julia",
   "name": "julia",
   "version": "1.6.2"
  }
 },
 "nbformat": 4,
 "nbformat_minor": 1
}
